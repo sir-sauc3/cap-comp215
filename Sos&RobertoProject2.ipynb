{
  "nbformat": 4,
  "nbformat_minor": 0,
  "metadata": {
    "colab": {
      "provenance": [],
      "authorship_tag": "ABX9TyN52HLmk407VFkYT9F3+AQQ",
      "include_colab_link": true
    },
    "kernelspec": {
      "name": "python3",
      "display_name": "Python 3"
    },
    "language_info": {
      "name": "python"
    }
  },
  "cells": [
    {
      "cell_type": "markdown",
      "metadata": {
        "id": "view-in-github",
        "colab_type": "text"
      },
      "source": [
        "<a href=\"https://colab.research.google.com/github/sir-sauc3/cap-comp215/blob/main/Sos%26RobertoProject2.ipynb\" target=\"_parent\"><img src=\"https://colab.research.google.com/assets/colab-badge.svg\" alt=\"Open In Colab\"/></a>"
      ]
    },
    {
      "cell_type": "markdown",
      "source": [
        "#Sos' and Roberto's Project 2\n",
        "##A Simple Grazing Model\n",
        "\n",
        "####Objectives\n",
        "* to develop a Cellular Automata model of grazing\n",
        "* to experiment with intervention policies, like culls to examine their effect\n",
        "\n",
        "####Pre-req\n",
        "* Review Ch. 8 Diffusion and Ch. 11.5: Sugarscape (from textbook On Complexity)\n",
        "* Complete Labs 7-8 – this provides the framework used for this project"
      ],
      "metadata": {
        "id": "ZSjF7lP1zznK"
      }
    },
    {
      "cell_type": "markdown",
      "source": [
        "###Starting point:\n",
        "\n",
        "Develop a 2D np array of a grassland\n",
        "\n",
        "Introduce deer into the grassland with a certain weight index W\n",
        "\n",
        "###During run:\n",
        "\n",
        "Deer move randomly in a cardinal motion and graze. Weight index increases (can get up to a maximum weight M)\n",
        "\n",
        "While not grazing, deer look for more grass and their weight index decreases in each time step (deer die if W gets to 0)\n",
        "\n",
        "Grass regrows in random areas with a certain probability p\n",
        "\n",
        "\n",
        "###Goal:\n",
        "\n",
        "Find a stable, self-regulating deer population (varying model parameters and initial conditions)"
      ],
      "metadata": {
        "id": "Mzo6uiYYMchT"
      }
    },
    {
      "cell_type": "code",
      "execution_count": 1,
      "metadata": {
        "id": "nxK84KnbzheE"
      },
      "outputs": [],
      "source": [
        "import numpy as np\n",
        "from dataclasses import dataclass\n",
        "from pprint import pprint\n",
        "import random\n",
        "\n",
        "import time\n",
        "\n",
        "import matplotlib\n",
        "import matplotlib.pyplot as plt\n",
        "from matplotlib import animation"
      ]
    },
    {
      "cell_type": "code",
      "source": [
        "DEFAULT_IMSHOW_OPTIONS = dict(\n",
        "    cmap='Blues',\n",
        "    interpolation='none',\n",
        "    origin='upper',\n",
        ")\n",
        "\n",
        "\n",
        "def plot_2D_array(array, axes=None, title='', **options):\n",
        "    \"\"\" Plot the 2D array as an image on the given axes  1's will be dark blue, 0's will be light blue. \"\"\"\n",
        "    axes = axes or plt.gca()  # If not axes are provided, draw on current axes\n",
        "    axes.set_title(title)\n",
        "    axes.set_xticks([], [])  # remove axes tick marks\n",
        "    axes.set_yticks([], [])\n",
        "    options = {**DEFAULT_IMSHOW_OPTIONS, **options}\n",
        "    axes.imshow(array, **options)"
      ],
      "metadata": {
        "id": "W6_nMge5RlgW"
      },
      "execution_count": 2,
      "outputs": []
    },
    {
      "cell_type": "code",
      "source": [
        "class Animation2D:\n",
        "    \"\"\"\n",
        "      Animates any 2D model with a step() method and a draw() method, using matplotlib\n",
        "      model.step() should take no parameters - just step the model forward one step.\n",
        "      model.draw() should take 2 parameters, the matpltolib axes to draw on and an integer step number\n",
        "\n",
        "      See https://www.allendowney.com/blog/2019/07/25/matplotlib-animation-in-jupyter/\n",
        "          for a discussion of the pros and cons of various animation techniques in jupyter notebooks\n",
        "    \"\"\"\n",
        "\n",
        "    def __init__(self, model, frames=50, steps_per_frame=1, figsize=(8, 8)):\n",
        "        \"\"\"\n",
        "        :param model: the simulation object to animate, with step() and draw(axes, step) methods\n",
        "        :param frames: number of animation frames to generate\n",
        "        \"\"\"\n",
        "        self.model = model\n",
        "        self.frames = frames\n",
        "        self.steps_per_frame = steps_per_frame\n",
        "        self.fig, self.ax = plt.subplots(figsize=figsize)\n",
        "\n",
        "    def animation_step(self, step):\n",
        "        \"\"\" Step the model forward and draw the plot \"\"\"\n",
        "        if step > 0:\n",
        "            for _ in range(self.steps_per_frame):\n",
        "                self.model.step()\n",
        "        self.model.draw(self.ax, step=step*self.steps_per_frame)\n",
        "\n",
        "    def show(self):\n",
        "        \"\"\" return the matplotlib animation object, ready for display \"\"\"\n",
        "        anim = animation.FuncAnimation(self.fig, self.animation_step, frames=self.frames)\n",
        "        plt.close()  # this ensures the last frame is not shown as a separate plot\n",
        "        return anim\n",
        "\n",
        "    def animate(self, interval=None):\n",
        "        \"\"\" Animate the model simulation directly in the notebook display block \"\"\"\n",
        "        from IPython.display import clear_output\n",
        "        try:\n",
        "            for i in range(self.frames):\n",
        "                clear_output(wait=True)  # clear the IPython display\n",
        "                self.ax.clear()          # clear old image from the axes (fixes a performance issue)\n",
        "                plt.figure(self.fig)     # add the figure back to pyplot ** sigh **\n",
        "                self.animation_step(i)\n",
        "                plt.show()               # show the current animation frame (pyplot then closes and throws away figure ** sigh **)\n",
        "                if interval:\n",
        "                    time.sleep(interval)\n",
        "        except KeyboardInterrupt:\n",
        "            pass"
      ],
      "metadata": {
        "id": "k4ycxhf0TSGP"
      },
      "execution_count": 3,
      "outputs": []
    },
    {
      "cell_type": "code",
      "source": [
        "class GrazingSimulation:\n",
        "  \n",
        "  DRY = 0\n",
        "  GRASS = 1\n",
        "\n",
        "  # Define a colour map that maps each cell state to an intuitive colour.\n",
        "  #cornsilk - rgb(255,248,220) -> dry land\n",
        "  #lime - rgb(0,255,0) -> grass\n",
        "  #brown - rgb(165,42,42) -> deer\n",
        "  cmap = [(1, 0.5, 0), (0, 1, 0), (0, 0, 0), (0, 0, 0), (0, 0, 0), (1, 0, 0)] \n",
        "  cmap[DRY] = (225/225, 248/255, 220/255) #cmap[DRY] = (1, 0.5, 0)  # brown\n",
        "  cmap[GRASS] = (0, 1, 0) #cmap[GRASS] = (0, 1, 0)  # green\n",
        "  #cmap[FIRE] = (1, 0, 0)  # red\n",
        "  forest_colour_map = matplotlib.colors.ListedColormap(cmap)\n",
        "\n",
        "  kernel = np.array([ [0,0,0],\n",
        "                      [0,0,0],\n",
        "                      [0,0,0]\n",
        "                   ])\n",
        "  \n",
        "\n",
        "  def __init__(self, size, coverage, deer_amt, deer_weight):\n",
        "    self.grassland = np.random.choice((self.GRASS,self.DRY), (size, size), p=(coverage, 1-coverage))\n",
        "    self.size = size\n",
        "    self.coverage = coverage\n",
        "    self.deer_amt = deer_amt\n",
        "    self.deer_weight = deer_weight\n",
        "  \n",
        "    movementRate : int\n",
        "    weightLossRate : int\n",
        "    M : int\n",
        "    N = random.randint(20,40)\n",
        "  \n",
        "    self.deer = np.zeros((size, size))\n",
        "    self.positions = np.random.choice(size**2, size=deer_amt, replace=False)\n",
        "    for pos in self.positions:\n",
        "        x, y = divmod(pos, size)\n",
        "        self.deer[x, y] = deer_weight\n",
        "\n",
        "  def step(self):\n",
        "    \"\"\"Executes one time step, applying the CA rules to regenerate and burn forest.\"\"\"\n",
        "    # TODO: define the rules for the CA.  This is a significant challenge b/c there are 4 rules and they must act independently!\n",
        "    # self.occupiedList.append(self.num_occupied()) # appending num occupied to master list\n",
        "\n",
        "    occupied = self.grassland == self.GRASS\n",
        "    empty = self.grassland == self.DRY\n",
        "    # correlated_matrix = correlate2d(self.array, self.kernel, mode='same', boundary='wrap')\n",
        "    # burning_neighbour = correlated_matrix > 4\n",
        "    \n",
        "    self.grassland[occupied] = np.random.choice([self.DRY, self.GRASS], self.grassland[occupied].shape, p=(self.coverage, 1-self.coverage))\n",
        "    self.grassland[empty] = np.random.choice([self.GRASS, self.DRY], self.grassland[empty].shape, p=(self.coverage, 1-self.coverage))\n",
        "    # self.array[occupied & burning_neighbour] = self.FIRE #sets cell with tree and burning neighbours on fire on next step\n",
        "    # self.array[onFire] = self.EMPTY\n",
        "\n",
        "  def draw(self, axes=None, step=''):\n",
        "      \"\"\"Draws the CA cells using the forest colour map so values are coloured intuitively.\"\"\"\n",
        "      axes = axes or plt.axes\n",
        "      title = f'Time:{step}' #Occupied: {round(self.pct_occupied() * 100, 2)}%'\n",
        "      plot_2D_array(self.grassland, axes=axes, title=title,\n",
        "                    cmap=self.forest_colour_map, vmin=0, vmax=len(self.forest_colour_map.colors))\n",
        "      fig, ax = plt.subplots()\n",
        "      ax.imshow(self.grassland, cmap='Greens')\n",
        "      deer_xs, deer_ys = np.where(self.deer > 0)\n",
        "      ax.scatter(deer_ys, deer_xs, marker='o', color='brown')\n",
        "      plt.show()\n",
        "\n",
        "\n",
        "  # def draw(self, axes=None, step=''):\n",
        "  #   \"\"\"Draws the cells on given axes.\"\"\"\n",
        "  #   axes = axes or plt.gca()  # use current axes if none are provided.\n",
        "  #   plot_2D_array(self.state, axes, cmap='YlOrRd', vmax=5,  title=f'Sandpile {step}')\n",
        "\n",
        "  def plot_grass_deer(grass, deer):\n",
        "    fig, ax = plt.subplots()\n",
        "    ax.imshow(grass, cmap='Greens')\n",
        "    deer_xs, deer_ys = np.where(deer > 0)\n",
        "    ax.scatter(deer_ys, deer_xs, marker='o', color='brown')\n",
        "    plt.show()\n",
        "\n",
        "\n",
        "  def plot_grassland(self):\n",
        "      # fig, ax = plt.subplots()\n",
        "      # ax.imshow(self.grassland, cmap='Greens')\n",
        "\n",
        "      # for i in range(self.size):\n",
        "      #     for j in range(self.size):\n",
        "      #         if self.deer[i, j] > 0:\n",
        "      #             # Add small random offset to x and y coordinates\n",
        "      #             x_offset, y_offset = np.random.uniform(low=-0.5, high=0.5, size=2)\n",
        "      #             x = i + x_offset\n",
        "      #             y = j + y_offset\n",
        "      #             ax.add_artist(plt.Circle((y, x), radius=0.4, color='black'))\n",
        "      #             ax.text(y, x, f\"{self.deer[i,j]:.1f}\", ha='center', va='center', color='white')\n",
        "\n",
        "      # plt.show()\n",
        "      # Create reference matrix for deer\n",
        "      deer_ref = np.zeros((self.size, self.size), dtype=bool)\n",
        "      for pos in self.positions:\n",
        "        x, y = divmod(pos, self.size)\n",
        "        deer_ref[x+0.5, y+0.5] = True\n",
        "      # for x, y in self.positions:\n",
        "      #     deer_ref[x, y] = True\n",
        "          \n",
        "      # Plot grassland and deer\n",
        "      fig, ax = plt.subplots(figsize=(8, 8))\n",
        "      ax.imshow(self.grassland, cmap='Greens')\n",
        "\n",
        "      # Plot deer as black circles with mass in the center\n",
        "      for i in range(self.size):\n",
        "          for j in range(self.size):\n",
        "              if deer_ref[i, j]:\n",
        "                  circle = plt.Circle((j+0.5, i+0.5), 0.5, color='black', fill=True)\n",
        "                  ax.add_artist(circle)\n",
        "                  ax.text(j+0.5, i+0.5, f'{self.deer[i, j]:.1f}', ha='center', va='center', color='white')\n"
      ],
      "metadata": {
        "id": "1wob3eWb17-9"
      },
      "execution_count": 21,
      "outputs": []
    },
    {
      "cell_type": "code",
      "source": [
        "# grassland_size = 10\n",
        "# grass_coverage = 0.5 #between 0 <= grass_coverage <= 1\n",
        "# no_deer = 10\n",
        "# deer_weight = 50\n",
        "\n",
        "# test = GrazingSimulation(grassland_size, grass_coverage, no_deer, deer_weight)\n",
        "# print(test.grassland)\n",
        "# # visual = Animation2D(test)\n",
        "# # visual.animate()\n",
        "\n",
        "# test.plot_grassland()"
      ],
      "metadata": {
        "id": "Z2iqb0r_Ld69"
      },
      "execution_count": 5,
      "outputs": []
    },
    {
      "cell_type": "code",
      "source": [
        "import numpy as np\n",
        "import matplotlib.pyplot as plt\n",
        "import matplotlib.colors as mcolors\n",
        "import matplotlib.patches as mpatches\n",
        "\n",
        "# Define the size of the map\n",
        "n_rows = 10\n",
        "n_cols = 10\n",
        "\n",
        "# Generate sample data for grass and dry land\n",
        "q = 0.3\n",
        "area = np.random.choice([1,0], (n_rows, n_cols), p=(q, 1-q))\n",
        "\n",
        "# Choose a random subset of grass cells to place animals on\n",
        "n_animals = 2  # number of animals to place\n",
        "animal_indices = np.random.choice(np.arange(n_rows * n_cols), size=n_animals, replace=False)\n",
        "animal_rows, animal_cols = np.unravel_index(animal_indices, (n_rows, n_cols))\n",
        "\n",
        "# Create the animals array with zeros everywhere except for the selected cells\n",
        "animals = np.zeros_like(area)\n",
        "animals[animal_rows, animal_cols] = 1\n",
        "\n",
        "# Create a color map for grass and dry land\n",
        "cmap = mcolors.ListedColormap(['lime', 'cornsilk'])\n",
        "\n",
        "# Plot the grass and dry land arrays as images\n",
        "fig, ax = plt.subplots()\n",
        "ax.imshow(area, cmap=cmap) #, interpolation='nearest')\n",
        "ax.axis('off')\n",
        "\n",
        "# Add circles for the animals\n",
        "radius = 0.3  # radius of the animal circles\n",
        "deer_ref = animals[animals==1]\n",
        "for _ in range(len(deer_ref)):\n",
        "  animals[deer_ref[_]]\n",
        "for i in range(animals.shape[0]):\n",
        "    for j in range(animals.shape[1]):\n",
        "        if animals[i, j] == 1:\n",
        "            # Compute the center of the circle based on the cell's position\n",
        "            x = j\n",
        "            y = i\n",
        "            center = (x, y)\n",
        "            \n",
        "            # Create the circle and add it to the plot\n",
        "            circle = mpatches.Circle(center, radius, color='brown', alpha=0.8)\n",
        "            ax.add_patch(circle)\n",
        "\n",
        "\n",
        "# Show the plot\n",
        "plt.show()\n",
        "\n",
        "###################\n",
        "\n"
      ],
      "metadata": {
        "colab": {
          "base_uri": "https://localhost:8080/",
          "height": 406
        },
        "id": "XBnwgPx8w7E5",
        "outputId": "e8f1cfb3-ca78-4870-9a72-c4f5780de828"
      },
      "execution_count": 20,
      "outputs": [
        {
          "output_type": "display_data",
          "data": {
            "text/plain": [
              "<Figure size 640x480 with 1 Axes>"
            ],
            "image/png": "[encoded data removed]"
          },
          "metadata": {}
        }
      ]
    },
    {
      "cell_type": "code",
      "source": [
        "print(animals[animals==1])\n",
        "print(animals)\n",
        "\n",
        "print(np.where(animals==1))\n",
        "indices = np.where(animals == 1)\n",
        "\n",
        "# get the x and y coordinates from the indices and add 0.5 to get the center\n",
        "x_center = indices[1]\n",
        "y_center = indices[0]\n",
        "# create a list of the center coordinates as tuples\n",
        "centers = list(zip(x_center, y_center))\n",
        "print(f'centers: {centers}')\n",
        "print(len(centers))\n",
        "# for _ in range(len(animals[animals==1])):\n",
        "#   print(animals[animals==1].animal_rows)"
      ],
      "metadata": {
        "colab": {
          "base_uri": "https://localhost:8080/"
        },
        "id": "zKQjnYLKEiz4",
        "outputId": "ba707d3d-8aee-4cf4-dfb8-cbe77bd37245"
      },
      "execution_count": 7,
      "outputs": [
        {
          "output_type": "stream",
          "name": "stdout",
          "text": [
            "[1 1]\n",
            "[[0 0 0 0 0 0 0 0 0 0]\n",
            " [0 0 0 0 0 0 0 0 0 0]\n",
            " [0 0 0 0 0 0 0 0 0 0]\n",
            " [0 0 0 0 0 0 0 0 0 0]\n",
            " [0 0 0 0 0 0 1 0 0 0]\n",
            " [0 0 0 0 0 0 0 0 0 0]\n",
            " [0 0 1 0 0 0 0 0 0 0]\n",
            " [0 0 0 0 0 0 0 0 0 0]\n",
            " [0 0 0 0 0 0 0 0 0 0]\n",
            " [0 0 0 0 0 0 0 0 0 0]]\n",
            "(array([4, 6]), array([6, 2]))\n",
            "centers: [(6, 4), (2, 6)]\n",
            "2\n"
          ]
        }
      ]
    },
    {
      "cell_type": "code",
      "source": [
        "# print(test.grassland > 0)\n",
        "# print(test.grassland[test.grassland == 1])"
      ],
      "metadata": {
        "id": "P7IpYwOHzdRq"
      },
      "execution_count": 8,
      "outputs": []
    },
    {
      "cell_type": "code",
      "source": [
        "# test = Grazing2D(1,1,1)\n",
        "# # print(test.field)\n",
        "\n",
        "# model = Animation2D(test)\n",
        "# model.animate()"
      ],
      "metadata": {
        "id": "nNNpfaFp4Hbc"
      },
      "execution_count": 9,
      "outputs": []
    },
    {
      "cell_type": "code",
      "source": [
        "#STUFF I NEED TO DO\n",
        "\n",
        "# 1. Create a grassland\n",
        "# 2. Find a way to introduce deer onto the grassaland (each with a weight index of W)\n",
        "# 3. Find a way to make the deer move via a random walk\n",
        "# 4. When deer graze, the weight index increases to M (i guess i can choose the rate at which it increases)\n",
        "# 5. When its not grazing (looking for food), W decreases (i guess i chose this rate too)\n",
        "# 6. Deer dies when W gets to 0\n",
        "\n",
        "\n",
        "# HOW IM GOING TO DO IT\n",
        "\n",
        "# 1. create an np array and randomly fill it from 0-3. 0 for no grass, 3 for most grass. using np.random.choice()"
      ],
      "metadata": {
        "id": "iY0SuuW2Lsz1"
      },
      "execution_count": 10,
      "outputs": []
    },
    {
      "cell_type": "code",
      "source": [
        "# grassland = np.random.choice([0,1,2,3], (15,15), p=[0.5, 0.3, 0.1, 0.1])\n",
        "\n",
        "# print(grassland)"
      ],
      "metadata": {
        "id": "wSnI-ADSO902"
      },
      "execution_count": 11,
      "outputs": []
    }
  ]
}