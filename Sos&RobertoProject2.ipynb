{
  "nbformat": 4,
  "nbformat_minor": 0,
  "metadata": {
    "colab": {
      "provenance": [],
      "authorship_tag": "ABX9TyPny1qVjAP32nucx4oRltKm",
      "include_colab_link": true
    },
    "kernelspec": {
      "name": "python3",
      "display_name": "Python 3"
    },
    "language_info": {
      "name": "python"
    }
  },
  "cells": [
    {
      "cell_type": "markdown",
      "metadata": {
        "id": "view-in-github",
        "colab_type": "text"
      },
      "source": [
        "<a href=\"https://colab.research.google.com/github/sir-sauc3/cap-comp215/blob/main/Sos%26RobertoProject2.ipynb\" target=\"_parent\"><img src=\"https://colab.research.google.com/assets/colab-badge.svg\" alt=\"Open In Colab\"/></a>"
      ]
    },
    {
      "cell_type": "markdown",
      "source": [
        "#Sos' and Roberto's Project 2\n",
        "##A Simple Grazing Model\n",
        "\n",
        "####Objectives\n",
        "* to develop a Cellular Automata model of grazing\n",
        "* to experiment with intervention policies, like culls to examine their effect\n",
        "\n",
        "####Pre-req\n",
        "* Review Ch. 8 Diffusion and Ch. 11.5: Sugarscape (from textbook On Complexity)\n",
        "* Complete Labs 7-8 – this provides the framework used for this project"
      ],
      "metadata": {
        "id": "ZSjF7lP1zznK"
      }
    },
    {
      "cell_type": "markdown",
      "source": [
        "###Starting point:\n",
        "\n",
        "Develop a 2D np array of a grassland\n",
        "\n",
        "Introduce deer into the grassland with a certain weight index W\n",
        "\n",
        "###During run:\n",
        "\n",
        "Deer move randomly in a cardinal motion and graze. Weight index increases (can get up to a maximum weight M)\n",
        "\n",
        "While not grazing, deer look for more grass and their weight index decreases in each time step (deer die if W gets to 0)\n",
        "\n",
        "Grass regrows in random areas with a certain probability p\n",
        "\n",
        "\n",
        "###Goal:\n",
        "\n",
        "Find a stable, self-regulating deer population (varying model parameters and initial conditions)"
      ],
      "metadata": {
        "id": "Mzo6uiYYMchT"
      }
    },
    {
      "cell_type": "code",
      "execution_count": 25,
      "metadata": {
        "id": "nxK84KnbzheE"
      },
      "outputs": [],
      "source": [
        "import numpy as np\n",
        "from dataclasses import dataclass\n",
        "from pprint import pprint\n",
        "import random\n",
        "\n",
        "import time\n",
        "\n",
        "import matplotlib\n",
        "import matplotlib.pyplot as plt\n",
        "from matplotlib import animation"
      ]
    },
    {
      "cell_type": "code",
      "source": [
        "DEFAULT_IMSHOW_OPTIONS = dict(\n",
        "    cmap='Blues',\n",
        "    interpolation='none',\n",
        "    origin='upper',\n",
        ")\n",
        "\n",
        "\n",
        "def plot_2D_array(array, axes=None, title='', **options):\n",
        "    \"\"\" Plot the 2D array as an image on the given axes  1's will be dark blue, 0's will be light blue. \"\"\"\n",
        "    axes = axes or plt.gca()  # If not axes are provided, draw on current axes\n",
        "    axes.set_title(title)\n",
        "    axes.set_xticks([], [])  # remove axes tick marks\n",
        "    axes.set_yticks([], [])\n",
        "    options = {**DEFAULT_IMSHOW_OPTIONS, **options}\n",
        "    axes.imshow(array, **options)"
      ],
      "metadata": {
        "id": "W6_nMge5RlgW"
      },
      "execution_count": 58,
      "outputs": []
    },
    {
      "cell_type": "code",
      "source": [
        "class Animation2D:\n",
        "    \"\"\"\n",
        "      Animates any 2D model with a step() method and a draw() method, using matplotlib\n",
        "      model.step() should take no parameters - just step the model forward one step.\n",
        "      model.draw() should take 2 parameters, the matpltolib axes to draw on and an integer step number\n",
        "\n",
        "      See https://www.allendowney.com/blog/2019/07/25/matplotlib-animation-in-jupyter/\n",
        "          for a discussion of the pros and cons of various animation techniques in jupyter notebooks\n",
        "    \"\"\"\n",
        "\n",
        "    def __init__(self, model, frames=50, steps_per_frame=1, figsize=(8, 8)):\n",
        "        \"\"\"\n",
        "        :param model: the simulation object to animate, with step() and draw(axes, step) methods\n",
        "        :param frames: number of animation frames to generate\n",
        "        \"\"\"\n",
        "        self.model = model\n",
        "        self.frames = frames\n",
        "        self.steps_per_frame = steps_per_frame\n",
        "        self.fig, self.ax = plt.subplots(figsize=figsize)\n",
        "\n",
        "    def animation_step(self, step):\n",
        "        \"\"\" Step the model forward and draw the plot \"\"\"\n",
        "        if step > 0:\n",
        "            for _ in range(self.steps_per_frame):\n",
        "                self.model.step()\n",
        "        self.model.draw(self.ax, step=step*self.steps_per_frame)\n",
        "\n",
        "    def show(self):\n",
        "        \"\"\" return the matplotlib animation object, ready for display \"\"\"\n",
        "        anim = animation.FuncAnimation(self.fig, self.animation_step, frames=self.frames)\n",
        "        plt.close()  # this ensures the last frame is not shown as a separate plot\n",
        "        return anim\n",
        "\n",
        "    def animate(self, interval=None):\n",
        "        \"\"\" Animate the model simulation directly in the notebook display block \"\"\"\n",
        "        from IPython.display import clear_output\n",
        "        try:\n",
        "            for i in range(self.frames):\n",
        "                clear_output(wait=True)  # clear the IPython display\n",
        "                self.ax.clear()          # clear old image from the axes (fixes a performance issue)\n",
        "                plt.figure(self.fig)     # add the figure back to pyplot ** sigh **\n",
        "                self.animation_step(i)\n",
        "                plt.show()               # show the current animation frame (pyplot then closes and throws away figure ** sigh **)\n",
        "                if interval:\n",
        "                    time.sleep(interval)\n",
        "        except KeyboardInterrupt:\n",
        "            pass"
      ],
      "metadata": {
        "id": "k4ycxhf0TSGP"
      },
      "execution_count": 27,
      "outputs": []
    },
    {
      "cell_type": "code",
      "source": [
        "class GrazingSimulation:\n",
        "  \n",
        "  DRY = 0\n",
        "  GRASS = 1\n",
        "  TALLGRASS = 2\n",
        "\n",
        "  kernel = [\n",
        "            [0,1,0],\n",
        "            [1,0,1],\n",
        "            [0,1,0]\n",
        "          ]\n",
        "\n",
        "  normal_grass_coverage = 0.2\n",
        "  tallgrass_coverage = 0.1\n",
        "\n",
        "\n",
        "  # Define a colour map that maps each cell state to an intuitive colour.\n",
        "  #cornsilk - rgb(255,248,220) -> dry land\n",
        "  #lime - rgb(0,255,0) -> grass\n",
        "  #darkgreen - rgb(0,100,0) -> tallgrass\n",
        "  #brown - rgb(165,42,42) -> deer\n",
        "  cmap = [(225/225, 248/255, 220/255), (0, 1, 0), (0, 100/255, 0)] \n",
        "  field_color_map = matplotlib.colors.ListedColormap(cmap)\n",
        "\n",
        "  \n",
        "\n",
        "  def __init__(self, size, deer_amt, deer_weight):\n",
        "    self.grassland = np.random.choice((self.GRASS ,self.TALLGRASS, self.DRY), (size, size), p=(self.normal_grass_coverage, self.tallgrass_coverage, 1-(self.normal_grass_coverage+self.tallgrass_coverage)))\n",
        "    self.size = size\n",
        "    self.deer_amt = deer_amt\n",
        "    self.deer_weight = deer_weight\n",
        "\n",
        "    print(self.grassland)\n",
        "  \n",
        "    movementRate : int\n",
        "    weightLossRate : int\n",
        "    M : int\n",
        "    N = random.randint(20,40)\n",
        "  \n",
        "    self.deer = np.zeros((size, size))\n",
        "    self.positions = np.random.choice(size**2, size=deer_amt, replace=False)\n",
        "    for pos in self.positions:\n",
        "        x, y = divmod(pos, size)\n",
        "        self.deer[x, y] = deer_weight\n",
        "\n",
        "  def step(self):\n",
        "    \"\"\"Executes one time step, applying the CA rules to regenerate and burn forest.\"\"\"\n",
        "    # TODO: define the rules for the CA.  This is a significant challenge b/c there are 4 rules and they must act independently!\n",
        "    # self.occupiedList.append(self.num_occupied()) # appending num occupied to master list\n",
        "\n",
        "    occupied = self.grassland == self.GRASS\n",
        "    bush = self.grassland == self.TALLGRASS\n",
        "    empty = self.grassland == self.DRY\n",
        "    grass2bush = 0.05\n",
        "    dry2grass = 0.09\n",
        "    # correlated_matrix = correlate2d(self.array, self.kernel, mode='same', boundary='wrap')\n",
        "    # burning_neighbour = correlated_matrix > 4\n",
        "    \n",
        "    self.grassland[occupied] = np.random.choice([self.TALLGRASS, self.GRASS], self.grassland[occupied].shape, p=(grass2bush, 1-grass2bush))\n",
        "    self.grassland[empty] = np.random.choice([self.GRASS, self.DRY], self.grassland[empty].shape, p=(dry2grass, 1-dry2grass))\n",
        "    # self.array[occupied & burning_neighbour] = self.FIRE #sets cell with tree and burning neighbours on fire on next step\n",
        "    # self.array[onFire] = self.EMPTY\n",
        "\n",
        "  # def draw(self, axes=None, step=''):\n",
        "  #     \"\"\"Draws the CA cells using the forest colour map so values are coloured intuitively.\"\"\"\n",
        "  #     axes = axes or plt.axes\n",
        "  #     title = f'Time:{step}' #Occupied: {round(self.pct_occupied() * 100, 2)}%'\n",
        "  #     plot_2D_array(self.grassland, axes=axes, title=title,\n",
        "  #                   cmap=self.forest_colour_map, vmin=0, vmax=len(self.forest_colour_map.colors))\n",
        "  #     fig, ax = plt.subplots()\n",
        "  #     ax.imshow(self.grassland, cmap='Greens')\n",
        "  #     deer_xs, deer_ys = np.where(self.deer > 0)\n",
        "  #     ax.scatter(deer_ys, deer_xs, marker='o', color='brown')\n",
        "  #     plt.show()\n",
        "\n",
        "  def draw(self, axes=None, step=''):\n",
        "        \"\"\"Draws the CA cells using the forest colour map so values are coloured intuitively.\"\"\"\n",
        "        axes = axes or plt.axes\n",
        "        title = f'Time:{step}' #Occupied: {round(self.pct_occupied() * 100, 2)}%'\n",
        "        plot_2D_array(self.grassland, axes=axes, title=title,\n",
        "                      cmap=self.field_color_map, vmin=0, vmax=len(self.field_color_map.colors))\n",
        "\n",
        "\n",
        "  def plot_grass_deer(grass, deer):\n",
        "    fig, ax = plt.subplots()\n",
        "    ax.imshow(grass, cmap='Greens')\n",
        "    deer_xs, deer_ys = np.where(deer > 0)\n",
        "    ax.scatter(deer_ys, deer_xs, marker='o', color='brown')\n",
        "    plt.show()\n",
        "\n",
        "\n",
        "  def plot_grassland(self):\n",
        "      # fig, ax = plt.subplots()\n",
        "      # ax.imshow(self.grassland, cmap='Greens')\n",
        "\n",
        "      # for i in range(self.size):\n",
        "      #     for j in range(self.size):\n",
        "      #         if self.deer[i, j] > 0:\n",
        "      #             # Add small random offset to x and y coordinates\n",
        "      #             x_offset, y_offset = np.random.uniform(low=-0.5, high=0.5, size=2)\n",
        "      #             x = i + x_offset\n",
        "      #             y = j + y_offset\n",
        "      #             ax.add_artist(plt.Circle((y, x), radius=0.4, color='black'))\n",
        "      #             ax.text(y, x, f\"{self.deer[i,j]:.1f}\", ha='center', va='center', color='white')\n",
        "\n",
        "      # plt.show()\n",
        "      # Create reference matrix for deer\n",
        "      deer_ref = np.zeros((self.size, self.size), dtype=bool)\n",
        "      for pos in self.positions:\n",
        "        x, y = divmod(pos, self.size)\n",
        "        deer_ref[x+0.5, y+0.5] = True\n",
        "      # for x, y in self.positions:\n",
        "      #     deer_ref[x, y] = True\n",
        "          \n",
        "      # Plot grassland and deer\n",
        "      fig, ax = plt.subplots(figsize=(8, 8))\n",
        "      ax.imshow(self.grassland, cmap='Greens')\n",
        "\n",
        "      # Plot deer as black circles with mass in the center\n",
        "      for i in range(self.size):\n",
        "          for j in range(self.size):\n",
        "              if deer_ref[i, j]:\n",
        "                  circle = plt.Circle((j+0.5, i+0.5), 0.5, color='black', fill=True)\n",
        "                  ax.add_artist(circle)\n",
        "                  ax.text(j+0.5, i+0.5, f'{self.deer[i, j]:.1f}', ha='center', va='center', color='white')\n"
      ],
      "metadata": {
        "id": "1wob3eWb17-9"
      },
      "execution_count": 78,
      "outputs": []
    },
    {
      "cell_type": "code",
      "source": [
        "grassland_size = 10\n",
        "# grass_coverage = 0.5 #between 0 <= grass_coverage <= 1\n",
        "no_deer = 10\n",
        "deer_weight = 50\n",
        "\n",
        "test = GrazingSimulation(grassland_size, no_deer, deer_weight)\n",
        "print(test)\n",
        "graze = Animation2D(test)\n",
        "\n",
        "graze.animate(5)\n",
        "# print(test.grassland)\n",
        "# # visual = Animation2D(test)\n",
        "# # visual.animate()\n",
        "\n",
        "# test.plot_grassland()"
      ],
      "metadata": {
        "id": "Z2iqb0r_Ld69",
        "colab": {
          "base_uri": "https://localhost:8080/",
          "height": 674
        },
        "outputId": "ab18e902-d72a-479c-ab93-8d67a52912f8"
      },
      "execution_count": null,
      "outputs": [
        {
          "output_type": "display_data",
          "data": {
            "text/plain": [
              "<Figure size 800x800 with 1 Axes>"
            ],
            "image/png": "[encoded data removed]"
          },
          "metadata": {}
        }
      ]
    },
    {
      "cell_type": "code",
      "source": [
        "import numpy as np\n",
        "import matplotlib.pyplot as plt\n",
        "import matplotlib.colors as mcolors\n",
        "import matplotlib.patches as mpatches\n",
        "\n",
        "# Define the size of the map\n",
        "n_rows = 10\n",
        "n_cols = 10\n",
        "\n",
        "# Generate sample data for grass and dry land\n",
        "q = 0.3\n",
        "area = np.random.choice([1,0], (n_rows, n_cols), p=(q, 1-q))\n",
        "\n",
        "# Choose a random subset of grass cells to place animals on\n",
        "n_animals = 2  # number of animals to place\n",
        "animal_indices = np.random.choice(np.arange(n_rows * n_cols), size=n_animals, replace=False)\n",
        "animal_rows, animal_cols = np.unravel_index(animal_indices, (n_rows, n_cols))\n",
        "\n",
        "# Create the animals array with zeros everywhere except for the selected cells\n",
        "animals = np.zeros_like(area)\n",
        "animals[animal_rows, animal_cols] = 1\n",
        "\n",
        "# Create a color map for grass and dry land\n",
        "cmap = mcolors.ListedColormap(['lime', 'cornsilk'])\n",
        "\n",
        "# Plot the grass and dry land arrays as images\n",
        "fig, ax = plt.subplots()\n",
        "ax.imshow(area, cmap=cmap) #, interpolation='nearest')\n",
        "# ax.axis('off')\n",
        "\n",
        "# Add circles for the animals\n",
        "radius = 0.3  # radius of the animal circles\n",
        "deer_ref = animals[animals==1]  #finding the cells that have deer in them\n",
        "for i in range(animals.shape[0]): #checks all the rows\n",
        "    for j in range(animals.shape[1]): #checks all the cols\n",
        "        if animals[i, j] == 1:\n",
        "            # Compute the center of the circle based on the cell's position\n",
        "            x = j\n",
        "            y = i\n",
        "            center = (x, y)\n",
        "            \n",
        "            # Create the circle and add it to the plot\n",
        "            circle = mpatches.Circle(center, radius, color='brown', alpha=0.8)\n",
        "            ax.add_patch(circle)\n",
        "\n",
        "\n",
        "# Show the plot\n",
        "plt.show()\n",
        "\n",
        "###################\n",
        "\n"
      ],
      "metadata": {
        "colab": {
          "base_uri": "https://localhost:8080/",
          "height": 429
        },
        "id": "XBnwgPx8w7E5",
        "outputId": "a3158f7d-a743-409a-e769-eb73b8deb258"
      },
      "execution_count": 30,
      "outputs": [
        {
          "output_type": "display_data",
          "data": {
            "text/plain": [
              "<Figure size 640x480 with 1 Axes>"
            ],
            "image/png": "[encoded data removed]"
          },
          "metadata": {}
        }
      ]
    },
    {
      "cell_type": "code",
      "source": [
        "# Grazing simulation class\n",
        "# Animation class that takes a "
      ],
      "metadata": {
        "id": "0bzKBhZqkRLJ"
      },
      "execution_count": null,
      "outputs": []
    },
    {
      "cell_type": "code",
      "source": [
        "print(animals[animals==1])\n",
        "print(animals)\n",
        "\n",
        "print(np.where(animals==1))\n",
        "indices = np.where(animals == 1)\n",
        "\n",
        "# get the x and y coordinates from the indices and add 0.5 to get the center\n",
        "x_center = indices[1]\n",
        "y_center = indices[0]\n",
        "# create a list of the center coordinates as tuples\n",
        "centers = list(zip(x_center, y_center))\n",
        "print(f'centers: {centers}')\n",
        "print(len(centers))\n",
        "# for _ in range(len(animals[animals==1])):\n",
        "#   print(animals[animals==1].animal_rows)"
      ],
      "metadata": {
        "colab": {
          "base_uri": "https://localhost:8080/"
        },
        "id": "zKQjnYLKEiz4",
        "outputId": "9d0d1835-396b-4c5b-dddb-557866d717da"
      },
      "execution_count": 31,
      "outputs": [
        {
          "output_type": "stream",
          "name": "stdout",
          "text": [
            "[1 1]\n",
            "[[0 0 0 0 0 0 0 0 1 0]\n",
            " [0 0 0 0 0 0 0 0 0 0]\n",
            " [0 0 0 0 0 0 0 0 0 0]\n",
            " [0 0 0 0 0 0 0 0 0 0]\n",
            " [0 0 0 0 0 0 0 0 0 0]\n",
            " [0 0 1 0 0 0 0 0 0 0]\n",
            " [0 0 0 0 0 0 0 0 0 0]\n",
            " [0 0 0 0 0 0 0 0 0 0]\n",
            " [0 0 0 0 0 0 0 0 0 0]\n",
            " [0 0 0 0 0 0 0 0 0 0]]\n",
            "(array([0, 5]), array([8, 2]))\n",
            "centers: [(8, 0), (2, 5)]\n",
            "2\n"
          ]
        }
      ]
    },
    {
      "cell_type": "code",
      "source": [
        "# print(test.grassland > 0)\n",
        "# print(test.grassland[test.grassland == 1])"
      ],
      "metadata": {
        "id": "P7IpYwOHzdRq"
      },
      "execution_count": 32,
      "outputs": []
    },
    {
      "cell_type": "code",
      "source": [
        "# test = Grazing2D(1,1,1)\n",
        "# # print(test.field)\n",
        "\n",
        "# model = Animation2D(test)\n",
        "# model.animate()"
      ],
      "metadata": {
        "id": "nNNpfaFp4Hbc"
      },
      "execution_count": 33,
      "outputs": []
    },
    {
      "cell_type": "code",
      "source": [
        "#STUFF I NEED TO DO\n",
        "\n",
        "# 1. Create a grassland\n",
        "# 2. Find a way to introduce deer onto the grassaland (each with a weight index of W)\n",
        "# 3. Find a way to make the deer move via a random walk\n",
        "# 4. When deer graze, the weight index increases to M (i guess i can choose the rate at which it increases)\n",
        "# 5. When its not grazing (looking for food), W decreases (i guess i chose this rate too)\n",
        "# 6. Deer dies when W gets to 0\n",
        "\n",
        "\n",
        "# HOW IM GOING TO DO IT\n",
        "\n",
        "# 1. create an np array and randomly fill it from 0-3. 0 for no grass, 3 for most grass. using np.random.choice()"
      ],
      "metadata": {
        "id": "iY0SuuW2Lsz1"
      },
      "execution_count": 34,
      "outputs": []
    },
    {
      "cell_type": "code",
      "source": [
        "# grassland = np.random.choice([0,1,2,3], (15,15), p=[0.5, 0.3, 0.1, 0.1])\n",
        "\n",
        "# print(grassland)"
      ],
      "metadata": {
        "id": "wSnI-ADSO902"
      },
      "execution_count": 35,
      "outputs": []
    },
    {
      "cell_type": "code",
      "source": [
        "@dataclass\n",
        "class Point2D:\n",
        "    \"\"\" A point on the 2D Cartesian plane \"\"\"\n",
        "    x: int\n",
        "    y: int\n",
        "\n",
        "    def __add__(self, other):\n",
        "        \"\"\" Define the + operator for two points - vector addition \"\"\"\n",
        "        return Point2D(self.x + other.x, self.y + other.y)"
      ],
      "metadata": {
        "id": "CTtuGKbt68gF"
      },
      "execution_count": 36,
      "outputs": []
    },
    {
      "cell_type": "code",
      "source": [
        "# N, S, E, W\n",
        "CARDINAL_NEIGHBOURS = (Point2D(0, 1), Point2D(0, -1), Point2D(1, 0), Point2D(-1, 0))\n",
        "\n",
        "def random_walk(p):\n",
        "    \"\"\" \"walk\" point p 1-step, to a neighbouring cardinal locaction (lattice random walk) \"\"\"\n",
        "    return p + np.random.choice(CARDINAL_NEIGHBOURS)"
      ],
      "metadata": {
        "id": "KuRqMmUv69tn"
      },
      "execution_count": 37,
      "outputs": []
    },
    {
      "cell_type": "code",
      "source": [],
      "metadata": {
        "id": "i5O4Aftm7aKU"
      },
      "execution_count": 37,
      "outputs": []
    },
    {
      "cell_type": "markdown",
      "source": [
        "We create a GrassField class that initializes the area in which"
      ],
      "metadata": {
        "id": "jGnOTS_MEAGm"
      }
    },
    {
      "cell_type": "code",
      "source": [
        "@dataclass\n",
        "class GrassField:\n",
        "  DRY = 0\n",
        "  GRASS = 1\n",
        "  TALLGRASS = 2\n",
        "  \n",
        "  def __init__(self, size, pGrass = 0.5, pTall = 0.1):\n",
        "    self.field = np.random.choice((self.GRASS, self.TALLGRASS, self.DRY), (size, size), p = [pGrass, pTall, 1-(pGrass+pTall)])\n",
        "\n",
        "    self.covered = self.field[self.field==self.GRASS]\n",
        "    self.bare = self.field[self.field==self.DRY]\n",
        "\n",
        "\n",
        "  def spawnGrass(self, pctOfSize):\n",
        "    grasses = len(self.field)**2 * pctOfSize #gets total number of cells of the grassland and gets a percentage of those cells to regrow\n",
        "    self.field[self.field==self.DRY] = np.random.choice([self.GRASS, self.DRY], self.bare.shape, p=(pctOfSize, 1-pctOfSize))\n",
        "    \n"
      ],
      "metadata": {
        "id": "6kZ6-p2skt2A"
      },
      "execution_count": 38,
      "outputs": []
    },
    {
      "cell_type": "code",
      "source": [
        "test = GrassField(10)\n",
        "print(test.field)\n",
        "print(f'no. of bare = {len(test.field[test.field==0])}')\n",
        "print('\\n')\n",
        "test.spawnGrass(.50)\n",
        "print(test.field)\n",
        "print(f'no. of bare = {len(test.field[test.field==0])}')"
      ],
      "metadata": {
        "colab": {
          "base_uri": "https://localhost:8080/"
        },
        "id": "qgJLw3UsmUDT",
        "outputId": "4941bc60-74c6-403c-9495-34df76d020c3"
      },
      "execution_count": 39,
      "outputs": [
        {
          "output_type": "stream",
          "name": "stdout",
          "text": [
            "[[1 1 0 1 0 0 0 1 1 1]\n",
            " [0 0 0 0 2 0 1 1 1 2]\n",
            " [0 0 1 0 1 0 0 0 0 1]\n",
            " [1 0 1 0 0 2 0 0 0 0]\n",
            " [1 1 0 1 0 2 1 1 1 1]\n",
            " [1 0 1 1 0 1 1 0 0 1]\n",
            " [1 1 0 1 1 1 1 0 1 0]\n",
            " [0 1 0 0 0 1 1 0 0 1]\n",
            " [0 0 1 1 0 1 0 1 1 2]\n",
            " [1 0 1 0 0 2 0 0 0 0]]\n",
            "no. of bare = 49\n",
            "\n",
            "\n",
            "[[1 1 0 1 1 1 0 1 1 1]\n",
            " [0 1 0 1 2 0 1 1 1 2]\n",
            " [0 1 1 0 1 0 0 1 1 1]\n",
            " [1 1 1 1 0 2 1 1 1 0]\n",
            " [1 1 0 1 0 2 1 1 1 1]\n",
            " [1 1 1 1 1 1 1 1 1 1]\n",
            " [1 1 1 1 1 1 1 1 1 1]\n",
            " [1 1 0 1 1 1 1 1 0 1]\n",
            " [1 1 1 1 1 1 0 1 1 2]\n",
            " [1 1 1 1 0 2 0 1 0 1]]\n",
            "no. of bare = 19\n"
          ]
        }
      ]
    },
    {
      "cell_type": "code",
      "source": [
        "@dataclass\n",
        "class Deer:\n",
        "  NONEXISTENT = 0\n",
        "  DEATHWEIGHT = 3\n",
        "  W : int\n",
        "  M : int\n",
        "  metabolism : int\n",
        "  x : int\n",
        "  y : int\n",
        "  \n",
        "  def __init__(self, M, W, metaboolism):\n",
        "    self.M = M\n",
        "    self.W = W\n",
        "    self.metabolism = metaboolism\n",
        "\n",
        "  def loseWeight(self):\n",
        "    self.W -= self.metabolism\n",
        "\n",
        "  def gainWeight(self):\n",
        "    self.W += self.metabolism #i think this should equal the number of the cell it is on\n",
        "\n",
        "  def randomWalk(self):\n",
        "    # do random x or y\n",
        "    # do random +1 -1\n",
        "    xyChoice = random.choice([x, y])\n",
        "    addChoice = random.choice([-1, 1])\n",
        "\n",
        "    xyChoice += addChoice\n",
        "\n",
        "  "
      ],
      "metadata": {
        "id": "70BNB-s4MVmF"
      },
      "execution_count": 40,
      "outputs": []
    },
    {
      "cell_type": "code",
      "source": [
        "@dataclass\n",
        "class deerField:\n",
        "  EMPTY = 0\n",
        "  DEATHWEIGHT = 3\n",
        "\n",
        "  def __init__(self,size, n, M, W, metabolsm):\n",
        "    \"\"\"\n",
        "    size = size of grassland\n",
        "    n = no. of deer\n",
        "    M = max weight\n",
        "    W = current weight\n",
        "    metabolism = amount of weight loss per step\n",
        "    \"\"\"\n",
        "    self.field = np.random.choice(np.arange(size * size), size=n, replace=False)\n",
        "    self.field = np.zeros((size, size))\n",
        "    indices = np.random.choice(size*size, size=n, replace=False) \n",
        "    self.field.flat[indices] = np.ones(n) * W  # set the chosen indices to W\n",
        "\n",
        "    self.M = M\n",
        "    self.W = W\n",
        "\n",
        "  def step(self):\n",
        "\n",
        "    #find indices for each deer. does not preserve Weight value of deer.\n",
        "    indices = np.where(self.field[self.field > 3])\n",
        "    deathIndices = np.where(self.field[self.field == 3])\n",
        "    self.field[deathIndices] = None\n",
        "    # get the x and y coordinates from the indices and add 0.5 to get the center\n",
        "    x_center = indices[1]\n",
        "    y_center = indices[0]\n",
        "    # create a list of the center coordinates as tuples\n",
        "    centers = list(zip(x_center, y_center))\n",
        "    \n",
        "# integrate Deer class into deerField instead of using their weight to keep track\n",
        "# make them graze (operation on the grassField, then gain weight, lose weight otherwise)\n",
        "# animate the entire model !\n",
        "\n",
        "\n",
        "\n",
        "# N, S, E, W\n",
        "# CARDINAL_NEIGHBOURS = (Point2D(0, 1), Point2D(0, -1), Point2D(1, 0), Point2D(-1, 0))\n",
        "\n",
        "# def random_walk(p):\n",
        "#     \"\"\" \"walk\" point p 1-step, to a neighbouring cardinal locaction (lattice random walk) \"\"\"\n",
        "#     return p + np.random.choice(CARDINAL_NEIGHBOURS)\n",
        "\n",
        "\n",
        "\n",
        "testDeer = deerField(5, 5, 30, 10, 1)\n",
        "print(testDeer.field)"
      ],
      "metadata": {
        "colab": {
          "base_uri": "https://localhost:8080/"
        },
        "id": "dMfK4I1FqPf-",
        "outputId": "fbf31cbc-7a65-44ca-cc97-9bdf1e262d3f"
      },
      "execution_count": 41,
      "outputs": [
        {
          "output_type": "stream",
          "name": "stdout",
          "text": [
            "[[ 0.  0.  0.  0. 10.]\n",
            " [ 0.  0.  0.  0.  0.]\n",
            " [ 0.  0. 10.  0.  0.]\n",
            " [ 0.  0.  0. 10.  0.]\n",
            " [10.  0. 10.  0.  0.]]\n"
          ]
        }
      ]
    },
    {
      "cell_type": "code",
      "source": [
        "haha = deerField()"
      ],
      "metadata": {
        "id": "IrRAcMaHHsvR",
        "colab": {
          "base_uri": "https://localhost:8080/",
          "height": 158
        },
        "outputId": "85d614b8-8bdf-4331-e284-0214a1b49840"
      },
      "execution_count": 42,
      "outputs": [
        {
          "output_type": "error",
          "ename": "TypeError",
          "evalue": "ignored",
          "traceback": [
            "\u001b[0;31m---------------------------------------------------------------------------\u001b[0m",
            "\u001b[0;31mTypeError\u001b[0m                                 Traceback (most recent call last)",
            "\u001b[0;32m<ipython-input-42-e5e71f69a1ab>\u001b[0m in \u001b[0;36m<cell line: 1>\u001b[0;34m()\u001b[0m\n\u001b[0;32m----> 1\u001b[0;31m \u001b[0mhaha\u001b[0m \u001b[0;34m=\u001b[0m \u001b[0mdeerField\u001b[0m\u001b[0;34m(\u001b[0m\u001b[0;34m)\u001b[0m\u001b[0;34m\u001b[0m\u001b[0;34m\u001b[0m\u001b[0m\n\u001b[0m",
            "\u001b[0;31mTypeError\u001b[0m: __init__() missing 5 required positional arguments: 'size', 'n', 'M', 'W', and 'metabolsm'"
          ]
        }
      ]
    },
    {
      "cell_type": "markdown",
      "source": [
        "want to be able to create a deer dataclass\n",
        "\n",
        "input random no. of deer that we want. deer get generated and assigned random ints for their location without repeating it"
      ],
      "metadata": {
        "id": "fm1nvb5eIErN"
      }
    }
  ]
}