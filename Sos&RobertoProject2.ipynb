{
  "nbformat": 4,
  "nbformat_minor": 0,
  "metadata": {
    "colab": {
      "provenance": [],
      "authorship_tag": "ABX9TyMQghjwvXyHcK5eikZyr54d",
      "include_colab_link": true
    },
    "kernelspec": {
      "name": "python3",
      "display_name": "Python 3"
    },
    "language_info": {
      "name": "python"
    }
  },
  "cells": [
    {
      "cell_type": "markdown",
      "metadata": {
        "id": "view-in-github",
        "colab_type": "text"
      },
      "source": [
        "<a href=\"https://colab.research.google.com/github/sir-sauc3/cap-comp215/blob/main/Sos%26RobertoProject2.ipynb\" target=\"_parent\"><img src=\"https://colab.research.google.com/assets/colab-badge.svg\" alt=\"Open In Colab\"/></a>"
      ]
    },
    {
      "cell_type": "markdown",
      "source": [
        "#Sos' and Roberto's Project 2\n",
        "##A Simple Grazing Model\n",
        "\n",
        "####Objectives\n",
        "* to develop a Cellular Automata model of grazing\n",
        "* to experiment with intervention policies, like culls to examine their effect\n",
        "\n",
        "####Pre-req\n",
        "* Review Ch. 8 Diffusion and Ch. 11.5: Sugarscape (from textbook On Complexity)\n",
        "* Complete Labs 7-8 – this provides the framework used for this project"
      ],
      "metadata": {
        "id": "ZSjF7lP1zznK"
      }
    },
    {
      "cell_type": "markdown",
      "source": [
        "###Starting point:\n",
        "\n",
        "Develop a 2D np array of a grassland\n",
        "\n",
        "Introduce deer into the grassland with a certain weight index W\n",
        "\n",
        "###During run:\n",
        "\n",
        "Deer move randomly in a cardinal motion and graze. Weight index increases (can get up to a maximum weight M)\n",
        "\n",
        "While not grazing, deer look for more grass and their weight index decreases in each time step (deer die if W gets to 0)\n",
        "\n",
        "Grass regrows in random areas with a certain probability p\n",
        "\n",
        "\n",
        "###Goal:\n",
        "\n",
        "Find a stable, self-regulating deer population (varying model parameters and initial conditions)"
      ],
      "metadata": {
        "id": "Mzo6uiYYMchT"
      }
    },
    {
      "cell_type": "code",
      "execution_count": 1,
      "metadata": {
        "id": "nxK84KnbzheE"
      },
      "outputs": [],
      "source": [
        "import numpy as np\n",
        "from dataclasses import dataclass\n",
        "from pprint import pprint\n",
        "import random\n",
        "\n",
        "import time\n",
        "\n",
        "import matplotlib\n",
        "import matplotlib.pyplot as plt\n",
        "from matplotlib import animation"
      ]
    },
    {
      "cell_type": "code",
      "source": [
        "DEFAULT_IMSHOW_OPTIONS = dict(\n",
        "    cmap='Blues',\n",
        "    interpolation='none',\n",
        "    origin='upper',\n",
        ")\n",
        "\n",
        "\n",
        "def plot_2D_array(array, axes=None, title='', **options):\n",
        "    \"\"\" Plot the 2D array as an image on the given axes  1's will be dark blue, 0's will be light blue. \"\"\"\n",
        "    axes = axes or plt.gca()  # If not axes are provided, draw on current axes\n",
        "    axes.set_title(title)\n",
        "    axes.set_xticks([], [])  # remove axes tick marks\n",
        "    axes.set_yticks([], [])\n",
        "    options = {**DEFAULT_IMSHOW_OPTIONS, **options}\n",
        "    axes.imshow(array, **options)"
      ],
      "metadata": {
        "id": "W6_nMge5RlgW"
      },
      "execution_count": 2,
      "outputs": []
    },
    {
      "cell_type": "code",
      "source": [
        "class Animation2D:\n",
        "    \"\"\"\n",
        "      Animates any 2D model with a step() method and a draw() method, using matplotlib\n",
        "      model.step() should take no parameters - just step the model forward one step.\n",
        "      model.draw() should take 2 parameters, the matpltolib axes to draw on and an integer step number\n",
        "\n",
        "      See https://www.allendowney.com/blog/2019/07/25/matplotlib-animation-in-jupyter/\n",
        "          for a discussion of the pros and cons of various animation techniques in jupyter notebooks\n",
        "    \"\"\"\n",
        "\n",
        "    def __init__(self, model, frames=50, steps_per_frame=1, figsize=(8, 8)):\n",
        "        \"\"\"\n",
        "        :param model: the simulation object to animate, with step() and draw(axes, step) methods\n",
        "        :param frames: number of animation frames to generate\n",
        "        \"\"\"\n",
        "        self.model = model\n",
        "        self.frames = frames\n",
        "        self.steps_per_frame = steps_per_frame\n",
        "        self.fig, self.ax = plt.subplots(figsize=figsize)\n",
        "\n",
        "    def animation_step(self, step):\n",
        "        \"\"\" Step the model forward and draw the plot \"\"\"\n",
        "        if step > 0:\n",
        "            for _ in range(self.steps_per_frame):\n",
        "                self.model.step()\n",
        "        self.model.draw(self.ax, step=step*self.steps_per_frame)\n",
        "\n",
        "    def show(self):\n",
        "        \"\"\" return the matplotlib animation object, ready for display \"\"\"\n",
        "        anim = animation.FuncAnimation(self.fig, self.animation_step, frames=self.frames)\n",
        "        plt.close()  # this ensures the last frame is not shown as a separate plot\n",
        "        return anim\n",
        "\n",
        "    def animate(self, interval=None):\n",
        "        \"\"\" Animate the model simulation directly in the notebook display block \"\"\"\n",
        "        from IPython.display import clear_output\n",
        "        try:\n",
        "            for i in range(self.frames):\n",
        "                clear_output(wait=True)  # clear the IPython display\n",
        "                self.ax.clear()          # clear old image from the axes (fixes a performance issue)\n",
        "                plt.figure(self.fig)     # add the figure back to pyplot ** sigh **\n",
        "                self.animation_step(i)\n",
        "                plt.show()               # show the current animation frame (pyplot then closes and throws away figure ** sigh **)\n",
        "                if interval:\n",
        "                    time.sleep(interval)\n",
        "        except KeyboardInterrupt:\n",
        "            pass"
      ],
      "metadata": {
        "id": "k4ycxhf0TSGP"
      },
      "execution_count": 3,
      "outputs": []
    },
    {
      "cell_type": "code",
      "source": [
        "help(np.unravel_index)"
      ],
      "metadata": {
        "colab": {
          "base_uri": "https://localhost:8080/"
        },
        "id": "zfJDhpG7BfQ0",
        "outputId": "87299fa5-e580-4596-9012-6c051f1c8cd1"
      },
      "execution_count": 22,
      "outputs": [
        {
          "output_type": "stream",
          "name": "stdout",
          "text": [
            "Help on function unravel_index in module numpy:\n",
            "\n",
            "unravel_index(...)\n",
            "    unravel_index(indices, shape, order='C')\n",
            "    \n",
            "    Converts a flat index or array of flat indices into a tuple\n",
            "    of coordinate arrays.\n",
            "    \n",
            "    Parameters\n",
            "    ----------\n",
            "    indices : array_like\n",
            "        An integer array whose elements are indices into the flattened\n",
            "        version of an array of dimensions ``shape``. Before version 1.6.0,\n",
            "        this function accepted just one index value.\n",
            "    shape : tuple of ints\n",
            "        The shape of the array to use for unraveling ``indices``.\n",
            "    \n",
            "        .. versionchanged:: 1.16.0\n",
            "            Renamed from ``dims`` to ``shape``.\n",
            "    \n",
            "    order : {'C', 'F'}, optional\n",
            "        Determines whether the indices should be viewed as indexing in\n",
            "        row-major (C-style) or column-major (Fortran-style) order.\n",
            "    \n",
            "        .. versionadded:: 1.6.0\n",
            "    \n",
            "    Returns\n",
            "    -------\n",
            "    unraveled_coords : tuple of ndarray\n",
            "        Each array in the tuple has the same shape as the ``indices``\n",
            "        array.\n",
            "    \n",
            "    See Also\n",
            "    --------\n",
            "    ravel_multi_index\n",
            "    \n",
            "    Examples\n",
            "    --------\n",
            "    >>> np.unravel_index([22, 41, 37], (7,6))\n",
            "    (array([3, 6, 6]), array([4, 5, 1]))\n",
            "    >>> np.unravel_index([31, 41, 13], (7,6), order='F')\n",
            "    (array([3, 6, 6]), array([4, 5, 1]))\n",
            "    \n",
            "    >>> np.unravel_index(1621, (6,7,8,9))\n",
            "    (3, 1, 4, 1)\n",
            "\n"
          ]
        }
      ]
    },
    {
      "cell_type": "code",
      "source": [
        "class GrazingSimulation:\n",
        "  \n",
        "  DRY = 0\n",
        "  GRASS = 1\n",
        "  TALLGRASS = 2\n",
        "  DEER = 3\n",
        "\n",
        "\n",
        "  normal_grass_coverage = 0.2\n",
        "  tallgrass_coverage = 0.1\n",
        "\n",
        "\n",
        "  # Define a colour map that maps each cell state to an intuitive colour.\n",
        "  #cornsilk - rgb(255,248,220) -> dry land\n",
        "  #lime - rgb(0,255,0) -> grass\n",
        "  #darkgreen - rgb(0,100,0) -> tallgrass\n",
        "  #brown - rgb(165,42,42) -> deer\n",
        "  cmap = [(225/225, 248/255, 220/255), (0, 1, 0), (0, 100/255, 0), (165/255, 42/255, 42/255)] \n",
        "  field_color_map = matplotlib.colors.ListedColormap(cmap)\n",
        "\n",
        "  \n",
        "\n",
        "  def __init__(self, size, deer_amt, deer_weight):\n",
        "    self.grassland = np.random.choice((self.GRASS ,self.TALLGRASS, self.DRY), (size, size), p=(self.normal_grass_coverage, self.tallgrass_coverage, 1-(self.normal_grass_coverage+self.tallgrass_coverage)))\n",
        "    self.wild = np.random.choice(size**2, size=deer_amt, replace=False)\n",
        "    x, y = np.unravel_index(self.wild, (size, size))\n",
        "    self.grassland[x, y] = 3\n",
        "    self.size = size\n",
        "    self.deer_amt = deer_amt\n",
        "    self.deer_weight = deer_weight\n",
        "\n",
        "    print(self.grassland)\n",
        "  \n",
        "    movementRate : int\n",
        "    weightLossRate : int\n",
        "    M : int\n",
        "    N = random.randint(20,40)\n",
        "\n",
        "    \n",
        "\n",
        "\n",
        "  def step(self):\n",
        "    \"\"\"Executes one time step, applying the CA rules to regenerate and burn forest.\"\"\"\n",
        "    # TODO: define the rules for the CA.  This is a significant challenge b/c there are 4 rules and they must act independently!\n",
        "    # self.occupiedList.append(self.num_occupied()) # appending num occupied to master list\n",
        "\n",
        "    # first get the occupied cells\n",
        "    # then move the deer and get their cell location\n",
        "    # check boolean matrix of occupied against to boolean matrix of deer\n",
        "    # if true and true, deer's weight index goes up and the cell turns dry\n",
        "    # otherwise, the deer's weight index goes down\n",
        "    \n",
        "    occupied = self.grassland == self.GRASS\n",
        "    bush = self.grassland == self.TALLGRASS\n",
        "    empty = self.grassland == self.DRY\n",
        "\n",
        "\n",
        "    # deer = self.grassland == self.DEER\n",
        "    # print(f'deer {deer}')\n",
        "\n",
        "    # deer_ys, deer_xs = np.where(self.grasssland==3)\n",
        "    # print(f'right one: {np.where(self.grassland == 3)}')\n",
        "    # print(f'deer_coor: {deer_xs, deer_ys}')\n",
        "\n",
        "    deer_y, deer_x = np.where(self.grassland == self.DEER)\n",
        "    deer_loc = np.array([(a,b) for a,b in zip(deer_x, deer_y)])\n",
        "\n",
        "    print(deer_loc)\n",
        "    deer_loc[0][0] = deer_loc[0][0]+2\n",
        "    print(f'after changing 1st loc:\\n{deer_loc}')\n",
        "\n",
        "    \n",
        "\n",
        "    \n",
        "    grass2bush = 0.05\n",
        "    dry2grass = 0.09\n",
        "    # dx, dy = random.choice([(0,1), (0,-1), (1,0), (-1,0)])\n",
        "    # new_x, new_y = x + dx, y + dy\n",
        "\n",
        "    # correlated_matrix = correlate2d(self.array, self.kernel, mode='same', boundary='wrap')\n",
        "    # burning_neighbour = correlated_matrix > 4\n",
        "    \n",
        "    self.grassland[occupied] = np.random.choice([self.TALLGRASS, self.GRASS], self.grassland[occupied].shape, p=(grass2bush, 1-grass2bush))\n",
        "    self.grassland[empty] = np.random.choice([self.GRASS, self.DRY], self.grassland[empty].shape, p=(dry2grass, 1-dry2grass))\n",
        "    # self.array[occupied & burning_neighbour] = self.FIRE #sets cell with tree and burning neighbours on fire on next step\n",
        "    # self.array[onFire] = self.EMPTY\n",
        "\n",
        "  def draw(self, axes=None, step=''):\n",
        "        \"\"\"Draws the CA cells using the forest colour map so values are coloured intuitively.\"\"\"\n",
        "        axes = axes or plt.axes\n",
        "        title = f'Time:{step}' #Occupied: {round(self.pct_occupied() * 100, 2)}%'\n",
        "        plot_2D_array(self.grassland, axes=axes, title=title,\n",
        "                      cmap=self.field_color_map, vmin=0, vmax=len(self.field_color_map.colors))\n",
        "\n",
        "\n",
        "  def plot_grass_deer(grass, deer):\n",
        "    fig, ax = plt.subplots()\n",
        "    ax.imshow(grass, cmap='Greens')\n",
        "    deer_xs, deer_ys = np.where(deer > 0)\n",
        "    ax.scatter(deer_ys, deer_xs, marker='o', color='brown')\n",
        "    plt.show()\n",
        "\n",
        "\n",
        "  def plot_grassland(self):\n",
        "      # fig, ax = plt.subplots()\n",
        "      # ax.imshow(self.grassland, cmap='Greens')\n",
        "\n",
        "      # for i in range(self.size):\n",
        "      #     for j in range(self.size):\n",
        "      #         if self.deer[i, j] > 0:\n",
        "      #             # Add small random offset to x and y coordinates\n",
        "      #             x_offset, y_offset = np.random.uniform(low=-0.5, high=0.5, size=2)\n",
        "      #             x = i + x_offset\n",
        "      #             y = j + y_offset\n",
        "      #             ax.add_artist(plt.Circle((y, x), radius=0.4, color='black'))\n",
        "      #             ax.text(y, x, f\"{self.deer[i,j]:.1f}\", ha='center', va='center', color='white')\n",
        "\n",
        "      # plt.show()\n",
        "      # Create reference matrix for deer\n",
        "      deer_ref = np.zeros((self.size, self.size), dtype=bool)\n",
        "      for pos in self.positions:\n",
        "        x, y = divmod(pos, self.size)\n",
        "        deer_ref[x+0.5, y+0.5] = True\n",
        "      # for x, y in self.positions:\n",
        "      #     deer_ref[x, y] = True\n",
        "          \n",
        "      # Plot grassland and deer\n",
        "      fig, ax = plt.subplots(figsize=(8, 8))\n",
        "      ax.imshow(self.grassland, cmap='Greens')\n",
        "\n",
        "      # Plot deer as black circles with mass in the center\n",
        "      for i in range(self.size):\n",
        "          for j in range(self.size):\n",
        "              if deer_ref[i, j]:\n",
        "                  circle = plt.Circle((j+0.5, i+0.5), 0.5, color='black', fill=True)\n",
        "                  ax.add_artist(circle)\n",
        "                  ax.text(j+0.5, i+0.5, f'{self.deer[i, j]:.1f}', ha='center', va='center', color='white')\n"
      ],
      "metadata": {
        "id": "1wob3eWb17-9"
      },
      "execution_count": 43,
      "outputs": []
    },
    {
      "cell_type": "code",
      "source": [
        "grassland_size = 10\n",
        "# grass_coverage = 0.5 #between 0 <= grass_coverage <= 1\n",
        "no_deer = 10\n",
        "deer_weight = 50\n",
        "\n",
        "test = GrazingSimulation(grassland_size, no_deer, deer_weight)\n",
        "# print(test)\n",
        "loc = np.where(test.grassland == 3)\n",
        "# print(loc)\n",
        "tup = np.array([(a,b) for a,b in zip(loc[1], loc[0])])\n",
        "\n",
        "# for i in tup:\n",
        "#   print(i)\n",
        "graze = Animation2D(test)\n",
        "\n",
        "\n",
        "graze.animate(1)\n",
        "\n",
        "\n",
        "# deer_x, deer_y = np.where(self.grassland == self.DEER)\n",
        "# deer_loc = zip(deer_x, deer_y)\n",
        "# print(deer_loc)\n",
        "\n",
        "\n",
        "\n",
        "# print(test.grassland)\n",
        "# # visual = Animation2D(test)\n",
        "# # visual.animate()\n",
        "\n",
        "# test.plot_grassland()"
      ],
      "metadata": {
        "id": "Z2iqb0r_Ld69",
        "colab": {
          "base_uri": "https://localhost:8080/",
          "height": 1000
        },
        "outputId": "da253c0e-a64f-4e03-dd11-78302e0961ba"
      },
      "execution_count": 44,
      "outputs": [
        {
          "output_type": "stream",
          "name": "stdout",
          "text": [
            "[[3 1]\n",
            " [8 2]\n",
            " [1 3]\n",
            " [7 3]\n",
            " [1 4]\n",
            " [4 4]\n",
            " [9 4]\n",
            " [6 6]\n",
            " [6 7]\n",
            " [2 8]]\n",
            "after changing 1st loc:\n",
            "[[5 1]\n",
            " [8 2]\n",
            " [1 3]\n",
            " [7 3]\n",
            " [1 4]\n",
            " [4 4]\n",
            " [9 4]\n",
            " [6 6]\n",
            " [6 7]\n",
            " [2 8]]\n"
          ]
        },
        {
          "output_type": "display_data",
          "data": {
            "text/plain": [
              "<Figure size 800x800 with 1 Axes>"
            ],
            "image/png": "[encoded data removed]"
          },
          "metadata": {}
        }
      ]
    },
    {
      "cell_type": "code",
      "source": [
        "import numpy as np\n",
        "import matplotlib.pyplot as plt\n",
        "import matplotlib.colors as mcolors\n",
        "# import matplotlib.patches as mpatches\n",
        "\n",
        "# Define the size of the map\n",
        "n_rows = 10\n",
        "n_cols = 10\n",
        "\n",
        "# Generate sample data for grass and dry land\n",
        "q = 0.3\n",
        "area = np.random.choice([1,0], (n_rows, n_cols), p=(q, 1-q))\n",
        "\n",
        "# Choose a random subset of grass cells to place animals on\n",
        "n_animals = 2  # number of animals to place\n",
        "animal_indices = np.random.choice(np.arange(n_rows * n_cols), size=n_animals, replace=False)\n",
        "animal_rows, animal_cols = np.unravel_index(animal_indices, (n_rows, n_cols))\n",
        "area[animal_rows, animal_cols] = 3\n",
        "\n",
        "# Create the animals array with zeros everywhere except for the selected cells\n",
        "\n",
        "# Create a color map for dry land, grass, and deer\n",
        "cmap = mcolors.ListedColormap(['cornsilk', 'lime', 'brown'])\n",
        "\n",
        "# Plot the grass and dry land arrays as images\n",
        "fig, ax = plt.subplots()\n",
        "ax.imshow(area, cmap=cmap) #, interpolation='nearest')\n",
        "# ax.axis('off')\n",
        "\n",
        "# Add circles for the animals\n",
        "radius = 0.3  # radius of the animal circles\n",
        "# deer_ref = animals[animals==1]  #finding the cells that have deer in them\n",
        "\n",
        "# for i in range(animals.shape[0]): #checks all the rows\n",
        "#     for j in range(animals.shape[1]): #checks all the cols\n",
        "#         if animals[i, j] == 1:\n",
        "#             # Compute the center of the circle based on the cell's position\n",
        "#             x = j\n",
        "#             y = i\n",
        "#             center = (x, y)\n",
        "            \n",
        "            # Create the circle and add it to the plot\n",
        "            # circle = mpatches.Circle(center, radius, color='brown', alpha=0.8)\n",
        "            # ax.add_patch(circle)\n",
        "\n",
        "\n",
        "# Show the plot\n",
        "plt.show()\n",
        "\n",
        "###################\n",
        "\n"
      ],
      "metadata": {
        "colab": {
          "base_uri": "https://localhost:8080/",
          "height": 429
        },
        "id": "XBnwgPx8w7E5",
        "outputId": "16abf74c-5f5c-41f2-b427-558290b59b3e"
      },
      "execution_count": 8,
      "outputs": [
        {
          "output_type": "display_data",
          "data": {
            "text/plain": [
              "<Figure size 640x480 with 1 Axes>"
            ],
            "image/png": "[encoded data removed]"
          },
          "metadata": {}
        }
      ]
    },
    {
      "cell_type": "code",
      "source": [
        "# Grazing simulation class\n",
        "# Animation class that takes a "
      ],
      "metadata": {
        "id": "0bzKBhZqkRLJ"
      },
      "execution_count": 9,
      "outputs": []
    },
    {
      "cell_type": "code",
      "source": [
        "print(animals[animals==1])\n",
        "print(animals)\n",
        "\n",
        "print(np.where(animals==1))\n",
        "indices = np.where(animals == 1)\n",
        "\n",
        "# get the x and y coordinates from the indices and add 0.5 to get the center\n",
        "x_center = indices[1]\n",
        "y_center = indices[0]\n",
        "# create a list of the center coordinates as tuples\n",
        "centers = list(zip(x_center, y_center))\n",
        "print(f'centers: {centers}')\n",
        "print(len(centers))\n",
        "# for _ in range(len(animals[animals==1])):\n",
        "#   print(animals[animals==1].animal_rows)"
      ],
      "metadata": {
        "colab": {
          "base_uri": "https://localhost:8080/",
          "height": 224
        },
        "id": "zKQjnYLKEiz4",
        "outputId": "3ad74a75-ec3a-454f-80a0-32891d795bb3"
      },
      "execution_count": 11,
      "outputs": [
        {
          "output_type": "error",
          "ename": "NameError",
          "evalue": "ignored",
          "traceback": [
            "\u001b[0;31m---------------------------------------------------------------------------\u001b[0m",
            "\u001b[0;31mNameError\u001b[0m                                 Traceback (most recent call last)",
            "\u001b[0;32m<ipython-input-11-f017b48ffc70>\u001b[0m in \u001b[0;36m<cell line: 1>\u001b[0;34m()\u001b[0m\n\u001b[0;32m----> 1\u001b[0;31m \u001b[0mprint\u001b[0m\u001b[0;34m(\u001b[0m\u001b[0manimals\u001b[0m\u001b[0;34m[\u001b[0m\u001b[0manimals\u001b[0m\u001b[0;34m==\u001b[0m\u001b[0;36m1\u001b[0m\u001b[0;34m]\u001b[0m\u001b[0;34m)\u001b[0m\u001b[0;34m\u001b[0m\u001b[0;34m\u001b[0m\u001b[0m\n\u001b[0m\u001b[1;32m      2\u001b[0m \u001b[0mprint\u001b[0m\u001b[0;34m(\u001b[0m\u001b[0manimals\u001b[0m\u001b[0;34m)\u001b[0m\u001b[0;34m\u001b[0m\u001b[0;34m\u001b[0m\u001b[0m\n\u001b[1;32m      3\u001b[0m \u001b[0;34m\u001b[0m\u001b[0m\n\u001b[1;32m      4\u001b[0m \u001b[0mprint\u001b[0m\u001b[0;34m(\u001b[0m\u001b[0mnp\u001b[0m\u001b[0;34m.\u001b[0m\u001b[0mwhere\u001b[0m\u001b[0;34m(\u001b[0m\u001b[0manimals\u001b[0m\u001b[0;34m==\u001b[0m\u001b[0;36m1\u001b[0m\u001b[0;34m)\u001b[0m\u001b[0;34m)\u001b[0m\u001b[0;34m\u001b[0m\u001b[0;34m\u001b[0m\u001b[0m\n\u001b[1;32m      5\u001b[0m \u001b[0mindices\u001b[0m \u001b[0;34m=\u001b[0m \u001b[0mnp\u001b[0m\u001b[0;34m.\u001b[0m\u001b[0mwhere\u001b[0m\u001b[0;34m(\u001b[0m\u001b[0manimals\u001b[0m \u001b[0;34m==\u001b[0m \u001b[0;36m1\u001b[0m\u001b[0;34m)\u001b[0m\u001b[0;34m\u001b[0m\u001b[0;34m\u001b[0m\u001b[0m\n",
            "\u001b[0;31mNameError\u001b[0m: name 'animals' is not defined"
          ]
        }
      ]
    },
    {
      "cell_type": "code",
      "source": [
        "# print(test.grassland > 0)\n",
        "# print(test.grassland[test.grassland == 1])"
      ],
      "metadata": {
        "id": "P7IpYwOHzdRq"
      },
      "execution_count": null,
      "outputs": []
    },
    {
      "cell_type": "code",
      "source": [
        "# test = Grazing2D(1,1,1)\n",
        "# # print(test.field)\n",
        "\n",
        "# model = Animation2D(test)\n",
        "# model.animate()"
      ],
      "metadata": {
        "id": "nNNpfaFp4Hbc"
      },
      "execution_count": null,
      "outputs": []
    },
    {
      "cell_type": "code",
      "source": [
        "#STUFF I NEED TO DO\n",
        "\n",
        "# 1. Create a grassland\n",
        "# 2. Find a way to introduce deer onto the grassaland (each with a weight index of W)\n",
        "# 3. Find a way to make the deer move via a random walk\n",
        "# 4. When deer graze, the weight index increases to M (i guess i can choose the rate at which it increases)\n",
        "# 5. When its not grazing (looking for food), W decreases (i guess i chose this rate too)\n",
        "# 6. Deer dies when W gets to 0\n",
        "\n",
        "\n",
        "# HOW IM GOING TO DO IT\n",
        "\n",
        "# 1. create an np array and randomly fill it from 0-3. 0 for no grass, 3 for most grass. using np.random.choice()"
      ],
      "metadata": {
        "id": "iY0SuuW2Lsz1"
      },
      "execution_count": null,
      "outputs": []
    },
    {
      "cell_type": "code",
      "source": [
        "# grassland = np.random.choice([0,1,2,3], (15,15), p=[0.5, 0.3, 0.1, 0.1])\n",
        "\n",
        "# print(grassland)"
      ],
      "metadata": {
        "id": "wSnI-ADSO902"
      },
      "execution_count": null,
      "outputs": []
    },
    {
      "cell_type": "code",
      "source": [
        "@dataclass\n",
        "class Point2D:\n",
        "    \"\"\" A point on the 2D Cartesian plane \"\"\"\n",
        "    x: int\n",
        "    y: int\n",
        "\n",
        "    def __add__(self, other):\n",
        "        \"\"\" Define the + operator for two points - vector addition \"\"\"\n",
        "        return Point2D(self.x + other.x, self.y + other.y)"
      ],
      "metadata": {
        "id": "CTtuGKbt68gF"
      },
      "execution_count": 12,
      "outputs": []
    },
    {
      "cell_type": "code",
      "source": [
        "# N, S, E, W\n",
        "CARDINAL_NEIGHBOURS = (Point2D(0, 1), Point2D(0, -1), Point2D(1, 0), Point2D(-1, 0))\n",
        "\n",
        "def random_walk(p):\n",
        "    \"\"\" \"walk\" point p 1-step, to a neighbouring cardinal locaction (lattice random walk) \"\"\"\n",
        "    return p + np.random.choice(CARDINAL_NEIGHBOURS)"
      ],
      "metadata": {
        "id": "KuRqMmUv69tn"
      },
      "execution_count": 13,
      "outputs": []
    },
    {
      "cell_type": "code",
      "source": [],
      "metadata": {
        "id": "i5O4Aftm7aKU"
      },
      "execution_count": 13,
      "outputs": []
    },
    {
      "cell_type": "markdown",
      "source": [
        "We create a GrassField class that initializes the area in which"
      ],
      "metadata": {
        "id": "jGnOTS_MEAGm"
      }
    },
    {
      "cell_type": "code",
      "source": [
        "@dataclass\n",
        "class GrassField:\n",
        "  DRY = 0\n",
        "  GRASS = 1\n",
        "  TALLGRASS = 2\n",
        "  \n",
        "  def __init__(self, size, pGrass = 0.5, pTall = 0.1):\n",
        "    self.field = np.random.choice((self.GRASS, self.TALLGRASS, self.DRY), (size, size), p = [pGrass, pTall, 1-(pGrass+pTall)])\n",
        "\n",
        "    self.covered = self.field[self.field==self.GRASS]\n",
        "    self.bare = self.field[self.field==self.DRY]\n",
        "\n",
        "\n",
        "  def spawnGrass(self, pctOfSize):\n",
        "    grasses = len(self.field)**2 * pctOfSize #gets total number of cells of the grassland and gets a percentage of those cells to regrow\n",
        "    self.field[self.field==self.DRY] = np.random.choice([self.GRASS, self.DRY], self.bare.shape, p=(pctOfSize, 1-pctOfSize))\n",
        "    \n"
      ],
      "metadata": {
        "id": "6kZ6-p2skt2A"
      },
      "execution_count": 14,
      "outputs": []
    },
    {
      "cell_type": "code",
      "source": [
        "test = GrassField(10)\n",
        "print(test.field)\n",
        "print(f'no. of bare = {len(test.field[test.field==0])}')\n",
        "print('\\n')\n",
        "test.spawnGrass(.50)\n",
        "print(test.field)\n",
        "print(f'no. of bare = {len(test.field[test.field==0])}')"
      ],
      "metadata": {
        "colab": {
          "base_uri": "https://localhost:8080/"
        },
        "id": "qgJLw3UsmUDT",
        "outputId": "99fe456a-6ff7-4b61-89a1-f142ed42941f"
      },
      "execution_count": 15,
      "outputs": [
        {
          "output_type": "stream",
          "name": "stdout",
          "text": [
            "[[2 1 1 1 0 1 1 1 1 2]\n",
            " [0 1 1 0 0 0 1 1 1 1]\n",
            " [1 0 1 1 0 1 1 1 0 2]\n",
            " [1 0 1 1 0 0 0 1 1 0]\n",
            " [0 0 0 1 0 1 2 2 1 1]\n",
            " [0 1 0 0 0 1 1 0 0 1]\n",
            " [1 1 1 2 1 0 2 0 0 0]\n",
            " [0 0 1 1 1 0 0 1 0 1]\n",
            " [0 0 1 1 1 2 2 2 0 0]\n",
            " [0 2 1 1 0 0 0 1 0 1]]\n",
            "no. of bare = 41\n",
            "\n",
            "\n",
            "[[2 1 1 1 0 1 1 1 1 2]\n",
            " [0 1 1 0 1 1 1 1 1 1]\n",
            " [1 0 1 1 0 1 1 1 1 2]\n",
            " [1 1 1 1 1 0 0 1 1 0]\n",
            " [1 1 1 1 0 1 2 2 1 1]\n",
            " [0 1 1 1 0 1 1 0 1 1]\n",
            " [1 1 1 2 1 0 2 1 1 1]\n",
            " [1 0 1 1 1 1 0 1 0 1]\n",
            " [1 1 1 1 1 2 2 2 1 1]\n",
            " [1 2 1 1 1 0 1 1 0 1]]\n",
            "no. of bare = 18\n"
          ]
        }
      ]
    },
    {
      "cell_type": "code",
      "source": [
        "# deer_dtype = np.dtype([\n",
        "#     ('x', np.int64),\n",
        "#     ('y', np.int64),\n",
        "#     ('M', np.int64),\n",
        "#     ('W', np.int64),\n",
        "#     (\"metabolism\", np.int64)\n",
        "# ])\n",
        "\n",
        "@dataclass\n",
        "class Deer:\n",
        "  NONEXISTENT = 0\n",
        "  DEATHWEIGHT = 3\n",
        "  W : int\n",
        "  M : int\n",
        "  metabolism : int\n",
        "  x : int\n",
        "  y : int\n",
        "  \n",
        "  def __init__(self, M, W, metaboolism):\n",
        "    self.M = M\n",
        "    self.W = W\n",
        "    self.metabolism = metaboolism\n",
        "\n",
        "  def loseWeight(self):\n",
        "    self.W -= self.metabolism\n",
        "\n",
        "  def gainWeight(self):\n",
        "    self.W += self.metabolism #i think this should equal the number of the cell it is on\n",
        "\n",
        "  def randomWalk(self):\n",
        "    # do random x or y\n",
        "    # do random +1 -1\n",
        "    xyChoice = random.choice([self.x, self.y])\n",
        "    addChoice = random.choice([-1, 1])\n",
        "\n",
        "    xyChoice += addChoice\n",
        "\n",
        "  def __str__(self):\n",
        "    return W"
      ],
      "metadata": {
        "id": "70BNB-s4MVmF"
      },
      "execution_count": 16,
      "outputs": []
    },
    {
      "cell_type": "code",
      "source": [
        "@dataclass\n",
        "class deerField:\n",
        "  EMPTY = 0\n",
        "  DEATHWEIGHT = 3\n",
        "\n",
        "  def __init__(self,size, n, M, W, metabolsm):\n",
        "    \"\"\"\n",
        "    size = size of grassland\n",
        "    n = no. of deer\n",
        "    M = max weight\n",
        "    W = current weight\n",
        "    metabolism = amount of weight loss per step\n",
        "    \"\"\"\n",
        "    self.field = np.random.choice(np.arange(size * size), size=n, replace=False)\n",
        "    self.field = np.zeros((size, size))\n",
        "    indices = np.random.choice(size*size, size=5, replace=False) \n",
        "    for index in indices:\n",
        "     self.field[index] = Deer(51, 15, 3)\n",
        "\n",
        "    self.M = M\n",
        "    self.W = W\n",
        "\n",
        "  def step(self):\n",
        "\n",
        "    #find indices for each deer. does not preserve Weight value of deer.\n",
        "    indices = np.where(self.field[self.field > 3])\n",
        "    deathIndices = np.where(self.field[self.field == 3])\n",
        "    self.field[deathIndices] = 0\n",
        "    # get the x and y coordinates from the indices and add 0.5 to get the center\n",
        "    x_center = indices[1]\n",
        "    y_center = indices[0]\n",
        "    # create a list of the center coordinates as tuples\n",
        "    centers = list(zip(x_center, y_center))\n",
        "    for deer in indices:\n",
        "      deer.randomWalk()\n",
        "      deer.loseWeight()\n",
        "    \n",
        "# integrate Deer class into deerField instead of using their weight to keep track\n",
        "# make them graze (operation on the grassField, then gain weight, lose weight otherwise)\n",
        "# animate the entire model !\n",
        "\n",
        "\n",
        "\n",
        "# N, S, E, W\n",
        "# CARDINAL_NEIGHBOURS = (Point2D(0, 1), Point2D(0, -1), Point2D(1, 0), Point2D(-1, 0))\n",
        "\n",
        "# def random_walk(p):\n",
        "#     \"\"\" \"walk\" point p 1-step, to a neighbouring cardinal locaction (lattice random walk) \"\"\"\n",
        "#     return p + np.random.choice(CARDINAL_NEIGHBOURS)\n",
        "\n",
        "\n",
        "\n",
        "testDeer = deerField(5, 5, 30, 10, 1)\n",
        "print(testDeer.field)\n",
        "testDeer.step()"
      ],
      "metadata": {
        "colab": {
          "base_uri": "https://localhost:8080/",
          "height": 340
        },
        "id": "dMfK4I1FqPf-",
        "outputId": "7baf0434-4c92-4ba2-8aa3-9205b672b087"
      },
      "execution_count": 17,
      "outputs": [
        {
          "output_type": "error",
          "ename": "IndexError",
          "evalue": "ignored",
          "traceback": [
            "\u001b[0;31m---------------------------------------------------------------------------\u001b[0m",
            "\u001b[0;31mIndexError\u001b[0m                                Traceback (most recent call last)",
            "\u001b[0;32m<ipython-input-17-f2587de34501>\u001b[0m in \u001b[0;36m<cell line: 53>\u001b[0;34m()\u001b[0m\n\u001b[1;32m     51\u001b[0m \u001b[0;34m\u001b[0m\u001b[0m\n\u001b[1;32m     52\u001b[0m \u001b[0;34m\u001b[0m\u001b[0m\n\u001b[0;32m---> 53\u001b[0;31m \u001b[0mtestDeer\u001b[0m \u001b[0;34m=\u001b[0m \u001b[0mdeerField\u001b[0m\u001b[0;34m(\u001b[0m\u001b[0;36m5\u001b[0m\u001b[0;34m,\u001b[0m \u001b[0;36m5\u001b[0m\u001b[0;34m,\u001b[0m \u001b[0;36m30\u001b[0m\u001b[0;34m,\u001b[0m \u001b[0;36m10\u001b[0m\u001b[0;34m,\u001b[0m \u001b[0;36m1\u001b[0m\u001b[0;34m)\u001b[0m\u001b[0;34m\u001b[0m\u001b[0;34m\u001b[0m\u001b[0m\n\u001b[0m\u001b[1;32m     54\u001b[0m \u001b[0mprint\u001b[0m\u001b[0;34m(\u001b[0m\u001b[0mtestDeer\u001b[0m\u001b[0;34m.\u001b[0m\u001b[0mfield\u001b[0m\u001b[0;34m)\u001b[0m\u001b[0;34m\u001b[0m\u001b[0;34m\u001b[0m\u001b[0m\n\u001b[1;32m     55\u001b[0m \u001b[0mtestDeer\u001b[0m\u001b[0;34m.\u001b[0m\u001b[0mstep\u001b[0m\u001b[0;34m(\u001b[0m\u001b[0;34m)\u001b[0m\u001b[0;34m\u001b[0m\u001b[0;34m\u001b[0m\u001b[0m\n",
            "\u001b[0;32m<ipython-input-17-f2587de34501>\u001b[0m in \u001b[0;36m__init__\u001b[0;34m(self, size, n, M, W, metabolsm)\u001b[0m\n\u001b[1;32m     16\u001b[0m     \u001b[0mindices\u001b[0m \u001b[0;34m=\u001b[0m \u001b[0mnp\u001b[0m\u001b[0;34m.\u001b[0m\u001b[0mrandom\u001b[0m\u001b[0;34m.\u001b[0m\u001b[0mchoice\u001b[0m\u001b[0;34m(\u001b[0m\u001b[0msize\u001b[0m\u001b[0;34m*\u001b[0m\u001b[0msize\u001b[0m\u001b[0;34m,\u001b[0m \u001b[0msize\u001b[0m\u001b[0;34m=\u001b[0m\u001b[0;36m5\u001b[0m\u001b[0;34m,\u001b[0m \u001b[0mreplace\u001b[0m\u001b[0;34m=\u001b[0m\u001b[0;32mFalse\u001b[0m\u001b[0;34m)\u001b[0m\u001b[0;34m\u001b[0m\u001b[0;34m\u001b[0m\u001b[0m\n\u001b[1;32m     17\u001b[0m     \u001b[0;32mfor\u001b[0m \u001b[0mindex\u001b[0m \u001b[0;32min\u001b[0m \u001b[0mindices\u001b[0m\u001b[0;34m:\u001b[0m\u001b[0;34m\u001b[0m\u001b[0;34m\u001b[0m\u001b[0m\n\u001b[0;32m---> 18\u001b[0;31m      \u001b[0mself\u001b[0m\u001b[0;34m.\u001b[0m\u001b[0mfield\u001b[0m\u001b[0;34m[\u001b[0m\u001b[0mindex\u001b[0m\u001b[0;34m]\u001b[0m \u001b[0;34m=\u001b[0m \u001b[0mDeer\u001b[0m\u001b[0;34m(\u001b[0m\u001b[0;36m51\u001b[0m\u001b[0;34m,\u001b[0m \u001b[0;36m15\u001b[0m\u001b[0;34m,\u001b[0m \u001b[0;36m3\u001b[0m\u001b[0;34m)\u001b[0m\u001b[0;34m\u001b[0m\u001b[0;34m\u001b[0m\u001b[0m\n\u001b[0m\u001b[1;32m     19\u001b[0m \u001b[0;34m\u001b[0m\u001b[0m\n\u001b[1;32m     20\u001b[0m     \u001b[0mself\u001b[0m\u001b[0;34m.\u001b[0m\u001b[0mM\u001b[0m \u001b[0;34m=\u001b[0m \u001b[0mM\u001b[0m\u001b[0;34m\u001b[0m\u001b[0;34m\u001b[0m\u001b[0m\n",
            "\u001b[0;31mIndexError\u001b[0m: index 20 is out of bounds for axis 0 with size 5"
          ]
        }
      ]
    },
    {
      "cell_type": "markdown",
      "source": [
        "want to be able to create a deer dataclass\n",
        "\n",
        "input random no. of deer that we want. deer get generated and assigned random ints for their location without repeating it"
      ],
      "metadata": {
        "id": "fm1nvb5eIErN"
      }
    }
  ]
}