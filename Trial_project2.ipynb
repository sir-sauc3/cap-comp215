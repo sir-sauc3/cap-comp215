{
  "nbformat": 4,
  "nbformat_minor": 0,
  "metadata": {
    "colab": {
      "provenance": [],
      "authorship_tag": "ABX9TyMr4HbdxHaCUgeyHlwGRugK",
      "include_colab_link": true
    },
    "kernelspec": {
      "name": "python3",
      "display_name": "Python 3"
    },
    "language_info": {
      "name": "python"
    }
  },
  "cells": [
    {
      "cell_type": "markdown",
      "metadata": {
        "id": "view-in-github",
        "colab_type": "text"
      },
      "source": [
        "<a href=\"https://colab.research.google.com/github/sir-sauc3/cap-comp215/blob/main/Trial_project2.ipynb\" target=\"_parent\"><img src=\"https://colab.research.google.com/assets/colab-badge.svg\" alt=\"Open In Colab\"/></a>"
      ]
    },
    {
      "cell_type": "code",
      "execution_count": 25,
      "metadata": {
        "id": "iTRxTv9uEn-6"
      },
      "outputs": [],
      "source": [
        "import numpy as np\n",
        "from dataclasses import dataclass\n",
        "from pprint import pprint\n",
        "import random\n",
        "from scipy.signal import correlate2d\n",
        "\n",
        "import time\n",
        "\n",
        "import matplotlib\n",
        "import matplotlib.pyplot as plt\n",
        "from matplotlib import animation"
      ]
    },
    {
      "cell_type": "code",
      "source": [
        "# class Deer:\n",
        "  \n",
        "#   def __init__(self, loc):\n",
        "#     self.loc = tuple(loc)\n",
        "\n",
        "#     weight = 20\n",
        "#     max_weight = 60\n",
        "#     metabolism = 5\n",
        "\n",
        "  \n",
        "#   def step():\n",
        "#     #make a random cardinal movement\n",
        "#     #graze if grass is there\n",
        "#     #increase weight if deer grazed or decrease weight if deer didnt graze\n",
        "#     return\n",
        "\n",
        "\n",
        "def random_walk(n):\n",
        "  x,y = 0,0\n",
        "\n",
        "  for i in range(n):\n",
        "    dx, dy = random.choice([(1,0), (-1,0), (0,1), (0,-1)])\n",
        "    x+=dx\n",
        "    y+=dy\n",
        "\n",
        "  return((x, y))\n",
        "\n",
        "\n",
        "for i in range(10):\n",
        "  test = random_walk(15)\n",
        "  print(f'abs coordinate positions are: {test}')"
      ],
      "metadata": {
        "colab": {
          "base_uri": "https://localhost:8080/"
        },
        "id": "6VDmOBuvE_Px",
        "outputId": "83411023-01f5-4238-ddc6-1e3364d2c289"
      },
      "execution_count": 2,
      "outputs": [
        {
          "output_type": "stream",
          "name": "stdout",
          "text": [
            "abs coordinate positions are: (3, -2)\n",
            "abs coordinate positions are: (1, 4)\n",
            "abs coordinate positions are: (-3, 0)\n",
            "abs coordinate positions are: (-1, -2)\n",
            "abs coordinate positions are: (-3, 0)\n",
            "abs coordinate positions are: (1, -4)\n",
            "abs coordinate positions are: (1, 2)\n",
            "abs coordinate positions are: (-3, 0)\n",
            "abs coordinate positions are: (-3, 2)\n",
            "abs coordinate positions are: (2, -1)\n"
          ]
        }
      ]
    },
    {
      "cell_type": "code",
      "source": [
        "import numpy as np\n",
        "import matplotlib.pyplot as plt\n",
        "\n",
        "# Create two NumPy arrays of the same size\n",
        "arr1 = np.random.rand(3, 3)\n",
        "arr2 = np.random.rand(3, 3)\n",
        "\n",
        "# Display the arrays over each other using imshow\n",
        "fig, ax = plt.subplots()\n",
        "ax.imshow(arr1, cmap='Blues', alpha=0.5)\n",
        "ax.imshow(arr2, cmap='Reds', alpha=0.5)\n",
        "plt.show()"
      ],
      "metadata": {
        "colab": {
          "base_uri": "https://localhost:8080/",
          "height": 434
        },
        "id": "aggbb3orq5JH",
        "outputId": "6e143819-9da6-42db-9c37-56b8abe3dce6"
      },
      "execution_count": 3,
      "outputs": [
        {
          "output_type": "display_data",
          "data": {
            "text/plain": [
              "<Figure size 640x480 with 1 Axes>"
            ],
            "image/png": "[encoded data removed]"
          },
          "metadata": {}
        }
      ]
    },
    {
      "cell_type": "code",
      "source": [
        "import numpy as np\n",
        "import matplotlib.pyplot as plt\n",
        "\n",
        "# Create a 3x3 NumPy array with random values\n",
        "arr = np.random.rand(3, 3)\n",
        "\n",
        "print(arr)\n",
        "# Display the array using a custom colormap\n",
        "fig, ax = plt.subplots()\n",
        "im = ax.imshow(arr, cmap='coolwarm', vmin=0.5, vmax=1.2)\n",
        "\n",
        "# Add a colorbar to show the mapping of values to colors\n",
        "cbar = ax.figure.colorbar(im, ax=ax)\n",
        "\n",
        "# Show the plot\n",
        "plt.show()"
      ],
      "metadata": {
        "colab": {
          "base_uri": "https://localhost:8080/",
          "height": 483
        },
        "id": "evgncbItrxPn",
        "outputId": "55ec9121-5cf4-4d11-e445-d8e7a159bede"
      },
      "execution_count": 4,
      "outputs": [
        {
          "output_type": "stream",
          "name": "stdout",
          "text": [
            "[[0.72374822 0.24683004 0.26111174]\n",
            " [0.79696049 0.68360272 0.84612312]\n",
            " [0.61169642 0.67753256 0.74205556]]\n"
          ]
        },
        {
          "output_type": "display_data",
          "data": {
            "text/plain": [
              "<Figure size 640x480 with 2 Axes>"
            ],
            "image/png": "[encoded data removed]"
          },
          "metadata": {}
        }
      ]
    },
    {
      "cell_type": "code",
      "source": [
        "import numpy as np\n",
        "\n",
        "arr = np.random.uniform(low=-1, high=2, size=(3, 3))\n",
        "\n",
        "print(arr)\n",
        "fig, ax = plt.subplots()\n",
        "im = ax.imshow(arr, cmap='coolwarm', vmin=-0.5, vmax=1.5)\n",
        "\n",
        "# Add a colorbar to show the mapping of values to colors\n",
        "cbar = ax.figure.colorbar(im, ax=ax)\n",
        "\n",
        "# Show the plot\n",
        "plt.show()"
      ],
      "metadata": {
        "colab": {
          "base_uri": "https://localhost:8080/",
          "height": 483
        },
        "id": "QHgdhlQishRU",
        "outputId": "a01391c0-436f-47fe-cf1b-869236ff0ecd"
      },
      "execution_count": 5,
      "outputs": [
        {
          "output_type": "stream",
          "name": "stdout",
          "text": [
            "[[-0.6158997  -0.82136505 -0.7016908 ]\n",
            " [ 1.3533073   0.55699423  1.22079734]\n",
            " [ 1.44678248  1.49843565  0.78013924]]\n"
          ]
        },
        {
          "output_type": "display_data",
          "data": {
            "text/plain": [
              "<Figure size 640x480 with 2 Axes>"
            ],
            "image/png": "[encoded data removed]"
          },
          "metadata": {}
        }
      ]
    },
    {
      "cell_type": "code",
      "source": [
        "class Grazing_sim:\n",
        "\n",
        "  kernel = np.array([[0, 1, 0],\n",
        "                     [1, 0, 1],\n",
        "                     [0, 1, 0]])\n",
        "\n",
        "  def __init__(self, size, deer_amt, q):\n",
        "    self.size = size\n",
        "    self.deer_amt = deer_amt\n",
        "    self.q = q\n",
        "    self.one = np.random.choice([1, 0], (self.size,self.size), p=(q, 1-q))\n",
        "    two = np.random.choice(self.size**2, size=deer_amt, replace=False)\n",
        "    x, y = np.unravel_index(two, (self.size, self.size))\n",
        "    two = np.zeros((self.size,self.size))\n",
        "    two[x,y] = 3\n",
        "\n",
        "    print(self.one)\n",
        "    correlated_matrix = correlate2d(self.one, self.kernel, mode='same', boundary='wrap')\n",
        "    print(correlated_matrix)\n",
        "\n",
        "    self.three = np.where(two==3, two, self.one)\n",
        "\n",
        "\n",
        "  def draw(self):\n",
        "    fig, ax = plt.subplots()\n",
        "    cmap = [(225/225, 248/255, 220/255),(0,1,0),(0,0,0),(165/255, 42/255, 42/255)]\n",
        "    field_color_map = matplotlib.colors.ListedColormap(cmap)\n",
        "    ax.imshow(self.three, cmap=field_color_map, vmin=0, vmax=3)\n",
        "\n",
        "    # title = f'Time:{step}'\n",
        "    ax.axis('off')\n",
        "    plt.show()\n",
        "\n",
        "# print(one)\n",
        "# print(two)\n",
        "\n",
        "# deer_loc = two==3\n",
        "# print(deer_loc)\n"
      ],
      "metadata": {
        "id": "IZMhi3JPGJdB"
      },
      "execution_count": 28,
      "outputs": []
    },
    {
      "cell_type": "code",
      "source": [
        "q = 0.6\n",
        "size = 9\n",
        "deer_amt = 2\n",
        "\n",
        "test = Grazing_sim(size, deer_amt, q)\n",
        "# test.draw()"
      ],
      "metadata": {
        "colab": {
          "base_uri": "https://localhost:8080/"
        },
        "id": "vJ3SDwMf7pp6",
        "outputId": "ae26a7f8-5d57-4b10-c969-0284a63ccb02"
      },
      "execution_count": 30,
      "outputs": [
        {
          "output_type": "stream",
          "name": "stdout",
          "text": [
            "[[1 1 0 0 0 1 0 1 0]\n",
            " [0 1 1 1 0 1 0 1 0]\n",
            " [1 1 0 1 1 1 0 0 0]\n",
            " [1 1 1 1 1 1 1 1 1]\n",
            " [0 0 1 0 1 0 1 0 1]\n",
            " [1 1 0 0 1 0 0 1 0]\n",
            " [1 1 0 1 1 0 0 1 1]\n",
            " [1 0 1 0 1 0 1 1 1]\n",
            " [1 1 0 1 1 0 1 1 1]]\n",
            "[[2 3 2 2 2 1 3 2 3]\n",
            " [3 3 2 2 3 2 2 1 1]\n",
            " [2 3 4 3 3 3 2 2 2]\n",
            " [3 3 3 3 4 3 3 2 3]\n",
            " [3 3 1 3 2 3 1 4 1]\n",
            " [2 2 2 2 2 1 2 1 4]\n",
            " [4 2 3 1 3 1 2 3 3]\n",
            " [3 4 0 4 2 2 2 4 4]\n",
            " [4 2 3 1 2 3 2 4 3]]\n"
          ]
        }
      ]
    },
    {
      "cell_type": "code",
      "source": [
        "'''\n",
        "Probably want to use a kernel to tell the value of the neighboring cells\n",
        "When a deer 'sees' that theres's a cell with a value of 1, it moves there\n",
        "'''"
      ],
      "metadata": {
        "colab": {
          "base_uri": "https://localhost:8080/",
          "height": 50
        },
        "id": "6JKHHhna50yo",
        "outputId": "20d821fb-5897-486b-d431-5d5e03df82a8"
      },
      "execution_count": 21,
      "outputs": [
        {
          "output_type": "execute_result",
          "data": {
            "text/plain": [
              "\"\\nProbably want to use a kernel to tell the value of the neighboring cells\\nWhen a deer 'sees' that theres's a cell with a value of 1, it moves there\\n\""
            ],
            "application/vnd.google.colaboratory.intrinsic+json": {
              "type": "string"
            }
          },
          "metadata": {},
          "execution_count": 21
        }
      ]
    },
    {
      "cell_type": "code",
      "source": [
        "import numpy as np\n",
        "\n",
        "# Create the first array with 0s and 1s\n",
        "arr1 = np.array([[1, 0, 1],\n",
        "                 [0, 1, 0],\n",
        "                 [1, 1, 0]])\n",
        "\n",
        "# Create the second array with 0s and 3s\n",
        "arr2 = np.array([[0, 0, 0],\n",
        "                 [3, 3, 0],\n",
        "                 [0, 0, 3]])\n",
        "\n",
        "# Create the third array by combining the first and second arrays\n",
        "arr3 = np.where(arr2 == 3, arr2, arr1)\n",
        "\n",
        "# Print the arrays to check the result\n",
        "print(\"Array 1:\\n\", arr1)\n",
        "print(\"Array 2:\\n\", arr2)\n",
        "print(\"Array 3:\\n\", arr3)"
      ],
      "metadata": {
        "colab": {
          "base_uri": "https://localhost:8080/"
        },
        "id": "wVw0VzSdOBqj",
        "outputId": "589d201a-d720-461e-e9ef-175bb3dc82d8"
      },
      "execution_count": 22,
      "outputs": [
        {
          "output_type": "stream",
          "name": "stdout",
          "text": [
            "Array 1:\n",
            " [[1 0 1]\n",
            " [0 1 0]\n",
            " [1 1 0]]\n",
            "Array 2:\n",
            " [[0 0 0]\n",
            " [3 3 0]\n",
            " [0 0 3]]\n",
            "Array 3:\n",
            " [[1 0 1]\n",
            " [3 3 0]\n",
            " [1 1 3]]\n"
          ]
        }
      ]
    }
  ]
}