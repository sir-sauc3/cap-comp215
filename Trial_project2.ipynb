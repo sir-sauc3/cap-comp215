{
  "nbformat": 4,
  "nbformat_minor": 0,
  "metadata": {
    "colab": {
      "provenance": [],
      "authorship_tag": "ABX9TyN1tb8+4Fo1qeRdkTKvx5LH",
      "include_colab_link": true
    },
    "kernelspec": {
      "name": "python3",
      "display_name": "Python 3"
    },
    "language_info": {
      "name": "python"
    }
  },
  "cells": [
    {
      "cell_type": "markdown",
      "metadata": {
        "id": "view-in-github",
        "colab_type": "text"
      },
      "source": [
        "<a href=\"https://colab.research.google.com/github/sir-sauc3/cap-comp215/blob/main/Trial_project2.ipynb\" target=\"_parent\"><img src=\"https://colab.research.google.com/assets/colab-badge.svg\" alt=\"Open In Colab\"/></a>"
      ]
    },
    {
      "cell_type": "code",
      "execution_count": 1,
      "metadata": {
        "id": "iTRxTv9uEn-6"
      },
      "outputs": [],
      "source": [
        "import numpy as np\n",
        "from dataclasses import dataclass\n",
        "from pprint import pprint\n",
        "import random\n",
        "\n",
        "import time\n",
        "\n",
        "import matplotlib\n",
        "import matplotlib.pyplot as plt\n",
        "from matplotlib import animation"
      ]
    },
    {
      "cell_type": "code",
      "source": [
        "# class Deer:\n",
        "  \n",
        "#   def __init__(self, loc):\n",
        "#     self.loc = tuple(loc)\n",
        "\n",
        "#     weight = 20\n",
        "#     max_weight = 60\n",
        "#     metabolism = 5\n",
        "\n",
        "  \n",
        "#   def step():\n",
        "#     #make a random cardinal movement\n",
        "#     #graze if grass is there\n",
        "#     #increase weight if deer grazed or decrease weight if deer didnt graze\n",
        "#     return\n",
        "\n",
        "\n",
        "def random_walk(n):\n",
        "  x,y = 0,0\n",
        "\n",
        "  for i in range(n):\n",
        "    dx, dy = random.choice([(1,0), (-1,0), (0,1), (0,-1)])\n",
        "    x+=dx\n",
        "    y+=dy\n",
        "\n",
        "  return((x, y))\n",
        "\n",
        "\n",
        "for i in range(10):\n",
        "  test = random_walk(15)\n",
        "  print(f'abs coordinate positions are: {test}')"
      ],
      "metadata": {
        "colab": {
          "base_uri": "https://localhost:8080/"
        },
        "id": "6VDmOBuvE_Px",
        "outputId": "34b8d96e-fcd5-45b6-c386-f80156dee98f"
      },
      "execution_count": 2,
      "outputs": [
        {
          "output_type": "stream",
          "name": "stdout",
          "text": [
            "abs coordinate positions are: (-1, 0)\n",
            "abs coordinate positions are: (6, -3)\n",
            "abs coordinate positions are: (-3, 2)\n",
            "abs coordinate positions are: (-1, 0)\n",
            "abs coordinate positions are: (4, 1)\n",
            "abs coordinate positions are: (0, -1)\n",
            "abs coordinate positions are: (1, 2)\n",
            "abs coordinate positions are: (0, -3)\n",
            "abs coordinate positions are: (2, -3)\n",
            "abs coordinate positions are: (-8, 1)\n"
          ]
        }
      ]
    },
    {
      "cell_type": "code",
      "source": [
        "import numpy as np\n",
        "import matplotlib.pyplot as plt\n",
        "\n",
        "# Create two NumPy arrays of the same size\n",
        "arr1 = np.random.rand(3, 3)\n",
        "arr2 = np.random.rand(3, 3)\n",
        "\n",
        "# Display the arrays over each other using imshow\n",
        "fig, ax = plt.subplots()\n",
        "ax.imshow(arr1, cmap='Blues', alpha=0.5)\n",
        "ax.imshow(arr2, cmap='Reds', alpha=0.5)\n",
        "plt.show()"
      ],
      "metadata": {
        "colab": {
          "base_uri": "https://localhost:8080/",
          "height": 434
        },
        "id": "aggbb3orq5JH",
        "outputId": "0c2a6c08-d7c9-4cb1-a3ed-6e51dad343b4"
      },
      "execution_count": 3,
      "outputs": [
        {
          "output_type": "display_data",
          "data": {
            "text/plain": [
              "<Figure size 640x480 with 1 Axes>"
            ],
            "image/png": "[encoded data removed]"
          },
          "metadata": {}
        }
      ]
    },
    {
      "cell_type": "code",
      "source": [
        "import numpy as np\n",
        "import matplotlib.pyplot as plt\n",
        "\n",
        "# Create a 3x3 NumPy array with random values\n",
        "arr = np.random.rand(3, 3)\n",
        "\n",
        "print(arr)\n",
        "# Display the array using a custom colormap\n",
        "fig, ax = plt.subplots()\n",
        "im = ax.imshow(arr, cmap='coolwarm', vmin=0.5, vmax=1.2)\n",
        "\n",
        "# Add a colorbar to show the mapping of values to colors\n",
        "cbar = ax.figure.colorbar(im, ax=ax)\n",
        "\n",
        "# Show the plot\n",
        "plt.show()"
      ],
      "metadata": {
        "colab": {
          "base_uri": "https://localhost:8080/",
          "height": 483
        },
        "id": "evgncbItrxPn",
        "outputId": "8ba85491-a27f-4eee-b7f9-e4ec6c6f1320"
      },
      "execution_count": 4,
      "outputs": [
        {
          "output_type": "stream",
          "name": "stdout",
          "text": [
            "[[0.85098972 0.24199819 0.49309872]\n",
            " [0.96243405 0.17947312 0.82032962]\n",
            " [0.30781378 0.53252742 0.86716094]]\n"
          ]
        },
        {
          "output_type": "display_data",
          "data": {
            "text/plain": [
              "<Figure size 640x480 with 2 Axes>"
            ],
            "image/png": "[encoded data removed]"
          },
          "metadata": {}
        }
      ]
    },
    {
      "cell_type": "code",
      "source": [
        "import numpy as np\n",
        "\n",
        "arr = np.random.uniform(low=-1, high=2, size=(3, 3))\n",
        "\n",
        "print(arr)\n",
        "fig, ax = plt.subplots()\n",
        "im = ax.imshow(arr, cmap='coolwarm', vmin=-0.5, vmax=1.5)\n",
        "\n",
        "# Add a colorbar to show the mapping of values to colors\n",
        "cbar = ax.figure.colorbar(im, ax=ax)\n",
        "\n",
        "# Show the plot\n",
        "plt.show()"
      ],
      "metadata": {
        "colab": {
          "base_uri": "https://localhost:8080/",
          "height": 483
        },
        "id": "QHgdhlQishRU",
        "outputId": "44452509-f7af-4313-f5e5-84ea832b7ae6"
      },
      "execution_count": 5,
      "outputs": [
        {
          "output_type": "stream",
          "name": "stdout",
          "text": [
            "[[-0.69424805  0.52479704  1.32678147]\n",
            " [-0.47636772  0.55161346  1.22956916]\n",
            " [ 1.27898415 -0.39458262 -0.83516395]]\n"
          ]
        },
        {
          "output_type": "display_data",
          "data": {
            "text/plain": [
              "<Figure size 640x480 with 2 Axes>"
            ],
            "image/png": "[encoded data removed]"
          },
          "metadata": {}
        }
      ]
    },
    {
      "cell_type": "code",
      "source": [
        "q = 0.3\n",
        "size = 9\n",
        "deer_amt = 2\n",
        "\n",
        "one = np.random.choice([1, 0], (size,size), p=(q, 1-q))\n",
        "two = np.random.choice(size**2, size=deer_amt, replace=False)\n",
        "x, y = np.unravel_index(two, (size, size))\n",
        "two = np.zeros((size,size))\n",
        "two[x,y] = 3\n",
        "\n",
        "three = np.where(two==3, two, one)\n",
        "print(three)\n",
        "\n",
        "fig, ax = plt.subplots()\n",
        "cmap = [(225/225, 248/255, 220/255),(0,1,0),(0,0,0),(165/255, 42/255, 42/255)]\n",
        "field_color_map = matplotlib.colors.ListedColormap(cmap)\n",
        "ax.imshow(three, cmap=field_color_map, vmin=0, vmax=3)\n",
        "\n",
        "ax.axis('off')\n",
        "plt.show()\n",
        "\n",
        "# print(one)\n",
        "# print(two)\n",
        "\n",
        "# deer_loc = two==3\n",
        "# print(deer_loc)\n"
      ],
      "metadata": {
        "colab": {
          "base_uri": "https://localhost:8080/",
          "height": 554
        },
        "id": "IZMhi3JPGJdB",
        "outputId": "f7d4e4c6-f077-4f0c-a865-09ac97dab103"
      },
      "execution_count": 58,
      "outputs": [
        {
          "output_type": "stream",
          "name": "stdout",
          "text": [
            "[[0. 1. 1. 0. 1. 0. 1. 0. 0.]\n",
            " [1. 0. 0. 0. 3. 0. 0. 0. 1.]\n",
            " [0. 0. 0. 1. 0. 0. 1. 0. 0.]\n",
            " [0. 1. 1. 1. 0. 0. 0. 0. 1.]\n",
            " [0. 1. 0. 0. 1. 0. 1. 0. 0.]\n",
            " [0. 1. 0. 1. 1. 1. 0. 0. 1.]\n",
            " [0. 0. 0. 0. 1. 1. 1. 0. 0.]\n",
            " [0. 0. 1. 1. 0. 3. 0. 0. 1.]\n",
            " [0. 0. 0. 0. 0. 1. 0. 1. 0.]]\n"
          ]
        },
        {
          "output_type": "display_data",
          "data": {
            "text/plain": [
              "<Figure size 640x480 with 1 Axes>"
            ],
            "image/png": "[encoded data removed]"
          },
          "metadata": {}
        }
      ]
    },
    {
      "cell_type": "code",
      "source": [
        "import numpy as np\n",
        "\n",
        "# Create the first array with 0s and 1s\n",
        "arr1 = np.array([[1, 0, 1],\n",
        "                 [0, 1, 0],\n",
        "                 [1, 1, 0]])\n",
        "\n",
        "# Create the second array with 0s and 3s\n",
        "arr2 = np.array([[0, 0, 0],\n",
        "                 [3, 3, 0],\n",
        "                 [0, 0, 3]])\n",
        "\n",
        "# Create the third array by combining the first and second arrays\n",
        "arr3 = np.where(arr2 == 3, arr2, arr1)\n",
        "\n",
        "# Print the arrays to check the result\n",
        "print(\"Array 1:\\n\", arr1)\n",
        "print(\"Array 2:\\n\", arr2)\n",
        "print(\"Array 3:\\n\", arr3)"
      ],
      "metadata": {
        "colab": {
          "base_uri": "https://localhost:8080/"
        },
        "id": "wVw0VzSdOBqj",
        "outputId": "cca5b9f0-243f-4f86-afdb-c20c7562644e"
      },
      "execution_count": 40,
      "outputs": [
        {
          "output_type": "stream",
          "name": "stdout",
          "text": [
            "Array 1:\n",
            " [[1 0 1]\n",
            " [0 1 0]\n",
            " [1 1 0]]\n",
            "Array 2:\n",
            " [[0 0 0]\n",
            " [3 3 0]\n",
            " [0 0 3]]\n",
            "Array 3:\n",
            " [[1 0 1]\n",
            " [3 3 0]\n",
            " [1 1 3]]\n"
          ]
        }
      ]
    }
  ]
}