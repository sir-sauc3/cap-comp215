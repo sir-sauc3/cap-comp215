{
  "cells": [
    {
      "cell_type": "markdown",
      "source": [
        "# Lab 7: Fractal Dimension of Natural Disturbance\n",
        "In [1990](https://doi.org/10.1016/0375-9601(90)90451-S) Bak, Chen and Tang proposed a cellular automaton that is an abstract model of a forest fire. Each cell is in one of three states: empty, occupied by forest, or on fire.\n",
        "\n",
        "3 ecological processes is modelled: forest re-growth, fire ignition, and fire spread\n",
        "\n",
        "  * empty cells \"regenerate\" forest at a fixed rate\n",
        "  * forest fires ignite with a regular but small frequency\n",
        "  * forested cells catch fire when their neighbours are burning, and burn out in one time step.\n",
        "\n",
        "In this lab we will write a program that implements this model as a CA and look at the stable landscape patterns that emerge."
      ],
      "metadata": {
        "collapsed": false,
        "id": "vmplFAyZuqOa"
      }
    },
    {
      "cell_type": "code",
      "execution_count": 9,
      "metadata": {
        "collapsed": true,
        "id": "TX5JerCEuqOc"
      },
      "outputs": [],
      "source": [
        "import os\n",
        "import numpy as np\n",
        "import matplotlib.pyplot as plt\n",
        "import matplotlib as mpl\n",
        "from scipy.signal import correlate2d\n",
        "from scipy.stats import linregress\n",
        "\n",
        "if not os.path.exists('utils.py'):\n",
        "  !wget  https://raw.githubusercontent.com/pearcej/complex-colab/master/notebooks/utils.py\n",
        "if not os.path.exists('Cell2D.py'):\n",
        "  !wget  https://raw.githubusercontent.com/pearcej/complex-colab/master/notebooks/Cell2D.py\n",
        "from Cell2D import Cell2D, draw_array"
      ]
    },
    {
      "cell_type": "markdown",
      "source": [
        "## Data Definitions\n",
        "let's improve on the textbook's somewhat terse code style and define names for the 3 possible cell states, and a colour map that maps each cell state to an intuitive colour."
      ],
      "metadata": {
        "collapsed": false,
        "id": "v1D7ERubuqOd"
      }
    },
    {
      "cell_type": "code",
      "execution_count": 14,
      "outputs": [
        {
          "output_type": "execute_result",
          "data": {
            "text/plain": [
              "<matplotlib.colors.ListedColormap at 0x7f2aab1211f0>"
            ],
            "text/html": [
              "<div style=\"vertical-align: middle;\"><strong>from_list</strong> </div><div class=\"cmap\"><img alt=\"from_list colormap\" title=\"from_list\" style=\"border: 1px solid #555;\" src=\"data:image/png;base64,iVBORw0KGgoAAAANSUhEUgAAAgAAAABACAYAAABsv8+/AAAAGHRFWHRUaXRsZQBmcm9tX2xpc3QgY29sb3JtYXBDL89FAAAAHnRFWHREZXNjcmlwdGlvbgBmcm9tX2xpc3QgY29sb3JtYXABtCnOAAAAMHRFWHRBdXRob3IATWF0cGxvdGxpYiB2My41LjMsIGh0dHBzOi8vbWF0cGxvdGxpYi5vcmdn0eiSAAAAMnRFWHRTb2Z0d2FyZQBNYXRwbG90bGliIHYzLjUuMywgaHR0cHM6Ly9tYXRwbG90bGliLm9yZ0l3d7UAAAE1SURBVHic7dbBEYAwAMOwlsVh87IE0DssTZBfPNc51uBx89q94Ifm7gHADk7qHcfuAQDA9wQAAAQJAAAIEgAAECQAACBIAABAkAAAgCABAABBAgAAggQAAAQJAAAIEgAAECQAACBIAABAkAAAgCABAABBAgAAggQAAAQJAAAIEgAAECQAACBIAABAkAAAgCABAABBAgAAggQAAAQJAAAIEgAAECQAACBIAABAkAAAgCABAABBAgAAggQAAAQJAAAIEgAAECQAACBIAABAkAAAgCABAABBAgAAggQAAAQJAAAIEgAAECQAACBIAABAkAAAgCABAABBAgAAggQAAAQJAAAIEgAAECQAACBIAABAkAAAgCABAABBAgAAggQAAAQJAAAIEgAAECQAACBIAABAkAAAgKAbNXEEflRm1R8AAAAASUVORK5CYII=\"></div><div style=\"vertical-align: middle; max-width: 514px; display: flex; justify-content: space-between;\"><div style=\"float: left;\"><div title=\"#ff8000ff\" style=\"display: inline-block; width: 1em; height: 1em; margin: 0; vertical-align: middle; border: 1px solid #555; background-color: #ff8000ff;\"></div> under</div><div style=\"margin: 0 auto; display: inline-block;\">bad <div title=\"#00000000\" style=\"display: inline-block; width: 1em; height: 1em; margin: 0; vertical-align: middle; border: 1px solid #555; background-color: #00000000;\"></div></div><div style=\"float: right;\">over <div title=\"#ff0000ff\" style=\"display: inline-block; width: 1em; height: 1em; margin: 0; vertical-align: middle; border: 1px solid #555; background-color: #ff0000ff;\"></div></div>"
            ],
            "image/png": "[encoded data removed]"
          },
          "metadata": {},
          "execution_count": 14
        }
      ],
      "source": [
        "EMPTY = 0\n",
        "OCCUPIED = 1\n",
        "FIRE = 5\n",
        "\n",
        "cmap = [(1, 0.5, 0), (0,  1, 0), (0, 0, 0), (0, 0, 0), (0, 0, 0), (1, 0, 0)]\n",
        "cmap[EMPTY] = (1, 0.5, 0)    # brown\n",
        "cmap[OCCUPIED] = (0,  1, 0)  # green\n",
        "cmap[FIRE] = (1,  0, 0)      # red\n",
        "\n",
        "forest_colour_map = mpl.colors.ListedColormap(cmap)\n",
        "forest_colour_map"
      ],
      "metadata": {
        "pycharm": {
          "name": "#%%\n"
        },
        "id": "J2Y9k1kZuqOd",
        "outputId": "ed725c68-dcee-4afa-9502-670fdbb8d6b3",
        "colab": {
          "base_uri": "https://localhost:8080/",
          "height": 121
        }
      }
    },
    {
      "cell_type": "markdown",
      "source": [
        "## The Cellular Automata\n",
        "We'll extend the Cell2D CA, and define the step function to implement the 4 rules:\n",
        "  *  An empty cell becomes occupied with probability p.\n",
        "\n",
        "  *  A cell with a tree burns if any of its neighbors is on fire.\n",
        "\n",
        "  *  A cell with a tree spontaneously burns, with probability f, even if none of its neighbors is on fire.\n",
        "\n",
        "  *  A cell with a burning tree becomes an empty cell in the next time step.\n",
        "\n",
        "Typical values for the parameters are p=0.01 and f=0.001."
      ],
      "metadata": {
        "collapsed": false,
        "id": "DiaaO7e4uqOe"
      }
    },
    {
      "cell_type": "code",
      "execution_count": 3,
      "outputs": [],
      "source": [
        "class ForestFire(Cell2D):\n",
        "  \"\"\" 2D Cellular Automaton that simulates a fire-dominated landscape \"\"\"\n",
        "\n",
        "  # TODO: define a corelation kernel\n",
        "  kernel = [\n",
        "            [0,0,0],\n",
        "            [0,1,0],\n",
        "            [0,0,0]\n",
        "            ]\n",
        "\n",
        "  def __init__(self, n, p=0.01, f=0.001, q=0.5):\n",
        "    \"\"\"Initializes the attributes.\n",
        "\n",
        "    n: number of rows\n",
        "    p: probability an empty cells becomes \"forested\" (occupied)\n",
        "    f: probability of spontaneous fire (e.g., 1/fire ignition interval)\n",
        "    q: initial forest density (probability cell is \"forested\" in initial state)\n",
        "    \"\"\"\n",
        "    # TODO: define internal model state variables and initialize landscape with approx. q proportion of cells OCCUPIED\n",
        "    model_state = np.random.choice([0,1], (n,n), q=[q, 1-q])\n",
        "\n",
        "  def step(self):\n",
        "    \"\"\"Executes one time step, applying the CA rules to regnerate empty cells and spread fire to occupied neighbours.\"\"\"\n",
        "    # TODO: define the rules for the CA.  This is a significant challenge b/c there are 4 rules and they must act independently!\n",
        "    transitions = correlate2d(self.state, self.kernel, mode='same', boundary='wrap')\n",
        "    self.state = self.next_state[transitions]\n",
        "\n",
        "  def num_occupied(self):\n",
        "    \"\"\" return the number of cells occupied by forest \"\"\"\n",
        "    return 0  # TODO: count the number of forested cells.\n",
        "\n",
        "  def pct_occupied(self):\n",
        "    \"\"\" return the proportion of cells occupied by forest \"\"\"\n",
        "    return self.num_occupied()/self.size\n",
        "\n",
        "  def draw(self):\n",
        "    \"\"\"Draws the CA cells using the forest colour map so values are coloured intuitively.\"\"\"\n",
        "    plt.axes().set_title(\"Occupied: {}%\".format(round(self.pct_occupied()*100, 2)))\n",
        "    draw_array(self.array, cmap=forest_colour_map, vmin=0, vmax=len(forest_colour_map.colors))"
      ],
      "metadata": {
        "pycharm": {
          "name": "#%%\n"
        },
        "id": "TIQG9PWvuqOe"
      }
    },
    {
      "cell_type": "markdown",
      "source": [
        "## Animation\n",
        "Create a simple animation (using Cell2d.animate method) so we can visualize and verify the system dynamics"
      ],
      "metadata": {
        "collapsed": false,
        "id": "jDnqOxOnuqOe"
      }
    },
    {
      "cell_type": "code",
      "execution_count": 4,
      "outputs": [],
      "source": [
        "# TODO: your code here.\n",
        "#  Suggestions: use a small grid (e.g., 20x20)  and\n",
        "#               a short animation (100 frames) with interval=0.3, to slow it down so you can inspect its behvaviour\n"
      ],
      "metadata": {
        "pycharm": {
          "name": "#%%\n"
        },
        "id": "NBqy4hT0uqOe"
      }
    },
    {
      "cell_type": "markdown",
      "source": [
        "## Steady State\n",
        "Starting from a random initial condition, run the model until it reaches a \"steady state\" where the number of trees no longer increases or decreases consistently.\n",
        "How might we visualize this system or take measurements to determine steady-state?\n",
        "Start by making a plan for an experiment and visualiztion that will allow you to estimate the steady-state proportion of occuppied cells."
      ],
      "metadata": {
        "collapsed": false,
        "id": "X3lUxzoRuqOe"
      }
    },
    {
      "cell_type": "code",
      "execution_count": 5,
      "outputs": [],
      "source": [
        "# TODO: compute the long-term average steady-state proportion of occupied cells."
      ],
      "metadata": {
        "pycharm": {
          "name": "#%%\n"
        },
        "id": "JSxnyoUjuqOf"
      }
    },
    {
      "cell_type": "markdown",
      "source": [
        "## Fractal Dimension\n",
        "In steady state, is the geometry of the landscape fractal?\n",
        "What is its fractal dimension?\n",
        "\n",
        "The code below is re-purpose from the ``plot_perc_scaling`` function presented in Chapter 9.\n",
        "It splits that function in 2: first to generate the scaling data (occupied cells by grid size), then to plot the results."
      ],
      "metadata": {
        "collapsed": false,
        "id": "SIEop4N_uqOf"
      }
    },
    {
      "cell_type": "code",
      "execution_count": 6,
      "outputs": [],
      "source": [
        "def calc_forest_scaling(sizes, p=0.01, f=0.001, q=0.33, run_length=200):\n",
        "    \"\"\" return a vector with one value for number of occupied cells in stable landscape, for each grid size provided \"\"\"\n",
        "    occupied = []\n",
        "    for size in sizes:\n",
        "        forest = ForestFire(n=size, p=p, f=f, q=q)\n",
        "        for _ in range(run_length):\n",
        "            forest.step()\n",
        "        occupied.append(forest.num_occupied())\n",
        "    return occupied\n",
        "\n",
        "\n",
        "def plot_forest_scaling(sizes, occupied):\n",
        "    \"\"\" plot the # of occupied cells by the size of the simulation grid \"\"\"\n",
        "    plot_options = dict(xlabel='scale', ylabel='N occupied', xscale='log', yscale='log')\n",
        "    fig, ax = plt.subplots(figsize=(6, 6), subplot_kw=plot_options)\n",
        "\n",
        "    line_options = dict(linestyle='dashed', color='gray', alpha=0.7)\n",
        "    ax.plot(sizes, sizes**2, label='d=2', **line_options)    # y =  x**2\n",
        "    ax.plot(sizes, occupied, '.', label='occupied')\n",
        "    ax.plot(sizes, sizes, label='d=1', **line_options)       # y = x\n",
        "    ax.legend()\n",
        "\n",
        "    # linear regression to estimate the slope of 3 lines (square, koch perim, linear) to estimate their dimension\n",
        "    for label, ys in [('square', sizes**2), ('landscape  ', occupied), ('linear', sizes)]:\n",
        "        params = linregress(np.log(sizes), np.log(ys))\n",
        "        print('{label} dimension: {slope}'.format(label=label, slope=params[0]))"
      ],
      "metadata": {
        "pycharm": {
          "name": "#%%\n"
        },
        "id": "yRHSi7w9uqOf"
      }
    },
    {
      "cell_type": "markdown",
      "source": [
        "If we plot the number of occupied cells versus the size of the box on a log-log scale, the slope estimates the dimension.\n",
        "\n",
        "But in this model everything scales at the same rate - total area, forested cell sizes, fire sizes, etc., so unsurprisingly, the occupied cells scale proportional to the total grid area, i.e., 2-dimensional.  \n",
        "\n",
        "What strategy could we employ to estimate the fractal dimension - the relative rate at which the \"mass\" changes as the length scale changes?"
      ],
      "metadata": {
        "collapsed": false,
        "id": "W-UFZOSLuqOf"
      }
    },
    {
      "cell_type": "code",
      "execution_count": 7,
      "outputs": [
        {
          "output_type": "stream",
          "name": "stdout",
          "text": [
            "square dimension: 2.0\n",
            "landscape   dimension: nan\n",
            "linear dimension: 1.0\n"
          ]
        },
        {
          "output_type": "stream",
          "name": "stderr",
          "text": [
            "<ipython-input-6-7a94f781c884>:25: RuntimeWarning: divide by zero encountered in log\n",
            "  params = linregress(np.log(sizes), np.log(ys))\n",
            "/usr/local/lib/python3.8/dist-packages/numpy/lib/function_base.py:2674: RuntimeWarning: invalid value encountered in subtract\n",
            "  X -= avg[:, None]\n"
          ]
        },
        {
          "output_type": "display_data",
          "data": {
            "text/plain": [
              "<Figure size 432x432 with 1 Axes>"
            ],
            "image/png": "[encoded data removed]"
          },
          "metadata": {
            "needs_background": "light"
          }
        }
      ],
      "source": [
        "sizes = np.array([10, 50, 100, 200, 500, 800, 1200])\n",
        "occupied = calc_forest_scaling(sizes)\n",
        "plot_forest_scaling(sizes, occupied)"
      ],
      "metadata": {
        "pycharm": {
          "name": "#%%\n"
        },
        "id": "ypzBKeoouqOf",
        "outputId": "6f2c2b46-618e-42c9-a2b0-367d5a0150b6",
        "colab": {
          "base_uri": "https://localhost:8080/",
          "height": 511
        }
      }
    },
    {
      "cell_type": "code",
      "execution_count": 7,
      "outputs": [],
      "source": [],
      "metadata": {
        "pycharm": {
          "name": "#%%\n"
        },
        "id": "r1UjeWTSuqOf"
      }
    }
  ],
  "metadata": {
    "kernelspec": {
      "display_name": "Python 3",
      "language": "python",
      "name": "python3"
    },
    "language_info": {
      "codemirror_mode": {
        "name": "ipython",
        "version": 2
      },
      "file_extension": ".py",
      "mimetype": "text/x-python",
      "name": "python",
      "nbconvert_exporter": "python",
      "pygments_lexer": "ipython2",
      "version": "2.7.6"
    },
    "colab": {
      "provenance": []
    }
  },
  "nbformat": 4,
  "nbformat_minor": 0
}