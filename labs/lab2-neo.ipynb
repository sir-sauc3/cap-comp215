{
  "nbformat": 4,
  "nbformat_minor": 0,
  "metadata": {
    "colab": {
      "name": "Lab2-NEO.ipynb",
      "provenance": []
    },
    "kernelspec": {
      "name": "python3",
      "language": "python",
      "display_name": "Python 3 (ipykernel)"
    },
    "language_info": {
      "name": "python"
    }
  },
  "cells": [
    {
      "cell_type": "markdown",
      "source": [],
      "metadata": {
        "id": "hAhNdApWrPcs"
      }
    },
    {
      "cell_type": "markdown",
      "source": [
        "COMP 215 - LAB 2 (NEO)\n",
        "----------------\n",
        "#### Name: Sos & Roberto\n",
        "#### Date: Jan 16 2023\n",
        "\n",
        "This lab exercise is mostly a review of strings, tuples, lists, dictionaries, and functions.\n",
        "\n",
        "**Building on new concepts from lab 1**:\n",
        "  * *f-string* simplifies string formatting operations (like, a lot!)\n",
        "  * *list comprehension* provides a compact way to represent map and filter algorithms\n",
        "\n",
        "**New Python Concepts**:\n",
        "  * *f-string* simplifies string formatting operations (like, a lot!)\n",
        "\n",
        "As usual, the first code cell simply imports all the modules we'll be using..."
      ],
      "metadata": {
        "id": "nbRPZPKZU5Pk"
      }
    },
    {
      "cell_type": "code",
      "execution_count": 1,
      "outputs": [],
      "source": [
        "import datetime, json, requests\n",
        "from pprint import pprint    # Pretty Print - built-in python function to nicely format data structures"
      ],
      "metadata": {
        "pycharm": {
          "name": "#%%\n"
        },
        "id": "_edzov27bBnP"
      }
    },
    {
      "cell_type": "markdown",
      "source": [
        "We'll answer some questions about [Near Earth Objects](https://cneos.jpl.nasa.gov/)\n",
        "> using NASA's API:  [https://api.nasa.gov/](https://api.nasa.gov/#NeoWS)\n",
        "\n",
        "You should register for your own API key, (but may use the DEMO_KEY to get started).\n",
        "\n",
        "First we need a short tutorial on python dates and [f-strings](https://realpython.com/python-f-strings/)..."
      ],
      "metadata": {
        "collapsed": false,
        "pycharm": {
          "name": "#%% md\n"
        },
        "id": "pia96IWxbBnQ"
      }
    },
    {
      "cell_type": "code",
      "execution_count": 2,
      "outputs": [
        {
          "output_type": "stream",
          "name": "stdout",
          "text": [
            "2023-01-23 <class 'datetime.date'>\n",
            "Today is: 2023-01-23\n"
          ]
        }
      ],
      "source": [
        "today = datetime.date.today()   # get a date object representing today's date\n",
        "print(today, type(today))\n",
        "formatted_date = f'Today is: {today}'   # A format string - notice how the variable `today` is formatted into the stringg\n",
        "print(formatted_date)"
      ],
      "metadata": {
        "pycharm": {
          "name": "#%%\n"
        },
        "colab": {
          "base_uri": "https://localhost:8080/"
        },
        "id": "Seq-jQGubBnQ",
        "outputId": "2ca08e08-7bed-47cc-f818-69cd0cdc2d79"
      }
    },
    {
      "cell_type": "markdown",
      "source": [
        "### Make a query\n",
        "\n",
        "Let's get some data from the NEO database...\n",
        "Here's a query that gets the observation \"feed\" for today:"
      ],
      "metadata": {
        "collapsed": false,
        "pycharm": {
          "name": "#%% md\n"
        },
        "id": "bnuP6hwwbBnQ"
      }
    },
    {
      "cell_type": "code",
      "execution_count": 3,
      "outputs": [
        {
          "output_type": "stream",
          "name": "stdout",
          "text": [
            "12 Near Earth Objects found for 2023-01-09\n",
            "[{'absolute_magnitude_h': 19.64,\n",
            "  'close_approach_data': [{'close_approach_date': '2023-01-09',\n",
            "                           'close_approach_date_full': '2023-Jan-09 13:59',\n",
            "                           'epoch_date_close_approach': 1673272740000,\n",
            "                           'miss_distance': {'astronomical': '0.0725377631',\n",
            "                                             'kilometers': '10851494.854324597',\n",
            "                                             'lunar': '28.2171898459',\n",
            "                                             'miles': '6742806.2343975586'},\n",
            "                           'orbiting_body': 'Earth',\n",
            "                           'relative_velocity': {'kilometers_per_hour': '32387.3201949256',\n",
            "                                                 'kilometers_per_second': '8.9964778319',\n",
            "                                                 'miles_per_hour': '20124.2212622303'}}],\n",
            "  'estimated_diameter': {'feet': {'estimated_diameter_max': 2301.5744618737,\n",
            "                                  'estimated_diameter_min': 1029.2953904054},\n",
            "                         'kilometers': {'estimated_diameter_max': 0.7015198735,\n",
            "                                        'estimated_diameter_min': 0.313729225},\n",
            "                         'meters': {'estimated_diameter_max': 701.5198735305,\n",
            "                                    'estimated_diameter_min': 313.7292249562},\n",
            "                         'miles': {'estimated_diameter_max': 0.4359041053,\n",
            "                                   'estimated_diameter_min': 0.1949422422}},\n",
            "  'id': '2226554',\n",
            "  'is_potentially_hazardous_asteroid': True,\n",
            "  'is_sentry_object': False,\n",
            "  'links': {'self': 'http://api.nasa.gov/neo/rest/v1/neo/2226554?api_key=ZA3bIx22Y3t1Rjhdcr5WiHYXPQMQILrXT8xMwnpc'},\n",
            "  'name': '226554 (2003 WR21)',\n",
            "  'nasa_jpl_url': 'http://ssd.jpl.nasa.gov/sbdb.cgi?sstr=2226554',\n",
            "  'neo_reference_id': '2226554'},\n",
            " {'absolute_magnitude_h': 20.62,\n",
            "  'close_approach_data': [{'close_approach_date': '2023-01-09',\n",
            "                           'close_approach_date_full': '2023-Jan-09 16:33',\n",
            "                           'epoch_date_close_approach': 1673281980000,\n",
            "                           'miss_distance': {'astronomical': '0.2884780108',\n",
            "                                             'kilometers': '43155695.957516996',\n",
            "                                             'lunar': '112.2179462012',\n",
            "                                             'miles': '26815706.0071907048'},\n",
            "                           'orbiting_body': 'Earth',\n",
            "                           'relative_velocity': {'kilometers_per_hour': '30014.4391606086',\n",
            "                                                 'kilometers_per_second': '8.3373442113',\n",
            "                                                 'miles_per_hour': '18649.8052662126'}}],\n",
            "  'estimated_diameter': {'feet': {'estimated_diameter_max': 1465.6323083572,\n",
            "                                  'estimated_diameter_min': 655.4506943013},\n",
            "                         'kilometers': {'estimated_diameter_max': 0.4467247133,\n",
            "                                        'estimated_diameter_min': 0.1997813652},\n",
            "                         'meters': {'estimated_diameter_max': 446.7247132921,\n",
            "                                    'estimated_diameter_min': 199.78136523},\n",
            "                         'miles': {'estimated_diameter_max': 0.2775817818,\n",
            "                                   'estimated_diameter_min': 0.1241383467}},\n",
            "  'id': '2307070',\n",
            "  'is_potentially_hazardous_asteroid': False,\n",
            "  'is_sentry_object': False,\n",
            "  'links': {'self': 'http://api.nasa.gov/neo/rest/v1/neo/2307070?api_key=ZA3bIx22Y3t1Rjhdcr5WiHYXPQMQILrXT8xMwnpc'},\n",
            "  'name': '307070 (2002 AV31)',\n",
            "  'nasa_jpl_url': 'http://ssd.jpl.nasa.gov/sbdb.cgi?sstr=2307070',\n",
            "  'neo_reference_id': '2307070'},\n",
            " {'absolute_magnitude_h': 18.4,\n",
            "  'close_approach_data': [{'close_approach_date': '2023-01-09',\n",
            "                           'close_approach_date_full': '2023-Jan-09 01:00',\n",
            "                           'epoch_date_close_approach': 1673226000000,\n",
            "                           'miss_distance': {'astronomical': '0.3628965299',\n",
            "                                             'kilometers': '54288547.903431313',\n",
            "                                             'lunar': '141.1667501311',\n",
            "                                             'miles': '33733339.4314575994'},\n",
            "                           'orbiting_body': 'Earth',\n",
            "                           'relative_velocity': {'kilometers_per_hour': '88002.1188429376',\n",
            "                                                 'kilometers_per_second': '24.4450330119',\n",
            "                                                 'miles_per_hour': '54681.0943443797'}}],\n",
            "  'estimated_diameter': {'feet': {'estimated_diameter_max': 4074.0375731972,\n",
            "                                  'estimated_diameter_min': 1821.9649913114},\n",
            "                         'kilometers': {'estimated_diameter_max': 1.2417666126,\n",
            "                                        'estimated_diameter_min': 0.5553349116},\n",
            "                         'meters': {'estimated_diameter_max': 1241.766612574,\n",
            "                                    'estimated_diameter_min': 555.334911581},\n",
            "                         'miles': {'estimated_diameter_max': 0.7715977618,\n",
            "                                   'estimated_diameter_min': 0.3450690093}},\n",
            "  'id': '2436325',\n",
            "  'is_potentially_hazardous_asteroid': False,\n",
            "  'is_sentry_object': False,\n",
            "  'links': {'self': 'http://api.nasa.gov/neo/rest/v1/neo/2436325?api_key=ZA3bIx22Y3t1Rjhdcr5WiHYXPQMQILrXT8xMwnpc'},\n",
            "  'name': '436325 (2010 GR7)',\n",
            "  'nasa_jpl_url': 'http://ssd.jpl.nasa.gov/sbdb.cgi?sstr=2436325',\n",
            "  'neo_reference_id': '2436325'},\n",
            " {'absolute_magnitude_h': 20.96,\n",
            "  'close_approach_data': [{'close_approach_date': '2023-01-09',\n",
            "                           'close_approach_date_full': '2023-Jan-09 03:24',\n",
            "                           'epoch_date_close_approach': 1673234640000,\n",
            "                           'miss_distance': {'astronomical': '0.1211162012',\n",
            "                                             'kilometers': '18118725.722011444',\n",
            "                                             'lunar': '47.1142022668',\n",
            "                                             'miles': '11258454.1022041672'},\n",
            "                           'orbiting_body': 'Earth',\n",
            "                           'relative_velocity': {'kilometers_per_hour': '22658.3508544674',\n",
            "                                                 'kilometers_per_second': '6.2939863485',\n",
            "                                                 'miles_per_hour': '14079.0180628772'}}],\n",
            "  'estimated_diameter': {'feet': {'estimated_diameter_max': 1253.2134002046,\n",
            "                                  'estimated_diameter_min': 560.4540706342},\n",
            "                         'kilometers': {'estimated_diameter_max': 0.3819794322,\n",
            "                                        'estimated_diameter_min': 0.1708263953},\n",
            "                         'meters': {'estimated_diameter_max': 381.979432159,\n",
            "                                    'estimated_diameter_min': 170.8263952629},\n",
            "                         'miles': {'estimated_diameter_max': 0.2373509417,\n",
            "                                   'estimated_diameter_min': 0.1061465681}},\n",
            "  'id': '2508908',\n",
            "  'is_potentially_hazardous_asteroid': True,\n",
            "  'is_sentry_object': False,\n",
            "  'links': {'self': 'http://api.nasa.gov/neo/rest/v1/neo/2508908?api_key=ZA3bIx22Y3t1Rjhdcr5WiHYXPQMQILrXT8xMwnpc'},\n",
            "  'name': '508908 (2003 YX1)',\n",
            "  'nasa_jpl_url': 'http://ssd.jpl.nasa.gov/sbdb.cgi?sstr=2508908',\n",
            "  'neo_reference_id': '2508908'},\n",
            " {'absolute_magnitude_h': 21.3,\n",
            "  'close_approach_data': [{'close_approach_date': '2023-01-09',\n",
            "                           'close_approach_date_full': '2023-Jan-09 07:10',\n",
            "                           'epoch_date_close_approach': 1673248200000,\n",
            "                           'miss_distance': {'astronomical': '0.4928732055',\n",
            "                                             'kilometers': '73732781.722872285',\n",
            "                                             'lunar': '191.7276769395',\n",
            "                                             'miles': '45815426.073056133'},\n",
            "                           'orbiting_body': 'Earth',\n",
            "                           'relative_velocity': {'kilometers_per_hour': '121198.8588141982',\n",
            "                                                 'kilometers_per_second': '33.6663496706',\n",
            "                                                 'miles_per_hour': '75308.2575781889'}}],\n",
            "  'estimated_diameter': {'feet': {'estimated_diameter_max': 1071.581062656,\n",
            "                                  'estimated_diameter_min': 479.2256199},\n",
            "                         'kilometers': {'estimated_diameter_max': 0.3266178974,\n",
            "                                        'estimated_diameter_min': 0.1460679643},\n",
            "                         'meters': {'estimated_diameter_max': 326.6178974458,\n",
            "                                    'estimated_diameter_min': 146.0679642714},\n",
            "                         'miles': {'estimated_diameter_max': 0.2029508896,\n",
            "                                   'estimated_diameter_min': 0.090762397}},\n",
            "  'id': '3014110',\n",
            "  'is_potentially_hazardous_asteroid': True,\n",
            "  'is_sentry_object': False,\n",
            "  'links': {'self': 'http://api.nasa.gov/neo/rest/v1/neo/3014110?api_key=ZA3bIx22Y3t1Rjhdcr5WiHYXPQMQILrXT8xMwnpc'},\n",
            "  'name': '(1998 SU4)',\n",
            "  'nasa_jpl_url': 'http://ssd.jpl.nasa.gov/sbdb.cgi?sstr=3014110',\n",
            "  'neo_reference_id': '3014110'},\n",
            " {'absolute_magnitude_h': 25.2,\n",
            "  'close_approach_data': [{'close_approach_date': '2023-01-09',\n",
            "                           'close_approach_date_full': '2023-Jan-09 23:16',\n",
            "                           'epoch_date_close_approach': 1673306160000,\n",
            "                           'miss_distance': {'astronomical': '0.0850918498',\n",
            "                                             'kilometers': '12729559.484439926',\n",
            "                                             'lunar': '33.1007295722',\n",
            "                                             'miles': '7909781.4821899388'},\n",
            "                           'orbiting_body': 'Earth',\n",
            "                           'relative_velocity': {'kilometers_per_hour': '36346.123842818',\n",
            "                                                 'kilometers_per_second': '10.0961455119',\n",
            "                                                 'miles_per_hour': '22584.0678955555'}}],\n",
            "  'estimated_diameter': {'feet': {'estimated_diameter_max': 177.8381901842,\n",
            "                                  'estimated_diameter_min': 79.5316564495},\n",
            "                         'kilometers': {'estimated_diameter_max': 0.0542050786,\n",
            "                                        'estimated_diameter_min': 0.0242412481},\n",
            "                         'meters': {'estimated_diameter_max': 54.2050786336,\n",
            "                                    'estimated_diameter_min': 24.2412481101},\n",
            "                         'miles': {'estimated_diameter_max': 0.0336814639,\n",
            "                                   'estimated_diameter_min': 0.0150628086}},\n",
            "  'id': '3559843',\n",
            "  'is_potentially_hazardous_asteroid': False,\n",
            "  'is_sentry_object': False,\n",
            "  'links': {'self': 'http://api.nasa.gov/neo/rest/v1/neo/3559843?api_key=ZA3bIx22Y3t1Rjhdcr5WiHYXPQMQILrXT8xMwnpc'},\n",
            "  'name': '(2011 EP51)',\n",
            "  'nasa_jpl_url': 'http://ssd.jpl.nasa.gov/sbdb.cgi?sstr=3559843',\n",
            "  'neo_reference_id': '3559843'},\n",
            " {'absolute_magnitude_h': 26.9,\n",
            "  'close_approach_data': [{'close_approach_date': '2023-01-09',\n",
            "                           'close_approach_date_full': '2023-Jan-09 14:16',\n",
            "                           'epoch_date_close_approach': 1673273760000,\n",
            "                           'miss_distance': {'astronomical': '0.4272893529',\n",
            "                                             'kilometers': '63921577.067518323',\n",
            "                                             'lunar': '166.2155582781',\n",
            "                                             'miles': '39719026.1940379374'},\n",
            "                           'orbiting_body': 'Earth',\n",
            "                           'relative_velocity': {'kilometers_per_hour': '16576.4865892554',\n",
            "                                                 'kilometers_per_second': '4.6045796081',\n",
            "                                                 'miles_per_hour': '10299.9841254181'}}],\n",
            "  'estimated_diameter': {'feet': {'estimated_diameter_max': 81.2877363957,\n",
            "                                  'estimated_diameter_min': 36.3529808636},\n",
            "                         'kilometers': {'estimated_diameter_max': 0.0247765013,\n",
            "                                        'estimated_diameter_min': 0.0110803882},\n",
            "                         'meters': {'estimated_diameter_max': 24.7765012606,\n",
            "                                    'estimated_diameter_min': 11.0803882126},\n",
            "                         'miles': {'estimated_diameter_max': 0.0153953994,\n",
            "                                   'estimated_diameter_min': 0.0068850319}},\n",
            "  'id': '3789481',\n",
            "  'is_potentially_hazardous_asteroid': False,\n",
            "  'is_sentry_object': False,\n",
            "  'links': {'self': 'http://api.nasa.gov/neo/rest/v1/neo/3789481?api_key=ZA3bIx22Y3t1Rjhdcr5WiHYXPQMQILrXT8xMwnpc'},\n",
            "  'name': '(2017 WU1)',\n",
            "  'nasa_jpl_url': 'http://ssd.jpl.nasa.gov/sbdb.cgi?sstr=3789481',\n",
            "  'neo_reference_id': '3789481'},\n",
            " {'absolute_magnitude_h': 25.4,\n",
            "  'close_approach_data': [{'close_approach_date': '2023-01-09',\n",
            "                           'close_approach_date_full': '2023-Jan-09 04:18',\n",
            "                           'epoch_date_close_approach': 1673237880000,\n",
            "                           'miss_distance': {'astronomical': '0.4741066959',\n",
            "                                             'kilometers': '70925351.859377733',\n",
            "                                             'lunar': '184.4275047051',\n",
            "                                             'miles': '44070970.0473813954'},\n",
            "                           'orbiting_body': 'Earth',\n",
            "                           'relative_velocity': {'kilometers_per_hour': '71419.4248076035',\n",
            "                                                 'kilometers_per_second': '19.8387291132',\n",
            "                                                 'miles_per_hour': '44377.253153369'}}],\n",
            "  'estimated_diameter': {'feet': {'estimated_diameter_max': 162.1903570994,\n",
            "                                  'estimated_diameter_min': 72.5337327539},\n",
            "                         'kilometers': {'estimated_diameter_max': 0.0494356193,\n",
            "                                        'estimated_diameter_min': 0.022108281},\n",
            "                         'meters': {'estimated_diameter_max': 49.435619262,\n",
            "                                    'estimated_diameter_min': 22.1082810359},\n",
            "                         'miles': {'estimated_diameter_max': 0.0307178602,\n",
            "                                   'estimated_diameter_min': 0.0137374447}},\n",
            "  'id': '54054562',\n",
            "  'is_potentially_hazardous_asteroid': False,\n",
            "  'is_sentry_object': False,\n",
            "  'links': {'self': 'http://api.nasa.gov/neo/rest/v1/neo/54054562?api_key=ZA3bIx22Y3t1Rjhdcr5WiHYXPQMQILrXT8xMwnpc'},\n",
            "  'name': '(2020 SA3)',\n",
            "  'nasa_jpl_url': 'http://ssd.jpl.nasa.gov/sbdb.cgi?sstr=54054562',\n",
            "  'neo_reference_id': '54054562'},\n",
            " {'absolute_magnitude_h': 26.1,\n",
            "  'close_approach_data': [{'close_approach_date': '2023-01-09',\n",
            "                           'close_approach_date_full': '2023-Jan-09 14:29',\n",
            "                           'epoch_date_close_approach': 1673274540000,\n",
            "                           'miss_distance': {'astronomical': '0.3334722534',\n",
            "                                             'kilometers': '49886738.812740258',\n",
            "                                             'lunar': '129.7207065726',\n",
            "                                             'miles': '30998182.0934332404'},\n",
            "                           'orbiting_body': 'Earth',\n",
            "                           'relative_velocity': {'kilometers_per_hour': '60765.8145388754',\n",
            "                                                 'kilometers_per_second': '16.8793929275',\n",
            "                                                 'miles_per_hour': '37757.5140394474'}}],\n",
            "  'estimated_diameter': {'feet': {'estimated_diameter_max': 117.4965270602,\n",
            "                                  'estimated_diameter_min': 52.5460443254},\n",
            "                         'kilometers': {'estimated_diameter_max': 0.0358129403,\n",
            "                                        'estimated_diameter_min': 0.0160160338},\n",
            "                         'meters': {'estimated_diameter_max': 35.8129403019,\n",
            "                                    'estimated_diameter_min': 16.0160337979},\n",
            "                         'miles': {'estimated_diameter_max': 0.0222531225,\n",
            "                                   'estimated_diameter_min': 0.0099518989}},\n",
            "  'id': '54104276',\n",
            "  'is_potentially_hazardous_asteroid': False,\n",
            "  'is_sentry_object': False,\n",
            "  'links': {'self': 'http://api.nasa.gov/neo/rest/v1/neo/54104276?api_key=ZA3bIx22Y3t1Rjhdcr5WiHYXPQMQILrXT8xMwnpc'},\n",
            "  'name': '(2021 AA1)',\n",
            "  'nasa_jpl_url': 'http://ssd.jpl.nasa.gov/sbdb.cgi?sstr=54104276',\n",
            "  'neo_reference_id': '54104276'},\n",
            " {'absolute_magnitude_h': 27.2,\n",
            "  'close_approach_data': [{'close_approach_date': '2023-01-09',\n",
            "                           'close_approach_date_full': '2023-Jan-09 14:50',\n",
            "                           'epoch_date_close_approach': 1673275800000,\n",
            "                           'miss_distance': {'astronomical': '0.1503150963',\n",
            "                                             'kilometers': '22486818.235324881',\n",
            "                                             'lunar': '58.4725724607',\n",
            "                                             'miles': '13972660.9305341178'},\n",
            "                           'orbiting_body': 'Earth',\n",
            "                           'relative_velocity': {'kilometers_per_hour': '33590.9419665386',\n",
            "                                                 'kilometers_per_second': '9.3308172129',\n",
            "                                                 'miles_per_hour': '20872.1050235973'}}],\n",
            "  'estimated_diameter': {'feet': {'estimated_diameter_max': 70.7986587106,\n",
            "                                  'estimated_diameter_min': 31.6621227185},\n",
            "                         'kilometers': {'estimated_diameter_max': 0.0215794305,\n",
            "                                        'estimated_diameter_min': 0.0096506147},\n",
            "                         'meters': {'estimated_diameter_max': 21.5794304844,\n",
            "                                    'estimated_diameter_min': 9.6506146958},\n",
            "                         'miles': {'estimated_diameter_max': 0.0134088323,\n",
            "                                   'estimated_diameter_min': 0.0059966121}},\n",
            "  'id': '54130489',\n",
            "  'is_potentially_hazardous_asteroid': False,\n",
            "  'is_sentry_object': False,\n",
            "  'links': {'self': 'http://api.nasa.gov/neo/rest/v1/neo/54130489?api_key=ZA3bIx22Y3t1Rjhdcr5WiHYXPQMQILrXT8xMwnpc'},\n",
            "  'name': '(2021 EP1)',\n",
            "  'nasa_jpl_url': 'http://ssd.jpl.nasa.gov/sbdb.cgi?sstr=54130489',\n",
            "  'neo_reference_id': '54130489'},\n",
            " {'absolute_magnitude_h': 23.39,\n",
            "  'close_approach_data': [{'close_approach_date': '2023-01-09',\n",
            "                           'close_approach_date_full': '2023-Jan-09 23:18',\n",
            "                           'epoch_date_close_approach': 1673306280000,\n",
            "                           'miss_distance': {'astronomical': '0.1990572251',\n",
            "                                             'kilometers': '29778536.883070537',\n",
            "                                             'lunar': '77.4332605639',\n",
            "                                             'miles': '18503524.7992939306'},\n",
            "                           'orbiting_body': 'Earth',\n",
            "                           'relative_velocity': {'kilometers_per_hour': '42454.2341018916',\n",
            "                                                 'kilometers_per_second': '11.7928428061',\n",
            "                                                 'miles_per_hour': '26379.4100729226'}}],\n",
            "  'estimated_diameter': {'feet': {'estimated_diameter_max': 409.2842476221,\n",
            "                                  'estimated_diameter_min': 183.0374799606},\n",
            "                         'kilometers': {'estimated_diameter_max': 0.1247498347,\n",
            "                                        'estimated_diameter_min': 0.0557898221},\n",
            "                         'meters': {'estimated_diameter_max': 124.7498346832,\n",
            "                                    'estimated_diameter_min': 55.7898221067},\n",
            "                         'miles': {'estimated_diameter_max': 0.0775159295,\n",
            "                                   'estimated_diameter_min': 0.0346661776}},\n",
            "  'id': '54174525',\n",
            "  'is_potentially_hazardous_asteroid': False,\n",
            "  'is_sentry_object': False,\n",
            "  'links': {'self': 'http://api.nasa.gov/neo/rest/v1/neo/54174525?api_key=ZA3bIx22Y3t1Rjhdcr5WiHYXPQMQILrXT8xMwnpc'},\n",
            "  'name': '(2021 OZ)',\n",
            "  'nasa_jpl_url': 'http://ssd.jpl.nasa.gov/sbdb.cgi?sstr=54174525',\n",
            "  'neo_reference_id': '54174525'},\n",
            " {'absolute_magnitude_h': 23.39,\n",
            "  'close_approach_data': [{'close_approach_date': '2023-01-09',\n",
            "                           'close_approach_date_full': '2023-Jan-09 05:43',\n",
            "                           'epoch_date_close_approach': 1673242980000,\n",
            "                           'miss_distance': {'astronomical': '0.0364120775',\n",
            "                                             'kilometers': '5447169.236274925',\n",
            "                                             'lunar': '14.1642981475',\n",
            "                                             'miles': '3384714.012146965'},\n",
            "                           'orbiting_body': 'Earth',\n",
            "                           'relative_velocity': {'kilometers_per_hour': '30422.1248161603',\n",
            "                                                 'kilometers_per_second': '8.4505902267',\n",
            "                                                 'miles_per_hour': '18903.1252781303'}}],\n",
            "  'estimated_diameter': {'feet': {'estimated_diameter_max': 409.2842476221,\n",
            "                                  'estimated_diameter_min': 183.0374799606},\n",
            "                         'kilometers': {'estimated_diameter_max': 0.1247498347,\n",
            "                                        'estimated_diameter_min': 0.0557898221},\n",
            "                         'meters': {'estimated_diameter_max': 124.7498346832,\n",
            "                                    'estimated_diameter_min': 55.7898221067},\n",
            "                         'miles': {'estimated_diameter_max': 0.0775159295,\n",
            "                                   'estimated_diameter_min': 0.0346661776}},\n",
            "  'id': '54201812',\n",
            "  'is_potentially_hazardous_asteroid': False,\n",
            "  'is_sentry_object': False,\n",
            "  'links': {'self': 'http://api.nasa.gov/neo/rest/v1/neo/54201812?api_key=ZA3bIx22Y3t1Rjhdcr5WiHYXPQMQILrXT8xMwnpc'},\n",
            "  'name': '(2021 TL)',\n",
            "  'nasa_jpl_url': 'http://ssd.jpl.nasa.gov/sbdb.cgi?sstr=54201812',\n",
            "  'neo_reference_id': '54201812'}]\n"
          ]
        }
      ],
      "source": [
        "API_KEY = 'ZA3bIx22Y3t1Rjhdcr5WiHYXPQMQILrXT8xMwnpc'  # substitute your API key here\n",
        "\n",
        "today = '2023-01-09'   # Today's date as a string!\n",
        "# Use an f-string here to \"format\" the date and API key varaibles.\n",
        "url = f'https://api.nasa.gov/neo/rest/v1/feed?start_date={today}&end_date={today}&api_key={API_KEY}'\n",
        "\n",
        "response = requests.request(\"GET\", url, headers={}, data={})\n",
        "\n",
        "data = json.loads(response.text)  # recall json.loads for lab 1\n",
        "\n",
        "# TIP: print(data) to see the whole data structure returned, here we grab just the list of NEO's:\n",
        "n_results = data['element_count']\n",
        "neos = data['near_earth_objects'][today]\n",
        "print(f'{n_results} Near Earth Objects found for {today}')\n",
        "pprint(neos)"
      ],
      "metadata": {
        "pycharm": {
          "name": "#%%\n"
        },
        "colab": {
          "base_uri": "https://localhost:8080/"
        },
        "id": "dzeu6BN9bBnQ",
        "outputId": "ea05744c-b889-4fc3-e97b-ca5eaba17a9f"
      }
    },
    {
      "cell_type": "markdown",
      "source": [
        "Next we extract just the potentially hazerdous asteroids, using a [list comprehension](https://realpython.com/lessons/list-comprehensions-overview/) that implements a [\"filter\"](https://youtu.be/hUes6y2b--0):"
      ],
      "metadata": {
        "collapsed": false,
        "pycharm": {
          "name": "#%% md\n"
        },
        "id": "tfNidfYtbBnQ"
      }
    },
    {
      "cell_type": "code",
      "execution_count": 4,
      "metadata": {
        "id": "JDGbYTySU3BP",
        "colab": {
          "base_uri": "https://localhost:8080/"
        },
        "outputId": "a5c6e57e-6f09-42f3-d2e8-5a5a08b6547b"
      },
      "outputs": [
        {
          "output_type": "stream",
          "name": "stdout",
          "text": [
            "3 potentially hazardous asteroids identified.\n"
          ]
        }
      ],
      "source": [
        "hazards = [item for item in neos if item['is_potentially_hazardous_asteroid']==True]\n",
        "print(f'{len(hazards)} potentially hazardous asteroids identified.')"
      ]
    },
    {
      "cell_type": "markdown",
      "source": [
        "## Exercise 1\n",
        "\n",
        "In the code cell below, **re-write the \"list comprehension\" above** as a loop so you understand how it works.\n",
        "Notice how this kind of \"conditional\" list comprehension is a compact way to \"filter\" items of interest from a large data set.\n"
      ],
      "metadata": {
        "collapsed": false,
        "pycharm": {
          "name": "#%% md\n"
        },
        "id": "uZyP8pxAbBnR"
      }
    },
    {
      "cell_type": "code",
      "execution_count": 5,
      "outputs": [
        {
          "output_type": "stream",
          "name": "stdout",
          "text": [
            "3 potentially hazardous asteroids identified.\n"
          ]
        },
        {
          "output_type": "execute_result",
          "data": {
            "text/plain": [
              "[{'links': {'self': 'http://api.nasa.gov/neo/rest/v1/neo/2226554?api_key=ZA3bIx22Y3t1Rjhdcr5WiHYXPQMQILrXT8xMwnpc'},\n",
              "  'id': '2226554',\n",
              "  'neo_reference_id': '2226554',\n",
              "  'name': '226554 (2003 WR21)',\n",
              "  'nasa_jpl_url': 'http://ssd.jpl.nasa.gov/sbdb.cgi?sstr=2226554',\n",
              "  'absolute_magnitude_h': 19.64,\n",
              "  'estimated_diameter': {'kilometers': {'estimated_diameter_min': 0.313729225,\n",
              "    'estimated_diameter_max': 0.7015198735},\n",
              "   'meters': {'estimated_diameter_min': 313.7292249562,\n",
              "    'estimated_diameter_max': 701.5198735305},\n",
              "   'miles': {'estimated_diameter_min': 0.1949422422,\n",
              "    'estimated_diameter_max': 0.4359041053},\n",
              "   'feet': {'estimated_diameter_min': 1029.2953904054,\n",
              "    'estimated_diameter_max': 2301.5744618737}},\n",
              "  'is_potentially_hazardous_asteroid': True,\n",
              "  'close_approach_data': [{'close_approach_date': '2023-01-09',\n",
              "    'close_approach_date_full': '2023-Jan-09 13:59',\n",
              "    'epoch_date_close_approach': 1673272740000,\n",
              "    'relative_velocity': {'kilometers_per_second': '8.9964778319',\n",
              "     'kilometers_per_hour': '32387.3201949256',\n",
              "     'miles_per_hour': '20124.2212622303'},\n",
              "    'miss_distance': {'astronomical': '0.0725377631',\n",
              "     'lunar': '28.2171898459',\n",
              "     'kilometers': '10851494.854324597',\n",
              "     'miles': '6742806.2343975586'},\n",
              "    'orbiting_body': 'Earth'}],\n",
              "  'is_sentry_object': False},\n",
              " {'links': {'self': 'http://api.nasa.gov/neo/rest/v1/neo/2508908?api_key=ZA3bIx22Y3t1Rjhdcr5WiHYXPQMQILrXT8xMwnpc'},\n",
              "  'id': '2508908',\n",
              "  'neo_reference_id': '2508908',\n",
              "  'name': '508908 (2003 YX1)',\n",
              "  'nasa_jpl_url': 'http://ssd.jpl.nasa.gov/sbdb.cgi?sstr=2508908',\n",
              "  'absolute_magnitude_h': 20.96,\n",
              "  'estimated_diameter': {'kilometers': {'estimated_diameter_min': 0.1708263953,\n",
              "    'estimated_diameter_max': 0.3819794322},\n",
              "   'meters': {'estimated_diameter_min': 170.8263952629,\n",
              "    'estimated_diameter_max': 381.979432159},\n",
              "   'miles': {'estimated_diameter_min': 0.1061465681,\n",
              "    'estimated_diameter_max': 0.2373509417},\n",
              "   'feet': {'estimated_diameter_min': 560.4540706342,\n",
              "    'estimated_diameter_max': 1253.2134002046}},\n",
              "  'is_potentially_hazardous_asteroid': True,\n",
              "  'close_approach_data': [{'close_approach_date': '2023-01-09',\n",
              "    'close_approach_date_full': '2023-Jan-09 03:24',\n",
              "    'epoch_date_close_approach': 1673234640000,\n",
              "    'relative_velocity': {'kilometers_per_second': '6.2939863485',\n",
              "     'kilometers_per_hour': '22658.3508544674',\n",
              "     'miles_per_hour': '14079.0180628772'},\n",
              "    'miss_distance': {'astronomical': '0.1211162012',\n",
              "     'lunar': '47.1142022668',\n",
              "     'kilometers': '18118725.722011444',\n",
              "     'miles': '11258454.1022041672'},\n",
              "    'orbiting_body': 'Earth'}],\n",
              "  'is_sentry_object': False},\n",
              " {'links': {'self': 'http://api.nasa.gov/neo/rest/v1/neo/3014110?api_key=ZA3bIx22Y3t1Rjhdcr5WiHYXPQMQILrXT8xMwnpc'},\n",
              "  'id': '3014110',\n",
              "  'neo_reference_id': '3014110',\n",
              "  'name': '(1998 SU4)',\n",
              "  'nasa_jpl_url': 'http://ssd.jpl.nasa.gov/sbdb.cgi?sstr=3014110',\n",
              "  'absolute_magnitude_h': 21.3,\n",
              "  'estimated_diameter': {'kilometers': {'estimated_diameter_min': 0.1460679643,\n",
              "    'estimated_diameter_max': 0.3266178974},\n",
              "   'meters': {'estimated_diameter_min': 146.0679642714,\n",
              "    'estimated_diameter_max': 326.6178974458},\n",
              "   'miles': {'estimated_diameter_min': 0.090762397,\n",
              "    'estimated_diameter_max': 0.2029508896},\n",
              "   'feet': {'estimated_diameter_min': 479.2256199,\n",
              "    'estimated_diameter_max': 1071.581062656}},\n",
              "  'is_potentially_hazardous_asteroid': True,\n",
              "  'close_approach_data': [{'close_approach_date': '2023-01-09',\n",
              "    'close_approach_date_full': '2023-Jan-09 07:10',\n",
              "    'epoch_date_close_approach': 1673248200000,\n",
              "    'relative_velocity': {'kilometers_per_second': '33.6663496706',\n",
              "     'kilometers_per_hour': '121198.8588141982',\n",
              "     'miles_per_hour': '75308.2575781889'},\n",
              "    'miss_distance': {'astronomical': '0.4928732055',\n",
              "     'lunar': '191.7276769395',\n",
              "     'kilometers': '73732781.722872285',\n",
              "     'miles': '45815426.073056133'},\n",
              "    'orbiting_body': 'Earth'}],\n",
              "  'is_sentry_object': False}]"
            ]
          },
          "metadata": {},
          "execution_count": 5
        }
      ],
      "source": [
        "# Your code here\n",
        "hazards = []\n",
        "\n",
        "for item in neos:\n",
        "  if item['is_potentially_hazardous_asteroid']==True:\n",
        "    hazards.append(item)\n",
        "\n",
        "print(f'{len(hazards)} potentially hazardous asteroids identified.')\n",
        "hazards"
      ],
      "metadata": {
        "pycharm": {
          "name": "#%%\n"
        },
        "colab": {
          "base_uri": "https://localhost:8080/"
        },
        "id": "rVg6VARqbBnR",
        "outputId": "9d87f8d6-4d05-4323-b072-ad185565ad6c"
      }
    },
    {
      "cell_type": "markdown",
      "source": [
        "## Fetch Compelte Data for One Asteroid\n",
        "\n",
        "Notice that the record for each `neo` is a dictionary with `id` field that uniquely identifies this record in the database.\n",
        "\n",
        "We can use this `id` to fetch complete orbital and close approach data for the NEO.\n",
        "\n",
        "For example, this query fetches the complete data set for the first hazardous asteroid...\n"
      ],
      "metadata": {
        "collapsed": false,
        "pycharm": {
          "name": "#%% md\n"
        },
        "id": "WOty2VzPbBnR"
      }
    },
    {
      "cell_type": "code",
      "execution_count": 6,
      "outputs": [
        {
          "output_type": "stream",
          "name": "stdout",
          "text": [
            "id: 2226554\n"
          ]
        }
      ],
      "source": [
        "id = hazards[0]['id']\n",
        "print(f'id: {id}')\n",
        "url = f'https://api.nasa.gov/neo/rest/v1/neo/{id}/?api_key={API_KEY}'\n",
        "response = requests.request(\"GET\", url, headers={}, data={})\n",
        "data = json.loads(response.text)"
      ],
      "metadata": {
        "pycharm": {
          "name": "#%%\n"
        },
        "colab": {
          "base_uri": "https://localhost:8080/"
        },
        "id": "419GChqHbBnS",
        "outputId": "82a0af2a-2de9-42f4-ebf8-fe77a10cc746"
      }
    },
    {
      "cell_type": "markdown",
      "source": [
        "Notice that the `miss_distance` field contains the distance (in various units) by which the NEO missed an \"orbiting body\".\n",
        "\n",
        "## Exercise 2\n",
        "\n",
        "In the code cell below, write a python function that takes a list of \"close approach data\" as a parameter,\n",
        "and returns a 2-tuple with the (date, miss km) of the closest approach to Earth in the list (where \"miss km\" is the miss distance in km).\n",
        "\n",
        "Hints:\n",
        "* notice the input is a list of dictionaries.  Each dictionary has a 'close_approach_date\", \"orbiting_body\", and 'miss_distance' field.\n",
        "* we are only interested in the closest approach to \"Earth\"\n",
        "* use a loop if that is easier to understand - we will look at more compact algorithms to solve this problem in class.\n",
        "\n",
        "Add at least one unit test to check your work - note the test data only needs dictionaries with the fields your function actually uses.\n"
      ],
      "metadata": {
        "id": "DNRs7ynOYwYk"
      }
    },
    {
      "cell_type": "code",
      "source": [
        "# your code here\n",
        "\n",
        "##### USING JOSEPH'S CODE AND INDEX & MIN FUNCTIONS TO LOCATE DESIRED TUPLE FROM APPROACH_DATES #####\n",
        "def getClosest(approach_dates):\n",
        "  distance = [float(date_distance[1]) for date_distance in approach_dates]\n",
        "  return approach_dates[distance.index(min(distance))]\n",
        "\n",
        "\n",
        "# close_approach_data = data['close_approach_data']\n",
        "# approach_dates = [\n",
        "#     (c['close_approach_date'], c['miss_distance']['kilometers']) \n",
        "#       for c in close_approach_data if c['orbiting_body'] == 'Earth'\n",
        "# ]\n",
        "\n",
        "# getClosest(approach_dates)\n",
        "#####\n",
        "\n",
        "\n",
        "##### ROBERTO'S & SOS' CODE #####\n",
        "# def getClosest(closeApproachList):\n",
        "#   closest = closeApproachList[0]\n",
        "#   for record in closeApproachList:\n",
        "#     if record['orbiting_body'] == 'Earth':\n",
        "#       if float(record['miss_distance']['kilometers']) < float(closest['miss_distance']['kilometers']):\n",
        "#         closest = record\n",
        "\n",
        "#   result = (closest['close_approach_date'], closest['miss_distance']['kilometers'])\n",
        "#   return result"
      ],
      "metadata": {
        "id": "tiyXTDfnZAd0"
      },
      "execution_count": 7,
      "outputs": []
    },
    {
      "cell_type": "code",
      "source": [],
      "metadata": {
        "id": "JgA3wdYj4VeT"
      },
      "execution_count": 7,
      "outputs": []
    },
    {
      "cell_type": "markdown",
      "source": [
        "## OPTIONAL - Take your skills to the next level...\n",
        "## Exercise 3\n",
        "\n",
        "In the code cell below, write a complete program that:\n",
        " 1. fetches the list of NEO's for this week.\n",
        " 2. for each NEO, fetch it's complete orbital data and determine its closest approach to Earth\n",
        " 3. identify which NEO from this week's data makes the closet approach to earth\n",
        " 4. print a nice message with information about the NEO, which it will approach the Earth, and how close it will come.\n",
        "\n",
        "Hints:\n",
        "* you'll need the start and end date - end date is today, see if you can use a [`timedelta`](https://docs.python.org/3/library/datetime.html#timedelta-objects) object to ge the start date (you can do basic \"date math\" with `timedelta` and `date` objects!)\n",
        "* you may need to modify the function we wrote in Ex. 2 to return a triple with the NEO's id included;\n",
        "* lots of opportunity here for more practice with list comprehensions\n"
      ],
      "metadata": {
        "collapsed": false,
        "id": "uE0mu9qFbBnS"
      }
    },
    {
      "cell_type": "code",
      "source": [
        "# your code here\n",
        "from datetime import timedelta\n",
        "\n",
        "list_of_NEOs_per_day = []\n",
        "\n",
        "for i in range(7):\n",
        "  today = str(datetime.date.today() - timedelta(days = i))\n",
        "\n",
        "  url = f'https://api.nasa.gov/neo/rest/v1/feed?start_date={today}&end_date={today}&api_key={API_KEY}'\n",
        "\n",
        "  response = requests.request(\"GET\", url, headers={}, data={})\n",
        "\n",
        "  new_data = json.loads(response.text)\n",
        "\n",
        "  list_of_NEOs_per_day.append(new_data['near_earth_objects'][today])\n",
        "\n",
        "\n",
        "### Comprehensive version ###\n",
        "date_distance_id = [\n",
        "    (asteroid['close_approach_data'][0]['close_approach_date'], \n",
        "     asteroid['close_approach_data'][0]['miss_distance']['kilometers'], \n",
        "     asteroid['id']) \n",
        "      for each_day_data in list_of_NEOs_per_day \n",
        "        for asteroid in each_day_data\n",
        "    ]\n",
        "\n",
        "### Normal version for easier understanding ###\n",
        "# for each_day_data in list_of_NEOs_per_day:\n",
        "#   for asteroid in each_day_data:\n",
        "#     date_distance_id.append(\n",
        "#         (asteroid['close_approach_data'][0]['close_approach_date'], \n",
        "#           asteroid['close_approach_data'][0]['miss_distance']['kilometers'], \n",
        "#             asteroid['id']) #tuple carrying: close approach date, miss distance in km, and asteroid id\n",
        "#         )\n",
        "\n",
        "\n",
        "### Side note: erase the function to see the list of date_distance_id tuples ###\n",
        "getClosest(date_distance_id)"
      ],
      "metadata": {
        "id": "Ds1YevErlzCe",
        "pycharm": {
          "name": "#%%\n"
        },
        "colab": {
          "base_uri": "https://localhost:8080/"
        },
        "outputId": "76920e64-92e0-4d56-e757-f4b350b6ddf6"
      },
      "execution_count": 8,
      "outputs": [
        {
          "output_type": "execute_result",
          "data": {
            "text/plain": [
              "('2023-01-20', '1993300.692164614', '3986732')"
            ]
          },
          "metadata": {},
          "execution_count": 8
        }
      ]
    }
  ]
}