{
  "nbformat": 4,
  "nbformat_minor": 0,
  "metadata": {
    "colab": {
      "provenance": [],
      "include_colab_link": true
    },
    "kernelspec": {
      "name": "python3",
      "language": "python",
      "display_name": "Python 3 (ipykernel)"
    },
    "language_info": {
      "name": "python"
    }
  },
  "cells": [
    {
      "cell_type": "markdown",
      "metadata": {
        "id": "view-in-github",
        "colab_type": "text"
      },
      "source": [
        "<a href=\"https://colab.research.google.com/github/sir-sauc3/cap-comp215/blob/main/labs/lab3.ipynb\" target=\"_parent\"><img src=\"https://colab.research.google.com/assets/colab-badge.svg\" alt=\"Open In Colab\"/></a>"
      ]
    },
    {
      "cell_type": "markdown",
      "source": [],
      "metadata": {
        "id": "hAhNdApWrPcs"
      }
    },
    {
      "cell_type": "markdown",
      "source": [
        "COMP 215 - LAB 3 (NEO)\n",
        "----------------\n",
        "#### Name: Sos & Roberto\n",
        "#### Date: Jan 16 2023\n",
        "\n",
        "This lab exercise is mostly a review of strings, tuples, lists, dictionaries, and functions.\n",
        "\n",
        "**Building on new concepts from lab 1**:\n",
        "  * *f-string* simplifies string formatting operations (like, a lot!)\n",
        "  * *list comprehension* provides a compact way to represent map and filter algorithms\n",
        "\n",
        "**New Python Concepts**:\n",
        "  * *f-string* simplifies string formatting operations (like, a lot!)\n",
        "\n",
        "As usual, the first code cell simply imports all the modules we'll be using..."
      ],
      "metadata": {
        "id": "nbRPZPKZU5Pk"
      }
    },
    {
      "cell_type": "code",
      "execution_count": null,
      "outputs": [],
      "source": [
        "import datetime, json, requests\n",
        "from pprint import pprint    # Pretty Print - built-in python function to nicely format data structures"
      ],
      "metadata": {
        "pycharm": {
          "name": "#%%\n"
        },
        "id": "_edzov27bBnP"
      }
    },
    {
      "cell_type": "markdown",
      "source": [
        "We'll answer some questions about [Near Earth Objects](https://cneos.jpl.nasa.gov/)\n",
        "> using NASA's API:  [https://api.nasa.gov/](https://api.nasa.gov/#NeoWS)\n",
        "\n",
        "You should register for your own API key, (but may use the DEMO_KEY to get started).\n",
        "\n",
        "First we need a short tutorial on python dates and [f-strings](https://realpython.com/python-f-strings/)..."
      ],
      "metadata": {
        "collapsed": false,
        "pycharm": {
          "name": "#%% md\n"
        },
        "id": "pia96IWxbBnQ"
      }
    },
    {
      "cell_type": "code",
      "execution_count": null,
      "outputs": [
        {
          "output_type": "stream",
          "name": "stdout",
          "text": [
            "2023-01-26 <class 'datetime.date'>\n",
            "Today is: 2023-01-26\n"
          ]
        }
      ],
      "source": [
        "today = datetime.date.today()   # get a date object representing today's date\n",
        "print(today, type(today))\n",
        "formatted_date = f'Today is: {today}'   # A format string - notice how the variable `today` is formatted into the stringg\n",
        "print(formatted_date)"
      ],
      "metadata": {
        "pycharm": {
          "name": "#%%\n"
        },
        "colab": {
          "base_uri": "https://localhost:8080/"
        },
        "id": "Seq-jQGubBnQ",
        "outputId": "e553fea2-2908-4b81-ca24-ba72b631d09d"
      }
    },
    {
      "cell_type": "markdown",
      "source": [
        "### Make a query\n",
        "\n",
        "Let's get some data from the NEO database...\n",
        "Here's a query that gets the observation \"feed\" for today:"
      ],
      "metadata": {
        "collapsed": false,
        "pycharm": {
          "name": "#%% md\n"
        },
        "id": "bnuP6hwwbBnQ"
      }
    },
    {
      "cell_type": "code",
      "execution_count": null,
      "outputs": [
        {
          "output_type": "stream",
          "name": "stdout",
          "text": [
            "12 Near Earth Objects found for 2023-01-09\n",
            "[{'absolute_magnitude_h': 19.64,\n",
            "  'close_approach_data': [{'close_approach_date': '2023-01-09',\n",
            "                           'close_approach_date_full': '2023-Jan-09 13:59',\n",
            "                           'epoch_date_close_approach': 1673272740000,\n",
            "                           'miss_distance': {'astronomical': '0.0725377631',\n",
            "                                             'kilometers': '10851494.854324597',\n",
            "                                             'lunar': '28.2171898459',\n",
            "                                             'miles': '6742806.2343975586'},\n",
            "                           'orbiting_body': 'Earth',\n",
            "                           'relative_velocity': {'kilometers_per_hour': '32387.3201949256',\n",
            "                                                 'kilometers_per_second': '8.9964778319',\n",
            "                                                 'miles_per_hour': '20124.2212622303'}}],\n",
            "  'estimated_diameter': {'feet': {'estimated_diameter_max': 2301.5744618737,\n",
            "                                  'estimated_diameter_min': 1029.2953904054},\n",
            "                         'kilometers': {'estimated_diameter_max': 0.7015198735,\n",
            "                                        'estimated_diameter_min': 0.313729225},\n",
            "                         'meters': {'estimated_diameter_max': 701.5198735305,\n",
            "                                    'estimated_diameter_min': 313.7292249562},\n",
            "                         'miles': {'estimated_diameter_max': 0.4359041053,\n",
            "                                   'estimated_diameter_min': 0.1949422422}},\n",
            "  'id': '2226554',\n",
            "  'is_potentially_hazardous_asteroid': True,\n",
            "  'is_sentry_object': False,\n",
            "  'links': {'self': 'http://api.nasa.gov/neo/rest/v1/neo/2226554?api_key=ZA3bIx22Y3t1Rjhdcr5WiHYXPQMQILrXT8xMwnpc'},\n",
            "  'name': '226554 (2003 WR21)',\n",
            "  'nasa_jpl_url': 'http://ssd.jpl.nasa.gov/sbdb.cgi?sstr=2226554',\n",
            "  'neo_reference_id': '2226554'},\n",
            " {'absolute_magnitude_h': 20.62,\n",
            "  'close_approach_data': [{'close_approach_date': '2023-01-09',\n",
            "                           'close_approach_date_full': '2023-Jan-09 16:33',\n",
            "                           'epoch_date_close_approach': 1673281980000,\n",
            "                           'miss_distance': {'astronomical': '0.2884780108',\n",
            "                                             'kilometers': '43155695.957516996',\n",
            "                                             'lunar': '112.2179462012',\n",
            "                                             'miles': '26815706.0071907048'},\n",
            "                           'orbiting_body': 'Earth',\n",
            "                           'relative_velocity': {'kilometers_per_hour': '30014.4391606086',\n",
            "                                                 'kilometers_per_second': '8.3373442113',\n",
            "                                                 'miles_per_hour': '18649.8052662126'}}],\n",
            "  'estimated_diameter': {'feet': {'estimated_diameter_max': 1465.6323083572,\n",
            "                                  'estimated_diameter_min': 655.4506943013},\n",
            "                         'kilometers': {'estimated_diameter_max': 0.4467247133,\n",
            "                                        'estimated_diameter_min': 0.1997813652},\n",
            "                         'meters': {'estimated_diameter_max': 446.7247132921,\n",
            "                                    'estimated_diameter_min': 199.78136523},\n",
            "                         'miles': {'estimated_diameter_max': 0.2775817818,\n",
            "                                   'estimated_diameter_min': 0.1241383467}},\n",
            "  'id': '2307070',\n",
            "  'is_potentially_hazardous_asteroid': False,\n",
            "  'is_sentry_object': False,\n",
            "  'links': {'self': 'http://api.nasa.gov/neo/rest/v1/neo/2307070?api_key=ZA3bIx22Y3t1Rjhdcr5WiHYXPQMQILrXT8xMwnpc'},\n",
            "  'name': '307070 (2002 AV31)',\n",
            "  'nasa_jpl_url': 'http://ssd.jpl.nasa.gov/sbdb.cgi?sstr=2307070',\n",
            "  'neo_reference_id': '2307070'},\n",
            " {'absolute_magnitude_h': 18.4,\n",
            "  'close_approach_data': [{'close_approach_date': '2023-01-09',\n",
            "                           'close_approach_date_full': '2023-Jan-09 01:00',\n",
            "                           'epoch_date_close_approach': 1673226000000,\n",
            "                           'miss_distance': {'astronomical': '0.3628965299',\n",
            "                                             'kilometers': '54288547.903431313',\n",
            "                                             'lunar': '141.1667501311',\n",
            "                                             'miles': '33733339.4314575994'},\n",
            "                           'orbiting_body': 'Earth',\n",
            "                           'relative_velocity': {'kilometers_per_hour': '88002.1188429376',\n",
            "                                                 'kilometers_per_second': '24.4450330119',\n",
            "                                                 'miles_per_hour': '54681.0943443797'}}],\n",
            "  'estimated_diameter': {'feet': {'estimated_diameter_max': 4074.0375731972,\n",
            "                                  'estimated_diameter_min': 1821.9649913114},\n",
            "                         'kilometers': {'estimated_diameter_max': 1.2417666126,\n",
            "                                        'estimated_diameter_min': 0.5553349116},\n",
            "                         'meters': {'estimated_diameter_max': 1241.766612574,\n",
            "                                    'estimated_diameter_min': 555.334911581},\n",
            "                         'miles': {'estimated_diameter_max': 0.7715977618,\n",
            "                                   'estimated_diameter_min': 0.3450690093}},\n",
            "  'id': '2436325',\n",
            "  'is_potentially_hazardous_asteroid': False,\n",
            "  'is_sentry_object': False,\n",
            "  'links': {'self': 'http://api.nasa.gov/neo/rest/v1/neo/2436325?api_key=ZA3bIx22Y3t1Rjhdcr5WiHYXPQMQILrXT8xMwnpc'},\n",
            "  'name': '436325 (2010 GR7)',\n",
            "  'nasa_jpl_url': 'http://ssd.jpl.nasa.gov/sbdb.cgi?sstr=2436325',\n",
            "  'neo_reference_id': '2436325'},\n",
            " {'absolute_magnitude_h': 20.96,\n",
            "  'close_approach_data': [{'close_approach_date': '2023-01-09',\n",
            "                           'close_approach_date_full': '2023-Jan-09 03:24',\n",
            "                           'epoch_date_close_approach': 1673234640000,\n",
            "                           'miss_distance': {'astronomical': '0.1211162012',\n",
            "                                             'kilometers': '18118725.722011444',\n",
            "                                             'lunar': '47.1142022668',\n",
            "                                             'miles': '11258454.1022041672'},\n",
            "                           'orbiting_body': 'Earth',\n",
            "                           'relative_velocity': {'kilometers_per_hour': '22658.3508544674',\n",
            "                                                 'kilometers_per_second': '6.2939863485',\n",
            "                                                 'miles_per_hour': '14079.0180628772'}}],\n",
            "  'estimated_diameter': {'feet': {'estimated_diameter_max': 1253.2134002046,\n",
            "                                  'estimated_diameter_min': 560.4540706342},\n",
            "                         'kilometers': {'estimated_diameter_max': 0.3819794322,\n",
            "                                        'estimated_diameter_min': 0.1708263953},\n",
            "                         'meters': {'estimated_diameter_max': 381.979432159,\n",
            "                                    'estimated_diameter_min': 170.8263952629},\n",
            "                         'miles': {'estimated_diameter_max': 0.2373509417,\n",
            "                                   'estimated_diameter_min': 0.1061465681}},\n",
            "  'id': '2508908',\n",
            "  'is_potentially_hazardous_asteroid': True,\n",
            "  'is_sentry_object': False,\n",
            "  'links': {'self': 'http://api.nasa.gov/neo/rest/v1/neo/2508908?api_key=ZA3bIx22Y3t1Rjhdcr5WiHYXPQMQILrXT8xMwnpc'},\n",
            "  'name': '508908 (2003 YX1)',\n",
            "  'nasa_jpl_url': 'http://ssd.jpl.nasa.gov/sbdb.cgi?sstr=2508908',\n",
            "  'neo_reference_id': '2508908'},\n",
            " {'absolute_magnitude_h': 21.3,\n",
            "  'close_approach_data': [{'close_approach_date': '2023-01-09',\n",
            "                           'close_approach_date_full': '2023-Jan-09 07:10',\n",
            "                           'epoch_date_close_approach': 1673248200000,\n",
            "                           'miss_distance': {'astronomical': '0.4928732055',\n",
            "                                             'kilometers': '73732781.722872285',\n",
            "                                             'lunar': '191.7276769395',\n",
            "                                             'miles': '45815426.073056133'},\n",
            "                           'orbiting_body': 'Earth',\n",
            "                           'relative_velocity': {'kilometers_per_hour': '121198.8588141982',\n",
            "                                                 'kilometers_per_second': '33.6663496706',\n",
            "                                                 'miles_per_hour': '75308.2575781889'}}],\n",
            "  'estimated_diameter': {'feet': {'estimated_diameter_max': 1071.581062656,\n",
            "                                  'estimated_diameter_min': 479.2256199},\n",
            "                         'kilometers': {'estimated_diameter_max': 0.3266178974,\n",
            "                                        'estimated_diameter_min': 0.1460679643},\n",
            "                         'meters': {'estimated_diameter_max': 326.6178974458,\n",
            "                                    'estimated_diameter_min': 146.0679642714},\n",
            "                         'miles': {'estimated_diameter_max': 0.2029508896,\n",
            "                                   'estimated_diameter_min': 0.090762397}},\n",
            "  'id': '3014110',\n",
            "  'is_potentially_hazardous_asteroid': True,\n",
            "  'is_sentry_object': False,\n",
            "  'links': {'self': 'http://api.nasa.gov/neo/rest/v1/neo/3014110?api_key=ZA3bIx22Y3t1Rjhdcr5WiHYXPQMQILrXT8xMwnpc'},\n",
            "  'name': '(1998 SU4)',\n",
            "  'nasa_jpl_url': 'http://ssd.jpl.nasa.gov/sbdb.cgi?sstr=3014110',\n",
            "  'neo_reference_id': '3014110'},\n",
            " {'absolute_magnitude_h': 25.2,\n",
            "  'close_approach_data': [{'close_approach_date': '2023-01-09',\n",
            "                           'close_approach_date_full': '2023-Jan-09 23:16',\n",
            "                           'epoch_date_close_approach': 1673306160000,\n",
            "                           'miss_distance': {'astronomical': '0.0850918498',\n",
            "                                             'kilometers': '12729559.484439926',\n",
            "                                             'lunar': '33.1007295722',\n",
            "                                             'miles': '7909781.4821899388'},\n",
            "                           'orbiting_body': 'Earth',\n",
            "                           'relative_velocity': {'kilometers_per_hour': '36346.123842818',\n",
            "                                                 'kilometers_per_second': '10.0961455119',\n",
            "                                                 'miles_per_hour': '22584.0678955555'}}],\n",
            "  'estimated_diameter': {'feet': {'estimated_diameter_max': 177.8381901842,\n",
            "                                  'estimated_diameter_min': 79.5316564495},\n",
            "                         'kilometers': {'estimated_diameter_max': 0.0542050786,\n",
            "                                        'estimated_diameter_min': 0.0242412481},\n",
            "                         'meters': {'estimated_diameter_max': 54.2050786336,\n",
            "                                    'estimated_diameter_min': 24.2412481101},\n",
            "                         'miles': {'estimated_diameter_max': 0.0336814639,\n",
            "                                   'estimated_diameter_min': 0.0150628086}},\n",
            "  'id': '3559843',\n",
            "  'is_potentially_hazardous_asteroid': False,\n",
            "  'is_sentry_object': False,\n",
            "  'links': {'self': 'http://api.nasa.gov/neo/rest/v1/neo/3559843?api_key=ZA3bIx22Y3t1Rjhdcr5WiHYXPQMQILrXT8xMwnpc'},\n",
            "  'name': '(2011 EP51)',\n",
            "  'nasa_jpl_url': 'http://ssd.jpl.nasa.gov/sbdb.cgi?sstr=3559843',\n",
            "  'neo_reference_id': '3559843'},\n",
            " {'absolute_magnitude_h': 26.9,\n",
            "  'close_approach_data': [{'close_approach_date': '2023-01-09',\n",
            "                           'close_approach_date_full': '2023-Jan-09 14:16',\n",
            "                           'epoch_date_close_approach': 1673273760000,\n",
            "                           'miss_distance': {'astronomical': '0.4272893529',\n",
            "                                             'kilometers': '63921577.067518323',\n",
            "                                             'lunar': '166.2155582781',\n",
            "                                             'miles': '39719026.1940379374'},\n",
            "                           'orbiting_body': 'Earth',\n",
            "                           'relative_velocity': {'kilometers_per_hour': '16576.4865892554',\n",
            "                                                 'kilometers_per_second': '4.6045796081',\n",
            "                                                 'miles_per_hour': '10299.9841254181'}}],\n",
            "  'estimated_diameter': {'feet': {'estimated_diameter_max': 81.2877363957,\n",
            "                                  'estimated_diameter_min': 36.3529808636},\n",
            "                         'kilometers': {'estimated_diameter_max': 0.0247765013,\n",
            "                                        'estimated_diameter_min': 0.0110803882},\n",
            "                         'meters': {'estimated_diameter_max': 24.7765012606,\n",
            "                                    'estimated_diameter_min': 11.0803882126},\n",
            "                         'miles': {'estimated_diameter_max': 0.0153953994,\n",
            "                                   'estimated_diameter_min': 0.0068850319}},\n",
            "  'id': '3789481',\n",
            "  'is_potentially_hazardous_asteroid': False,\n",
            "  'is_sentry_object': False,\n",
            "  'links': {'self': 'http://api.nasa.gov/neo/rest/v1/neo/3789481?api_key=ZA3bIx22Y3t1Rjhdcr5WiHYXPQMQILrXT8xMwnpc'},\n",
            "  'name': '(2017 WU1)',\n",
            "  'nasa_jpl_url': 'http://ssd.jpl.nasa.gov/sbdb.cgi?sstr=3789481',\n",
            "  'neo_reference_id': '3789481'},\n",
            " {'absolute_magnitude_h': 25.4,\n",
            "  'close_approach_data': [{'close_approach_date': '2023-01-09',\n",
            "                           'close_approach_date_full': '2023-Jan-09 04:18',\n",
            "                           'epoch_date_close_approach': 1673237880000,\n",
            "                           'miss_distance': {'astronomical': '0.4741066959',\n",
            "                                             'kilometers': '70925351.859377733',\n",
            "                                             'lunar': '184.4275047051',\n",
            "                                             'miles': '44070970.0473813954'},\n",
            "                           'orbiting_body': 'Earth',\n",
            "                           'relative_velocity': {'kilometers_per_hour': '71419.4248076035',\n",
            "                                                 'kilometers_per_second': '19.8387291132',\n",
            "                                                 'miles_per_hour': '44377.253153369'}}],\n",
            "  'estimated_diameter': {'feet': {'estimated_diameter_max': 162.1903570994,\n",
            "                                  'estimated_diameter_min': 72.5337327539},\n",
            "                         'kilometers': {'estimated_diameter_max': 0.0494356193,\n",
            "                                        'estimated_diameter_min': 0.022108281},\n",
            "                         'meters': {'estimated_diameter_max': 49.435619262,\n",
            "                                    'estimated_diameter_min': 22.1082810359},\n",
            "                         'miles': {'estimated_diameter_max': 0.0307178602,\n",
            "                                   'estimated_diameter_min': 0.0137374447}},\n",
            "  'id': '54054562',\n",
            "  'is_potentially_hazardous_asteroid': False,\n",
            "  'is_sentry_object': False,\n",
            "  'links': {'self': 'http://api.nasa.gov/neo/rest/v1/neo/54054562?api_key=ZA3bIx22Y3t1Rjhdcr5WiHYXPQMQILrXT8xMwnpc'},\n",
            "  'name': '(2020 SA3)',\n",
            "  'nasa_jpl_url': 'http://ssd.jpl.nasa.gov/sbdb.cgi?sstr=54054562',\n",
            "  'neo_reference_id': '54054562'},\n",
            " {'absolute_magnitude_h': 26.1,\n",
            "  'close_approach_data': [{'close_approach_date': '2023-01-09',\n",
            "                           'close_approach_date_full': '2023-Jan-09 14:29',\n",
            "                           'epoch_date_close_approach': 1673274540000,\n",
            "                           'miss_distance': {'astronomical': '0.3334722534',\n",
            "                                             'kilometers': '49886738.812740258',\n",
            "                                             'lunar': '129.7207065726',\n",
            "                                             'miles': '30998182.0934332404'},\n",
            "                           'orbiting_body': 'Earth',\n",
            "                           'relative_velocity': {'kilometers_per_hour': '60765.8145388754',\n",
            "                                                 'kilometers_per_second': '16.8793929275',\n",
            "                                                 'miles_per_hour': '37757.5140394474'}}],\n",
            "  'estimated_diameter': {'feet': {'estimated_diameter_max': 117.4965270602,\n",
            "                                  'estimated_diameter_min': 52.5460443254},\n",
            "                         'kilometers': {'estimated_diameter_max': 0.0358129403,\n",
            "                                        'estimated_diameter_min': 0.0160160338},\n",
            "                         'meters': {'estimated_diameter_max': 35.8129403019,\n",
            "                                    'estimated_diameter_min': 16.0160337979},\n",
            "                         'miles': {'estimated_diameter_max': 0.0222531225,\n",
            "                                   'estimated_diameter_min': 0.0099518989}},\n",
            "  'id': '54104276',\n",
            "  'is_potentially_hazardous_asteroid': False,\n",
            "  'is_sentry_object': False,\n",
            "  'links': {'self': 'http://api.nasa.gov/neo/rest/v1/neo/54104276?api_key=ZA3bIx22Y3t1Rjhdcr5WiHYXPQMQILrXT8xMwnpc'},\n",
            "  'name': '(2021 AA1)',\n",
            "  'nasa_jpl_url': 'http://ssd.jpl.nasa.gov/sbdb.cgi?sstr=54104276',\n",
            "  'neo_reference_id': '54104276'},\n",
            " {'absolute_magnitude_h': 27.2,\n",
            "  'close_approach_data': [{'close_approach_date': '2023-01-09',\n",
            "                           'close_approach_date_full': '2023-Jan-09 14:50',\n",
            "                           'epoch_date_close_approach': 1673275800000,\n",
            "                           'miss_distance': {'astronomical': '0.1503150963',\n",
            "                                             'kilometers': '22486818.235324881',\n",
            "                                             'lunar': '58.4725724607',\n",
            "                                             'miles': '13972660.9305341178'},\n",
            "                           'orbiting_body': 'Earth',\n",
            "                           'relative_velocity': {'kilometers_per_hour': '33590.9419665386',\n",
            "                                                 'kilometers_per_second': '9.3308172129',\n",
            "                                                 'miles_per_hour': '20872.1050235973'}}],\n",
            "  'estimated_diameter': {'feet': {'estimated_diameter_max': 70.7986587106,\n",
            "                                  'estimated_diameter_min': 31.6621227185},\n",
            "                         'kilometers': {'estimated_diameter_max': 0.0215794305,\n",
            "                                        'estimated_diameter_min': 0.0096506147},\n",
            "                         'meters': {'estimated_diameter_max': 21.5794304844,\n",
            "                                    'estimated_diameter_min': 9.6506146958},\n",
            "                         'miles': {'estimated_diameter_max': 0.0134088323,\n",
            "                                   'estimated_diameter_min': 0.0059966121}},\n",
            "  'id': '54130489',\n",
            "  'is_potentially_hazardous_asteroid': False,\n",
            "  'is_sentry_object': False,\n",
            "  'links': {'self': 'http://api.nasa.gov/neo/rest/v1/neo/54130489?api_key=ZA3bIx22Y3t1Rjhdcr5WiHYXPQMQILrXT8xMwnpc'},\n",
            "  'name': '(2021 EP1)',\n",
            "  'nasa_jpl_url': 'http://ssd.jpl.nasa.gov/sbdb.cgi?sstr=54130489',\n",
            "  'neo_reference_id': '54130489'},\n",
            " {'absolute_magnitude_h': 23.39,\n",
            "  'close_approach_data': [{'close_approach_date': '2023-01-09',\n",
            "                           'close_approach_date_full': '2023-Jan-09 23:18',\n",
            "                           'epoch_date_close_approach': 1673306280000,\n",
            "                           'miss_distance': {'astronomical': '0.1990572251',\n",
            "                                             'kilometers': '29778536.883070537',\n",
            "                                             'lunar': '77.4332605639',\n",
            "                                             'miles': '18503524.7992939306'},\n",
            "                           'orbiting_body': 'Earth',\n",
            "                           'relative_velocity': {'kilometers_per_hour': '42454.2341018916',\n",
            "                                                 'kilometers_per_second': '11.7928428061',\n",
            "                                                 'miles_per_hour': '26379.4100729226'}}],\n",
            "  'estimated_diameter': {'feet': {'estimated_diameter_max': 409.2842476221,\n",
            "                                  'estimated_diameter_min': 183.0374799606},\n",
            "                         'kilometers': {'estimated_diameter_max': 0.1247498347,\n",
            "                                        'estimated_diameter_min': 0.0557898221},\n",
            "                         'meters': {'estimated_diameter_max': 124.7498346832,\n",
            "                                    'estimated_diameter_min': 55.7898221067},\n",
            "                         'miles': {'estimated_diameter_max': 0.0775159295,\n",
            "                                   'estimated_diameter_min': 0.0346661776}},\n",
            "  'id': '54174525',\n",
            "  'is_potentially_hazardous_asteroid': False,\n",
            "  'is_sentry_object': False,\n",
            "  'links': {'self': 'http://api.nasa.gov/neo/rest/v1/neo/54174525?api_key=ZA3bIx22Y3t1Rjhdcr5WiHYXPQMQILrXT8xMwnpc'},\n",
            "  'name': '(2021 OZ)',\n",
            "  'nasa_jpl_url': 'http://ssd.jpl.nasa.gov/sbdb.cgi?sstr=54174525',\n",
            "  'neo_reference_id': '54174525'},\n",
            " {'absolute_magnitude_h': 23.39,\n",
            "  'close_approach_data': [{'close_approach_date': '2023-01-09',\n",
            "                           'close_approach_date_full': '2023-Jan-09 05:43',\n",
            "                           'epoch_date_close_approach': 1673242980000,\n",
            "                           'miss_distance': {'astronomical': '0.0364120775',\n",
            "                                             'kilometers': '5447169.236274925',\n",
            "                                             'lunar': '14.1642981475',\n",
            "                                             'miles': '3384714.012146965'},\n",
            "                           'orbiting_body': 'Earth',\n",
            "                           'relative_velocity': {'kilometers_per_hour': '30422.1248161603',\n",
            "                                                 'kilometers_per_second': '8.4505902267',\n",
            "                                                 'miles_per_hour': '18903.1252781303'}}],\n",
            "  'estimated_diameter': {'feet': {'estimated_diameter_max': 409.2842476221,\n",
            "                                  'estimated_diameter_min': 183.0374799606},\n",
            "                         'kilometers': {'estimated_diameter_max': 0.1247498347,\n",
            "                                        'estimated_diameter_min': 0.0557898221},\n",
            "                         'meters': {'estimated_diameter_max': 124.7498346832,\n",
            "                                    'estimated_diameter_min': 55.7898221067},\n",
            "                         'miles': {'estimated_diameter_max': 0.0775159295,\n",
            "                                   'estimated_diameter_min': 0.0346661776}},\n",
            "  'id': '54201812',\n",
            "  'is_potentially_hazardous_asteroid': False,\n",
            "  'is_sentry_object': False,\n",
            "  'links': {'self': 'http://api.nasa.gov/neo/rest/v1/neo/54201812?api_key=ZA3bIx22Y3t1Rjhdcr5WiHYXPQMQILrXT8xMwnpc'},\n",
            "  'name': '(2021 TL)',\n",
            "  'nasa_jpl_url': 'http://ssd.jpl.nasa.gov/sbdb.cgi?sstr=54201812',\n",
            "  'neo_reference_id': '54201812'}]\n"
          ]
        }
      ],
      "source": [
        "API_KEY = 'ZA3bIx22Y3t1Rjhdcr5WiHYXPQMQILrXT8xMwnpc'  # substitute your API key here\n",
        "\n",
        "today = '2023-01-09'   # Today's date as a string!\n",
        "# Use an f-string here to \"format\" the date and API key varaibles.\n",
        "url = f'https://api.nasa.gov/neo/rest/v1/feed?start_date={today}&end_date={today}&api_key={API_KEY}'\n",
        "\n",
        "response = requests.request(\"GET\", url, headers={}, data={})\n",
        "\n",
        "data = json.loads(response.text)  # recall json.loads for lab 1\n",
        "\n",
        "# TIP: print(data) to see the whole data structure returned, here we grab just the list of NEO's:\n",
        "n_results = data['element_count']\n",
        "neos = data['near_earth_objects'][today]\n",
        "print(f'{n_results} Near Earth Objects found for {today}')\n",
        "pprint(neos)"
      ],
      "metadata": {
        "pycharm": {
          "name": "#%%\n"
        },
        "colab": {
          "base_uri": "https://localhost:8080/"
        },
        "id": "dzeu6BN9bBnQ",
        "outputId": "92d49bda-ae6f-444f-e410-e0ea20d5395c"
      }
    },
    {
      "cell_type": "markdown",
      "source": [
        "Next we extract just the potentially hazerdous asteroids, using a [list comprehension](https://realpython.com/lessons/list-comprehensions-overview/) that implements a [\"filter\"](https://youtu.be/hUes6y2b--0):"
      ],
      "metadata": {
        "collapsed": false,
        "pycharm": {
          "name": "#%% md\n"
        },
        "id": "tfNidfYtbBnQ"
      }
    },
    {
      "cell_type": "code",
      "execution_count": null,
      "metadata": {
        "id": "JDGbYTySU3BP",
        "colab": {
          "base_uri": "https://localhost:8080/"
        },
        "outputId": "078d908b-5a59-4c51-a88c-7b3ca29904a2"
      },
      "outputs": [
        {
          "output_type": "stream",
          "name": "stdout",
          "text": [
            "3 potentially hazardous asteroids identified.\n"
          ]
        }
      ],
      "source": [
        "hazards = [item for item in neos if item['is_potentially_hazardous_asteroid']==True]\n",
        "print(f'{len(hazards)} potentially hazardous asteroids identified.')"
      ]
    },
    {
      "cell_type": "markdown",
      "source": [
        "## Exercise 1\n",
        "\n",
        "In the code cell below, **re-write the \"list comprehension\" above** as a loop so you understand how it works.\n",
        "Notice how this kind of \"conditional\" list comprehension is a compact way to \"filter\" items of interest from a large data set.\n"
      ],
      "metadata": {
        "collapsed": false,
        "pycharm": {
          "name": "#%% md\n"
        },
        "id": "uZyP8pxAbBnR"
      }
    },
    {
      "cell_type": "code",
      "execution_count": null,
      "outputs": [
        {
          "output_type": "stream",
          "name": "stdout",
          "text": [
            "3 potentially hazardous asteroids identified.\n",
            "[{'absolute_magnitude_h': 19.64,\n",
            "  'close_approach_data': [{'close_approach_date': '2023-01-09',\n",
            "                           'close_approach_date_full': '2023-Jan-09 13:59',\n",
            "                           'epoch_date_close_approach': 1673272740000,\n",
            "                           'miss_distance': {'astronomical': '0.0725377631',\n",
            "                                             'kilometers': '10851494.854324597',\n",
            "                                             'lunar': '28.2171898459',\n",
            "                                             'miles': '6742806.2343975586'},\n",
            "                           'orbiting_body': 'Earth',\n",
            "                           'relative_velocity': {'kilometers_per_hour': '32387.3201949256',\n",
            "                                                 'kilometers_per_second': '8.9964778319',\n",
            "                                                 'miles_per_hour': '20124.2212622303'}}],\n",
            "  'estimated_diameter': {'feet': {'estimated_diameter_max': 2301.5744618737,\n",
            "                                  'estimated_diameter_min': 1029.2953904054},\n",
            "                         'kilometers': {'estimated_diameter_max': 0.7015198735,\n",
            "                                        'estimated_diameter_min': 0.313729225},\n",
            "                         'meters': {'estimated_diameter_max': 701.5198735305,\n",
            "                                    'estimated_diameter_min': 313.7292249562},\n",
            "                         'miles': {'estimated_diameter_max': 0.4359041053,\n",
            "                                   'estimated_diameter_min': 0.1949422422}},\n",
            "  'id': '2226554',\n",
            "  'is_potentially_hazardous_asteroid': True,\n",
            "  'is_sentry_object': False,\n",
            "  'links': {'self': 'http://api.nasa.gov/neo/rest/v1/neo/2226554?api_key=ZA3bIx22Y3t1Rjhdcr5WiHYXPQMQILrXT8xMwnpc'},\n",
            "  'name': '226554 (2003 WR21)',\n",
            "  'nasa_jpl_url': 'http://ssd.jpl.nasa.gov/sbdb.cgi?sstr=2226554',\n",
            "  'neo_reference_id': '2226554'},\n",
            " {'absolute_magnitude_h': 20.96,\n",
            "  'close_approach_data': [{'close_approach_date': '2023-01-09',\n",
            "                           'close_approach_date_full': '2023-Jan-09 03:24',\n",
            "                           'epoch_date_close_approach': 1673234640000,\n",
            "                           'miss_distance': {'astronomical': '0.1211162012',\n",
            "                                             'kilometers': '18118725.722011444',\n",
            "                                             'lunar': '47.1142022668',\n",
            "                                             'miles': '11258454.1022041672'},\n",
            "                           'orbiting_body': 'Earth',\n",
            "                           'relative_velocity': {'kilometers_per_hour': '22658.3508544674',\n",
            "                                                 'kilometers_per_second': '6.2939863485',\n",
            "                                                 'miles_per_hour': '14079.0180628772'}}],\n",
            "  'estimated_diameter': {'feet': {'estimated_diameter_max': 1253.2134002046,\n",
            "                                  'estimated_diameter_min': 560.4540706342},\n",
            "                         'kilometers': {'estimated_diameter_max': 0.3819794322,\n",
            "                                        'estimated_diameter_min': 0.1708263953},\n",
            "                         'meters': {'estimated_diameter_max': 381.979432159,\n",
            "                                    'estimated_diameter_min': 170.8263952629},\n",
            "                         'miles': {'estimated_diameter_max': 0.2373509417,\n",
            "                                   'estimated_diameter_min': 0.1061465681}},\n",
            "  'id': '2508908',\n",
            "  'is_potentially_hazardous_asteroid': True,\n",
            "  'is_sentry_object': False,\n",
            "  'links': {'self': 'http://api.nasa.gov/neo/rest/v1/neo/2508908?api_key=ZA3bIx22Y3t1Rjhdcr5WiHYXPQMQILrXT8xMwnpc'},\n",
            "  'name': '508908 (2003 YX1)',\n",
            "  'nasa_jpl_url': 'http://ssd.jpl.nasa.gov/sbdb.cgi?sstr=2508908',\n",
            "  'neo_reference_id': '2508908'},\n",
            " {'absolute_magnitude_h': 21.3,\n",
            "  'close_approach_data': [{'close_approach_date': '2023-01-09',\n",
            "                           'close_approach_date_full': '2023-Jan-09 07:10',\n",
            "                           'epoch_date_close_approach': 1673248200000,\n",
            "                           'miss_distance': {'astronomical': '0.4928732055',\n",
            "                                             'kilometers': '73732781.722872285',\n",
            "                                             'lunar': '191.7276769395',\n",
            "                                             'miles': '45815426.073056133'},\n",
            "                           'orbiting_body': 'Earth',\n",
            "                           'relative_velocity': {'kilometers_per_hour': '121198.8588141982',\n",
            "                                                 'kilometers_per_second': '33.6663496706',\n",
            "                                                 'miles_per_hour': '75308.2575781889'}}],\n",
            "  'estimated_diameter': {'feet': {'estimated_diameter_max': 1071.581062656,\n",
            "                                  'estimated_diameter_min': 479.2256199},\n",
            "                         'kilometers': {'estimated_diameter_max': 0.3266178974,\n",
            "                                        'estimated_diameter_min': 0.1460679643},\n",
            "                         'meters': {'estimated_diameter_max': 326.6178974458,\n",
            "                                    'estimated_diameter_min': 146.0679642714},\n",
            "                         'miles': {'estimated_diameter_max': 0.2029508896,\n",
            "                                   'estimated_diameter_min': 0.090762397}},\n",
            "  'id': '3014110',\n",
            "  'is_potentially_hazardous_asteroid': True,\n",
            "  'is_sentry_object': False,\n",
            "  'links': {'self': 'http://api.nasa.gov/neo/rest/v1/neo/3014110?api_key=ZA3bIx22Y3t1Rjhdcr5WiHYXPQMQILrXT8xMwnpc'},\n",
            "  'name': '(1998 SU4)',\n",
            "  'nasa_jpl_url': 'http://ssd.jpl.nasa.gov/sbdb.cgi?sstr=3014110',\n",
            "  'neo_reference_id': '3014110'}]\n"
          ]
        }
      ],
      "source": [
        "# Your code here\n",
        "hazards = []\n",
        "\n",
        "for item in neos:\n",
        "  if item['is_potentially_hazardous_asteroid']==True:\n",
        "    hazards.append(item)\n",
        "\n",
        "print(f'{len(hazards)} potentially hazardous asteroids identified.')\n",
        "pprint(hazards)"
      ],
      "metadata": {
        "pycharm": {
          "name": "#%%\n"
        },
        "colab": {
          "base_uri": "https://localhost:8080/"
        },
        "id": "rVg6VARqbBnR",
        "outputId": "895992a8-bb5b-4ab1-94db-f7672cea356c"
      }
    },
    {
      "cell_type": "markdown",
      "source": [
        "## Fetch Compelte Data for One Asteroid\n",
        "\n",
        "Notice that the record for each `neo` is a dictionary with `id` field that uniquely identifies this record in the database.\n",
        "\n",
        "We can use this `id` to fetch complete orbital and close approach data for the NEO.\n",
        "\n",
        "For example, this query fetches the complete data set for the first hazardous asteroid...\n"
      ],
      "metadata": {
        "collapsed": false,
        "pycharm": {
          "name": "#%% md\n"
        },
        "id": "WOty2VzPbBnR"
      }
    },
    {
      "cell_type": "code",
      "execution_count": null,
      "outputs": [
        {
          "output_type": "stream",
          "name": "stdout",
          "text": [
            "id: 2226554\n"
          ]
        }
      ],
      "source": [
        "id = hazards[0]['id']\n",
        "print(f'id: {id}')\n",
        "url = f'https://api.nasa.gov/neo/rest/v1/neo/{id}/?api_key={API_KEY}'\n",
        "response = requests.request(\"GET\", url, headers={}, data={})\n",
        "data = json.loads(response.text)"
      ],
      "metadata": {
        "pycharm": {
          "name": "#%%\n"
        },
        "colab": {
          "base_uri": "https://localhost:8080/"
        },
        "id": "419GChqHbBnS",
        "outputId": "31af0feb-bbfa-4f54-f81b-dd822cf3646e"
      }
    },
    {
      "cell_type": "markdown",
      "source": [
        "Notice that the `miss_distance` field contains the distance (in various units) by which the NEO missed an \"orbiting body\".\n",
        "\n",
        "## Exercise 2\n",
        "\n",
        "In the code cell below, write a python function that takes a list of \"close approach data\" as a parameter,\n",
        "and returns a 2-tuple with the (date, miss km) of the closest approach to Earth in the list (where \"miss km\" is the miss distance in km).\n",
        "\n",
        "Hints:\n",
        "* notice the input is a list of dictionaries.  Each dictionary has a 'close_approach_date\", \"orbiting_body\", and 'miss_distance' field.\n",
        "* we are only interested in the closest approach to \"Earth\"\n",
        "* use a loop if that is easier to understand - we will look at more compact algorithms to solve this problem in class.\n",
        "\n",
        "Add at least one unit test to check your work - note the test data only needs dictionaries with the fields your function actually uses.\n"
      ],
      "metadata": {
        "id": "DNRs7ynOYwYk"
      }
    },
    {
      "cell_type": "code",
      "source": [
        "# your code here\n",
        "\n",
        "##### USING JOSEPH'S CODE AND INDEX & MIN FUNCTIONS TO LOCATE DESIRED TUPLE FROM APPROACH_DATES #####\n",
        "def getClosest(approach_dates):\n",
        "  distance = [float(date_distance[1]) for date_distance in approach_dates]\n",
        "  return approach_dates[distance.index(min(distance))]\n",
        "\n",
        "\n",
        "# close_approach_data = data['close_approach_data']\n",
        "# approach_dates = [\n",
        "#     (c['close_approach_date'], c['miss_distance']['kilometers']) \n",
        "#       for c in close_approach_data if c['orbiting_body'] == 'Earth'\n",
        "# ]\n",
        "\n",
        "# getClosest(approach_dates)\n",
        "#####\n",
        "\n",
        "\n",
        "##### ROBERTO'S & SOS' CODE #####\n",
        "# def getClosest(closeApproachList):\n",
        "#   closest = closeApproachList[0]\n",
        "#   for record in closeApproachList:\n",
        "#     if record['orbiting_body'] == 'Earth':\n",
        "#       if float(record['miss_distance']['kilometers']) < float(closest['miss_distance']['kilometers']):\n",
        "#         closest = record\n",
        "\n",
        "#   result = (closest['close_approach_date'], closest['miss_distance']['kilometers'])\n",
        "#   return result"
      ],
      "metadata": {
        "id": "tiyXTDfnZAd0"
      },
      "execution_count": null,
      "outputs": []
    },
    {
      "cell_type": "markdown",
      "source": [
        "## OPTIONAL - Take your skills to the next level...\n",
        "## Exercise 3\n",
        "\n",
        "In the code cell below, write a complete program that:\n",
        " 1. fetches the list of NEO's for this week.\n",
        " 2. for each NEO, fetch it's complete orbital data and determine its closest approach to Earth\n",
        " 3. identify which NEO from this week's data makes the closet approach to earth\n",
        " 4. print a nice message with information about the NEO, which it will approach the Earth, and how close it will come.\n",
        "\n",
        "Hints:\n",
        "* you'll need the start and end date - end date is today, see if you can use a [`timedelta`](https://docs.python.org/3/library/datetime.html#timedelta-objects) object to ge the start date (you can do basic \"date math\" with `timedelta` and `date` objects!)\n",
        "* you may need to modify the function we wrote in Ex. 2 to return a triple with the NEO's id included;\n",
        "* lots of opportunity here for more practice with list comprehensions\n"
      ],
      "metadata": {
        "collapsed": false,
        "id": "uE0mu9qFbBnS"
      }
    },
    {
      "cell_type": "code",
      "source": [
        "# your code here\n",
        "\n",
        "list_of_NEOs_per_day = []\n",
        "\n",
        "for i in range(7):\n",
        "  today = str(datetime.date.today() - datetime.timedelta(days = i))\n",
        "\n",
        "  url = f'https://api.nasa.gov/neo/rest/v1/feed?start_date={today}&end_date={today}&api_key={API_KEY}'\n",
        "\n",
        "  response = requests.request(\"GET\", url, headers={}, data={})\n",
        "\n",
        "  new_data = json.loads(response.text)\n",
        "  \n",
        "  list_of_NEOs_per_day.append(new_data['near_earth_objects'][today])\n",
        "\n",
        "\n",
        "### Comprehensive version ###\n",
        "date_distance_id = [\n",
        "    (asteroid['close_approach_data'][0]['close_approach_date'], \n",
        "     asteroid['close_approach_data'][0]['miss_distance']['kilometers'], \n",
        "     asteroid['id']) \n",
        "      for each_day_data in list_of_NEOs_per_day \n",
        "        for asteroid in each_day_data\n",
        "    ]\n",
        "\n",
        "### Normal version for easier understanding ###\n",
        "# for each_day_data in list_of_NEOs_per_day:\n",
        "#   for asteroid in each_day_data:\n",
        "#     date_distance_id.append(\n",
        "#         (asteroid['close_approach_data'][0]['close_approach_date'], \n",
        "#           asteroid['close_approach_data'][0]['miss_distance']['kilometers'], \n",
        "#             asteroid['id']) #tuple carrying: close approach date, miss distance in km, and asteroid id\n",
        "#         )\n",
        "\n",
        "\n",
        "### Side note: erase the function to see the list of date_distance_id tuples ###\n",
        "getClosest(date_distance_id)"
      ],
      "metadata": {
        "id": "Ds1YevErlzCe",
        "pycharm": {
          "name": "#%%\n"
        },
        "colab": {
          "base_uri": "https://localhost:8080/"
        },
        "outputId": "607f4ba4-0c5c-42d0-9b04-1c5f7be90952"
      },
      "execution_count": null,
      "outputs": [
        {
          "output_type": "execute_result",
          "data": {
            "text/plain": [
              "('2023-01-20', '1993300.692164614', '3986732')"
            ]
          },
          "metadata": {},
          "execution_count": 73
        }
      ]
    },
    {
      "cell_type": "markdown",
      "source": [
        "LAB 3\n",
        "\n",
        "EX 1\n",
        "\n",
        "Using what we learned in the textbook, define a simple Asteroid class with some basic state variables for a single NEO. Your Asteroid class should define at least 4 \"state variables:”\n",
        "id, name, estimated_diameter (m), is_potentially_hazardous (bool)\n",
        "\n",
        " Provide an __init__(self, ...) method to initialize a new Asteroid object with specific data values and __str__(self), __repr__(self) methods that returns a nicely formatted string representation of the object...\n",
        "OR... use a @dataclass and allow it to supply all that boilerplate code!\n",
        "\n",
        " Provide a little code to test your new class.\n",
        "\n",
        "\n",
        "EX 2\n",
        "\n",
        "We want to be able to construct Asteroid objects easily from the NEO API. Define a “@classmethod”: from_NEO(cls, neo_id) that takes the id for a single NEO, fetches the\n",
        "NEO record from API, constructs and returns an Asteroid object representing that NEO.\n",
        "This kind of method is sometimes called a “Factory” – it constructs an object from raw materials\n",
        "\n",
        "\n",
        "EX 3\n",
        "\n",
        "Each NEO comes with a list of “close_approach_data”, where each record in this list represents a single “close approach” to another orbiting body.\n",
        "\n",
        " Develop a class named “CloseApproach” to represent a single close approach record. State variables are asteroid (Asteroid object), orbiting body (str), approach date (datetime object!), miss distance (float choose units, document it, and be consistent!), and relative velocity (ditto).\n",
        "\n",
        " Define a Factory class method to construct a CloseApproach object from one close approach data record (a dictionary object). This method also takes an Asteroid object as input – the Asteroid to which the close approach data belongs.\n",
        "Remember to parse the date/time string into a datetime object.\n",
        "\n",
        "\n",
        "EX 4\n",
        "\n",
        "Every Asteroid should have a list of “close approaches”. Add a new state variable to your Asteroid class, initially an empty list. In the factory method, use a list comprehension to build a list of CloseApproach objects for the Asteroid from the NEO data record.\n",
        "Extend your test code to demonstrate this new feature."
      ],
      "metadata": {
        "id": "ZOq9q4O2TUf_"
      }
    },
    {
      "cell_type": "code",
      "source": [
        "from dataclasses import dataclass\n",
        "from datetime import datetime\n",
        "\n",
        "@dataclass\n",
        "class Asteroid:\n",
        "  id: int\n",
        "  name: str\n",
        "  estimated_diameter: float #max estimated diameter in meters\n",
        "  is_potentially_dangerous: bool\n",
        "  CloseApproach_objects : list\n",
        "\n",
        "  @classmethod\n",
        "  def from_NEO(cls, neo_id):\n",
        "    id = str(neo_id)\n",
        "    url = f'https://api.nasa.gov/neo/rest/v1/neo/{id}/?api_key={API_KEY}'\n",
        "    response = requests.request(\"GET\", url, headers={}, data={})\n",
        "    data = json.loads(response.text)\n",
        "    data_record = data['close_approach_data']\n",
        "\n",
        "    asteroid = Asteroid(neo_id, \n",
        "                        data['name'],\n",
        "                        float(data['estimated_diameter']['meters']['estimated_diameter_max']),\n",
        "                        data['is_potentially_hazardous_asteroid'],\n",
        "                        [] )\n",
        "    \n",
        "    ### EX 4 ###\n",
        "    CloseApproach_objects = [CloseApproach.fromRecord(asteroid, record) for record in data_record]\n",
        "\n",
        "    return Asteroid(neo_id, \n",
        "                    data['name'], \n",
        "                    float(data['estimated_diameter']['meters']['estimated_diameter_max']), \n",
        "                    data['is_potentially_hazardous_asteroid'],\n",
        "                    CloseApproach_objects\n",
        "                    )\n",
        "\n",
        "@dataclass\n",
        "class CloseApproach:\n",
        "  asteroid: Asteroid\n",
        "  orbiting_body: str\n",
        "  approach_date: datetime.date\n",
        "  miss_distance: float #in km\n",
        "  relative_velocity: float #in km/s\n",
        "\n",
        "  @classmethod\n",
        "  def fromRecord(cls, Asteroid, record):    \n",
        "    return CloseApproach(Asteroid, \n",
        "                         record['orbiting_body'], \n",
        "                         datetime.strptime(record['close_approach_date'], \"%Y-%m-%d\").date(), \n",
        "                         float(record['miss_distance']['kilometers']), \n",
        "                         float(record['relative_velocity']['kilometers_per_second'])\n",
        "                         )"
      ],
      "metadata": {
        "id": "z7R7SrQ_rtoa"
      },
      "execution_count": null,
      "outputs": []
    },
    {
      "cell_type": "code",
      "source": [
        "# testing classes from cell above\n",
        "\n",
        "other = Asteroid.from_NEO(2467336)\n",
        "pprint(other)\n",
        "\n",
        "another = Asteroid.from_NEO(54087767)\n",
        "pprint(another)"
      ],
      "metadata": {
        "colab": {
          "base_uri": "https://localhost:8080/"
        },
        "id": "J5PRNqacBJ59",
        "outputId": "48ddf800-ddb5-478f-9715-56b99df3bd04"
      },
      "execution_count": null,
      "outputs": [
        {
          "output_type": "stream",
          "name": "stdout",
          "text": [
            "Asteroid(id=2467336, name='467336 (2002 LT38)', estimated_diameter=450.8582061718, is_potentially_dangerous=True, CloseApproach_objects=[CloseApproach(asteroid=Asteroid(id=2467336, name='467336 (2002 LT38)', estimated_diameter=450.8582061718, is_potentially_dangerous=True, CloseApproach_objects=[]), orbiting_body='Earth', approach_date=datetime.date(1901, 4, 13), miss_distance=28665449.757554963, relative_velocity=12.5972210283), CloseApproach(asteroid=Asteroid(id=2467336, name='467336 (2002 LT38)', estimated_diameter=450.8582061718, is_potentially_dangerous=True, CloseApproach_objects=[]), orbiting_body='Earth', approach_date=datetime.date(1901, 10, 16), miss_distance=58209172.43835018, relative_velocity=12.79485039), CloseApproach(asteroid=Asteroid(id=2467336, name='467336 (2002 LT38)', estimated_diameter=450.8582061718, is_potentially_dangerous=True, CloseApproach_objects=[]), orbiting_body='Venus', approach_date=datetime.date(1902, 9, 1), miss_distance=16973838.068637215, relative_velocity=10.609925095), CloseApproach(asteroid=Asteroid(id=2467336, name='467336 (2002 LT38)', estimated_diameter=450.8582061718, is_potentially_dangerous=True, CloseApproach_objects=[]), orbiting_body='Earth', approach_date=datetime.date(1904, 12, 28), miss_distance=56472349.17113622, relative_velocity=13.2073900921), CloseApproach(asteroid=Asteroid(id=2467336, name='467336 (2002 LT38)', estimated_diameter=450.8582061718, is_potentially_dangerous=True, CloseApproach_objects=[]), orbiting_body='Earth', approach_date=datetime.date(1905, 6, 29), miss_distance=22542668.041965805, relative_velocity=12.1939995424), CloseApproach(asteroid=Asteroid(id=2467336, name='467336 (2002 LT38)', estimated_diameter=450.8582061718, is_potentially_dangerous=True, CloseApproach_objects=[]), orbiting_body='Earth', approach_date=datetime.date(1908, 4, 12), miss_distance=18957868.779189408, relative_velocity=10.032389534), CloseApproach(asteroid=Asteroid(id=2467336, name='467336 (2002 LT38)', estimated_diameter=450.8582061718, is_potentially_dangerous=True, CloseApproach_objects=[]), orbiting_body='Earth', approach_date=datetime.date(1908, 10, 4), miss_distance=55803168.11369031, relative_velocity=11.4252485787), CloseApproach(asteroid=Asteroid(id=2467336, name='467336 (2002 LT38)', estimated_diameter=450.8582061718, is_potentially_dangerous=True, CloseApproach_objects=[]), orbiting_body='Earth', approach_date=datetime.date(1911, 12, 19), miss_distance=58413696.48278194, relative_velocity=14.1065231028), CloseApproach(asteroid=Asteroid(id=2467336, name='467336 (2002 LT38)', estimated_diameter=450.8582061718, is_potentially_dangerous=True, CloseApproach_objects=[]), orbiting_body='Earth', approach_date=datetime.date(1912, 6, 27), miss_distance=33875329.29088117, relative_velocity=14.5647784468), CloseApproach(asteroid=Asteroid(id=2467336, name='467336 (2002 LT38)', estimated_diameter=450.8582061718, is_potentially_dangerous=True, CloseApproach_objects=[]), orbiting_body='Venus', approach_date=datetime.date(1914, 3, 16), miss_distance=21308777.584628683, relative_velocity=9.3209683693), CloseApproach(asteroid=Asteroid(id=2467336, name='467336 (2002 LT38)', estimated_diameter=450.8582061718, is_potentially_dangerous=True, CloseApproach_objects=[]), orbiting_body='Earth', approach_date=datetime.date(1915, 4, 15), miss_distance=13866274.486497762, relative_velocity=7.8247036752), CloseApproach(asteroid=Asteroid(id=2467336, name='467336 (2002 LT38)', estimated_diameter=450.8582061718, is_potentially_dangerous=True, CloseApproach_objects=[]), orbiting_body='Earth', approach_date=datetime.date(1915, 9, 24), miss_distance=52645144.45193008, relative_velocity=9.7544908257), CloseApproach(asteroid=Asteroid(id=2467336, name='467336 (2002 LT38)', estimated_diameter=450.8582061718, is_potentially_dangerous=True, CloseApproach_objects=[]), orbiting_body='Venus', approach_date=datetime.date(1917, 5, 20), miss_distance=20691191.919998758, relative_velocity=11.5571639818), CloseApproach(asteroid=Asteroid(id=2467336, name='467336 (2002 LT38)', estimated_diameter=450.8582061718, is_potentially_dangerous=True, CloseApproach_objects=[]), orbiting_body='Earth', approach_date=datetime.date(1918, 12, 10), miss_distance=59756438.16507674, relative_velocity=14.7174681808), CloseApproach(asteroid=Asteroid(id=2467336, name='467336 (2002 LT38)', estimated_diameter=450.8582061718, is_potentially_dangerous=True, CloseApproach_objects=[]), orbiting_body='Earth', approach_date=datetime.date(1919, 6, 25), miss_distance=44952401.75611325, relative_velocity=16.917001863), CloseApproach(asteroid=Asteroid(id=2467336, name='467336 (2002 LT38)', estimated_diameter=450.8582061718, is_potentially_dangerous=True, CloseApproach_objects=[]), orbiting_body='Venus', approach_date=datetime.date(1920, 7, 22), miss_distance=15008332.361522859, relative_velocity=11.8427917481), CloseApproach(asteroid=Asteroid(id=2467336, name='467336 (2002 LT38)', estimated_diameter=450.8582061718, is_potentially_dangerous=True, CloseApproach_objects=[]), orbiting_body='Earth', approach_date=datetime.date(1922, 4, 26), miss_distance=14492708.506103298, relative_velocity=6.6698997834), CloseApproach(asteroid=Asteroid(id=2467336, name='467336 (2002 LT38)', estimated_diameter=450.8582061718, is_potentially_dangerous=True, CloseApproach_objects=[]), orbiting_body='Earth', approach_date=datetime.date(1922, 9, 11), miss_distance=48703858.95518551, relative_velocity=7.7520542189), CloseApproach(asteroid=Asteroid(id=2467336, name='467336 (2002 LT38)', estimated_diameter=450.8582061718, is_potentially_dangerous=True, CloseApproach_objects=[]), orbiting_body='Earth', approach_date=datetime.date(1925, 12, 2), miss_distance=60565941.77026628, relative_velocity=15.0465820776), CloseApproach(asteroid=Asteroid(id=2467336, name='467336 (2002 LT38)', estimated_diameter=450.8582061718, is_potentially_dangerous=True, CloseApproach_objects=[]), orbiting_body='Earth', approach_date=datetime.date(1926, 6, 23), miss_distance=54751932.9605558, relative_velocity=18.9672251189), CloseApproach(asteroid=Asteroid(id=2467336, name='467336 (2002 LT38)', estimated_diameter=450.8582061718, is_potentially_dangerous=True, CloseApproach_objects=[]), orbiting_body='Venus', approach_date=datetime.date(1928, 11, 30), miss_distance=18185854.89389484, relative_velocity=9.9705763772), CloseApproach(asteroid=Asteroid(id=2467336, name='467336 (2002 LT38)', estimated_diameter=450.8582061718, is_potentially_dangerous=True, CloseApproach_objects=[]), orbiting_body='Earth', approach_date=datetime.date(1929, 5, 11), miss_distance=15867430.966730325, relative_velocity=6.5628449195), CloseApproach(asteroid=Asteroid(id=2467336, name='467336 (2002 LT38)', estimated_diameter=450.8582061718, is_potentially_dangerous=True, CloseApproach_objects=[]), orbiting_body='Earth', approach_date=datetime.date(1929, 8, 24), miss_distance=43451595.78716473, relative_velocity=4.6692487), CloseApproach(asteroid=Asteroid(id=2467336, name='467336 (2002 LT38)', estimated_diameter=450.8582061718, is_potentially_dangerous=True, CloseApproach_objects=[]), orbiting_body='Venus', approach_date=datetime.date(1932, 2, 11), miss_distance=22220374.091642063, relative_velocity=11.5277772878), CloseApproach(asteroid=Asteroid(id=2467336, name='467336 (2002 LT38)', estimated_diameter=450.8582061718, is_potentially_dangerous=True, CloseApproach_objects=[]), orbiting_body='Earth', approach_date=datetime.date(1932, 4, 25), miss_distance=74653976.0402704, relative_velocity=22.8674146872), CloseApproach(asteroid=Asteroid(id=2467336, name='467336 (2002 LT38)', estimated_diameter=450.8582061718, is_potentially_dangerous=True, CloseApproach_objects=[]), orbiting_body='Earth', approach_date=datetime.date(1932, 11, 23), miss_distance=61066966.93802445, relative_velocity=15.1440928641), CloseApproach(asteroid=Asteroid(id=2467336, name='467336 (2002 LT38)', estimated_diameter=450.8582061718, is_potentially_dangerous=True, CloseApproach_objects=[]), orbiting_body='Earth', approach_date=datetime.date(1933, 6, 20), miss_distance=65019371.25157741, relative_velocity=21.166709863), CloseApproach(asteroid=Asteroid(id=2467336, name='467336 (2002 LT38)', estimated_diameter=450.8582061718, is_potentially_dangerous=True, CloseApproach_objects=[]), orbiting_body='Venus', approach_date=datetime.date(1935, 4, 15), miss_distance=16080064.75657414, relative_velocity=10.4751674526), CloseApproach(asteroid=Asteroid(id=2467336, name='467336 (2002 LT38)', estimated_diameter=450.8582061718, is_potentially_dangerous=True, CloseApproach_objects=[]), orbiting_body='Earth', approach_date=datetime.date(1936, 5, 27), miss_distance=15206538.887904515, relative_velocity=6.5749761699), CloseApproach(asteroid=Asteroid(id=2467336, name='467336 (2002 LT38)', estimated_diameter=450.8582061718, is_potentially_dangerous=True, CloseApproach_objects=[]), orbiting_body='Earth', approach_date=datetime.date(1939, 4, 23), miss_distance=64530201.04182632, relative_velocity=20.6865934139), CloseApproach(asteroid=Asteroid(id=2467336, name='467336 (2002 LT38)', estimated_diameter=450.8582061718, is_potentially_dangerous=True, CloseApproach_objects=[]), orbiting_body='Earth', approach_date=datetime.date(1939, 11, 16), miss_distance=61184211.94986996, relative_velocity=15.0410836706), CloseApproach(asteroid=Asteroid(id=2467336, name='467336 (2002 LT38)', estimated_diameter=450.8582061718, is_potentially_dangerous=True, CloseApproach_objects=[]), orbiting_body='Earth', approach_date=datetime.date(1943, 2, 7), miss_distance=44473021.21601518, relative_velocity=7.4104421638), CloseApproach(asteroid=Asteroid(id=2467336, name='467336 (2002 LT38)', estimated_diameter=450.8582061718, is_potentially_dangerous=True, CloseApproach_objects=[]), orbiting_body='Earth', approach_date=datetime.date(1943, 6, 12), miss_distance=12107053.500986341, relative_velocity=6.5853618168), CloseApproach(asteroid=Asteroid(id=2467336, name='467336 (2002 LT38)', estimated_diameter=450.8582061718, is_potentially_dangerous=True, CloseApproach_objects=[]), orbiting_body='Venus', approach_date=datetime.date(1943, 8, 31), miss_distance=21204803.070715554, relative_velocity=14.1119701098), CloseApproach(asteroid=Asteroid(id=2467336, name='467336 (2002 LT38)', estimated_diameter=450.8582061718, is_potentially_dangerous=True, CloseApproach_objects=[]), orbiting_body='Earth', approach_date=datetime.date(1946, 4, 20), miss_distance=55387587.609436445, relative_velocity=18.6605134727), CloseApproach(asteroid=Asteroid(id=2467336, name='467336 (2002 LT38)', estimated_diameter=450.8582061718, is_potentially_dangerous=True, CloseApproach_objects=[]), orbiting_body='Venus', approach_date=datetime.date(1946, 11, 3), miss_distance=22237067.22428239, relative_velocity=10.5354954614), CloseApproach(asteroid=Asteroid(id=2467336, name='467336 (2002 LT38)', estimated_diameter=450.8582061718, is_potentially_dangerous=True, CloseApproach_objects=[]), orbiting_body='Earth', approach_date=datetime.date(1946, 11, 8), miss_distance=60942854.45643914, relative_velocity=14.7743792405), CloseApproach(asteroid=Asteroid(id=2467336, name='467336 (2002 LT38)', estimated_diameter=450.8582061718, is_potentially_dangerous=True, CloseApproach_objects=[]), orbiting_body='Venus', approach_date=datetime.date(1950, 1, 6), miss_distance=18772946.63342247, relative_velocity=11.0798499476), CloseApproach(asteroid=Asteroid(id=2467336, name='467336 (2002 LT38)', estimated_diameter=450.8582061718, is_potentially_dangerous=True, CloseApproach_objects=[]), orbiting_body='Earth', approach_date=datetime.date(1950, 1, 26), miss_distance=48247697.36585206, relative_velocity=9.279152008), CloseApproach(asteroid=Asteroid(id=2467336, name='467336 (2002 LT38)', estimated_diameter=450.8582061718, is_potentially_dangerous=True, CloseApproach_objects=[]), orbiting_body='Earth', approach_date=datetime.date(1950, 6, 22), miss_distance=7378139.377512559, relative_velocity=6.9864422144), CloseApproach(asteroid=Asteroid(id=2467336, name='467336 (2002 LT38)', estimated_diameter=450.8582061718, is_potentially_dangerous=True, CloseApproach_objects=[]), orbiting_body='Venus', approach_date=datetime.date(1953, 3, 6), miss_distance=19819644.39340116, relative_velocity=14.8756117454), CloseApproach(asteroid=Asteroid(id=2467336, name='467336 (2002 LT38)', estimated_diameter=450.8582061718, is_potentially_dangerous=True, CloseApproach_objects=[]), orbiting_body='Earth', approach_date=datetime.date(1953, 4, 18), miss_distance=47720277.35934811, relative_velocity=16.9979594357), CloseApproach(asteroid=Asteroid(id=2467336, name='467336 (2002 LT38)', estimated_diameter=450.8582061718, is_potentially_dangerous=True, CloseApproach_objects=[]), orbiting_body='Earth', approach_date=datetime.date(1953, 11, 2), miss_distance=60490916.25433238, relative_velocity=14.3781288621), CloseApproach(asteroid=Asteroid(id=2467336, name='467336 (2002 LT38)', estimated_diameter=450.8582061718, is_potentially_dangerous=True, CloseApproach_objects=[]), orbiting_body='Earth', approach_date=datetime.date(1957, 1, 20), miss_distance=50296190.27730044, relative_velocity=10.2784461763), CloseApproach(asteroid=Asteroid(id=2467336, name='467336 (2002 LT38)', estimated_diameter=450.8582061718, is_potentially_dangerous=True, CloseApproach_objects=[]), orbiting_body='Earth', approach_date=datetime.date(1957, 6, 27), miss_distance=5026241.116801316, relative_velocity=7.6669016784), CloseApproach(asteroid=Asteroid(id=2467336, name='467336 (2002 LT38)', estimated_diameter=450.8582061718, is_potentially_dangerous=True, CloseApproach_objects=[]), orbiting_body='Earth', approach_date=datetime.date(1960, 4, 16), miss_distance=42379722.77011565, relative_velocity=15.7924501279), CloseApproach(asteroid=Asteroid(id=2467336, name='467336 (2002 LT38)', estimated_diameter=450.8582061718, is_potentially_dangerous=True, CloseApproach_objects=[]), orbiting_body='Earth', approach_date=datetime.date(1960, 10, 28), miss_distance=60050314.50401528, relative_velocity=14.0569625388), CloseApproach(asteroid=Asteroid(id=2467336, name='467336 (2002 LT38)', estimated_diameter=450.8582061718, is_potentially_dangerous=True, CloseApproach_objects=[]), orbiting_body='Venus', approach_date=datetime.date(1961, 8, 5), miss_distance=21897090.835644227, relative_velocity=10.0885188261), CloseApproach(asteroid=Asteroid(id=2467336, name='467336 (2002 LT38)', estimated_diameter=450.8582061718, is_potentially_dangerous=True, CloseApproach_objects=[]), orbiting_body='Earth', approach_date=datetime.date(1964, 1, 14), miss_distance=52121634.604632616, relative_velocity=11.1109039022), CloseApproach(asteroid=Asteroid(id=2467336, name='467336 (2002 LT38)', estimated_diameter=450.8582061718, is_potentially_dangerous=True, CloseApproach_objects=[]), orbiting_body='Earth', approach_date=datetime.date(1964, 6, 29), miss_distance=6498202.163008769, relative_velocity=8.5888054715), CloseApproach(asteroid=Asteroid(id=2467336, name='467336 (2002 LT38)', estimated_diameter=450.8582061718, is_potentially_dangerous=True, CloseApproach_objects=[]), orbiting_body='Venus', approach_date=datetime.date(1964, 10, 10), miss_distance=19240413.782585435, relative_velocity=11.1790514738), CloseApproach(asteroid=Asteroid(id=2467336, name='467336 (2002 LT38)', estimated_diameter=450.8582061718, is_potentially_dangerous=True, CloseApproach_objects=[]), orbiting_body='Earth', approach_date=datetime.date(1967, 4, 15), miss_distance=34694602.42985042, relative_velocity=14.0796061717), CloseApproach(asteroid=Asteroid(id=2467336, name='467336 (2002 LT38)', estimated_diameter=450.8582061718, is_potentially_dangerous=True, CloseApproach_objects=[]), orbiting_body='Earth', approach_date=datetime.date(1967, 10, 22), miss_distance=59201215.30467457, relative_velocity=13.4529184573), CloseApproach(asteroid=Asteroid(id=2467336, name='467336 (2002 LT38)', estimated_diameter=450.8582061718, is_potentially_dangerous=True, CloseApproach_objects=[]), orbiting_body='Venus', approach_date=datetime.date(1967, 12, 9), miss_distance=17476642.269225206, relative_velocity=13.6982031246), CloseApproach(asteroid=Asteroid(id=2467336, name='467336 (2002 LT38)', estimated_diameter=450.8582061718, is_potentially_dangerous=True, CloseApproach_objects=[]), orbiting_body='Earth', approach_date=datetime.date(1971, 1, 5), miss_distance=54849668.19610484, relative_velocity=12.409240134), CloseApproach(asteroid=Asteroid(id=2467336, name='467336 (2002 LT38)', estimated_diameter=450.8582061718, is_potentially_dangerous=True, CloseApproach_objects=[]), orbiting_body='Earth', approach_date=datetime.date(1971, 7, 1), miss_distance=14907125.527883027, relative_velocity=10.536323444), CloseApproach(asteroid=Asteroid(id=2467336, name='467336 (2002 LT38)', estimated_diameter=450.8582061718, is_potentially_dangerous=True, CloseApproach_objects=[]), orbiting_body='Earth', approach_date=datetime.date(1974, 4, 13), miss_distance=25016988.20865306, relative_velocity=11.7402210292), CloseApproach(asteroid=Asteroid(id=2467336, name='467336 (2002 LT38)', estimated_diameter=450.8582061718, is_potentially_dangerous=True, CloseApproach_objects=[]), orbiting_body='Earth', approach_date=datetime.date(1974, 10, 12), miss_distance=57533722.06328788, relative_velocity=12.3964260172), CloseApproach(asteroid=Asteroid(id=2467336, name='467336 (2002 LT38)', estimated_diameter=450.8582061718, is_potentially_dangerous=True, CloseApproach_objects=[]), orbiting_body='Venus', approach_date=datetime.date(1976, 4, 20), miss_distance=19304920.324290287, relative_velocity=8.5361568904), CloseApproach(asteroid=Asteroid(id=2467336, name='467336 (2002 LT38)', estimated_diameter=450.8582061718, is_potentially_dangerous=True, CloseApproach_objects=[]), orbiting_body='Earth', approach_date=datetime.date(1977, 12, 25), miss_distance=57236251.82999982, relative_velocity=13.5573055247), CloseApproach(asteroid=Asteroid(id=2467336, name='467336 (2002 LT38)', estimated_diameter=450.8582061718, is_potentially_dangerous=True, CloseApproach_objects=[]), orbiting_body='Earth', approach_date=datetime.date(1978, 6, 29), miss_distance=26235812.799140565, relative_velocity=12.9684455665), CloseApproach(asteroid=Asteroid(id=2467336, name='467336 (2002 LT38)', estimated_diameter=450.8582061718, is_potentially_dangerous=True, CloseApproach_objects=[]), orbiting_body='Venus', approach_date=datetime.date(1979, 7, 1), miss_distance=21843437.335171923, relative_velocity=11.6583799699), CloseApproach(asteroid=Asteroid(id=2467336, name='467336 (2002 LT38)', estimated_diameter=450.8582061718, is_potentially_dangerous=True, CloseApproach_objects=[]), orbiting_body='Earth', approach_date=datetime.date(1981, 4, 13), miss_distance=16311199.509478088, relative_velocity=9.234823838), CloseApproach(asteroid=Asteroid(id=2467336, name='467336 (2002 LT38)', estimated_diameter=450.8582061718, is_potentially_dangerous=True, CloseApproach_objects=[]), orbiting_body='Earth', approach_date=datetime.date(1981, 10, 1), miss_distance=54848613.00752879, relative_velocity=10.9004382768), CloseApproach(asteroid=Asteroid(id=2467336, name='467336 (2002 LT38)', estimated_diameter=450.8582061718, is_potentially_dangerous=True, CloseApproach_objects=[]), orbiting_body='Venus', approach_date=datetime.date(1982, 9, 1), miss_distance=15223315.092242055, relative_velocity=10.5031909314), CloseApproach(asteroid=Asteroid(id=2467336, name='467336 (2002 LT38)', estimated_diameter=450.8582061718, is_potentially_dangerous=True, CloseApproach_objects=[]), orbiting_body='Earth', approach_date=datetime.date(1984, 12, 16), miss_distance=58963449.566343725, relative_velocity=14.3565214872), CloseApproach(asteroid=Asteroid(id=2467336, name='467336 (2002 LT38)', estimated_diameter=450.8582061718, is_potentially_dangerous=True, CloseApproach_objects=[]), orbiting_body='Earth', approach_date=datetime.date(1985, 6, 27), miss_distance=37560096.791732736, relative_velocity=15.3346855685), CloseApproach(asteroid=Asteroid(id=2467336, name='467336 (2002 LT38)', estimated_diameter=450.8582061718, is_potentially_dangerous=True, CloseApproach_objects=[]), orbiting_body='Earth', approach_date=datetime.date(1988, 4, 17), miss_distance=13360691.924348552, relative_velocity=7.3377213044), CloseApproach(asteroid=Asteroid(id=2467336, name='467336 (2002 LT38)', estimated_diameter=450.8582061718, is_potentially_dangerous=True, CloseApproach_objects=[]), orbiting_body='Earth', approach_date=datetime.date(1988, 9, 20), miss_distance=51607621.57419785, relative_velocity=9.2352362672), CloseApproach(asteroid=Asteroid(id=2467336, name='467336 (2002 LT38)', estimated_diameter=450.8582061718, is_potentially_dangerous=True, CloseApproach_objects=[]), orbiting_body='Venus', approach_date=datetime.date(1991, 1, 14), miss_distance=19424189.380357116, relative_velocity=12.9058416637), CloseApproach(asteroid=Asteroid(id=2467336, name='467336 (2002 LT38)', estimated_diameter=450.8582061718, is_potentially_dangerous=True, CloseApproach_objects=[]), orbiting_body='Earth', approach_date=datetime.date(1991, 12, 8), miss_distance=60071254.34619024, relative_velocity=14.8271270534), CloseApproach(asteroid=Asteroid(id=2467336, name='467336 (2002 LT38)', estimated_diameter=450.8582061718, is_potentially_dangerous=True, CloseApproach_objects=[]), orbiting_body='Earth', approach_date=datetime.date(1992, 6, 24), miss_distance=47743204.339949846, relative_velocity=17.5038585153), CloseApproach(asteroid=Asteroid(id=2467336, name='467336 (2002 LT38)', estimated_diameter=450.8582061718, is_potentially_dangerous=True, CloseApproach_objects=[]), orbiting_body='Venus', approach_date=datetime.date(1994, 3, 21), miss_distance=22343723.220176123, relative_velocity=10.8681260397), CloseApproach(asteroid=Asteroid(id=2467336, name='467336 (2002 LT38)', estimated_diameter=450.8582061718, is_potentially_dangerous=True, CloseApproach_objects=[]), orbiting_body='Earth', approach_date=datetime.date(1995, 5, 1), miss_distance=14849176.100176865, relative_velocity=6.5867281993), CloseApproach(asteroid=Asteroid(id=2467336, name='467336 (2002 LT38)', estimated_diameter=450.8582061718, is_potentially_dangerous=True, CloseApproach_objects=[]), orbiting_body='Earth', approach_date=datetime.date(1995, 9, 7), miss_distance=47299125.14226524, relative_velocity=7.0592895694), CloseApproach(asteroid=Asteroid(id=2467336, name='467336 (2002 LT38)', estimated_diameter=450.8582061718, is_potentially_dangerous=True, CloseApproach_objects=[]), orbiting_body='Venus', approach_date=datetime.date(1997, 5, 22), miss_distance=18540353.6752807, relative_velocity=10.9821956959), CloseApproach(asteroid=Asteroid(id=2467336, name='467336 (2002 LT38)', estimated_diameter=450.8582061718, is_potentially_dangerous=True, CloseApproach_objects=[]), orbiting_body='Earth', approach_date=datetime.date(1998, 11, 29), miss_distance=60846008.66998597, relative_velocity=15.1243315582), CloseApproach(asteroid=Asteroid(id=2467336, name='467336 (2002 LT38)', estimated_diameter=450.8582061718, is_potentially_dangerous=True, CloseApproach_objects=[]), orbiting_body='Earth', approach_date=datetime.date(1999, 6, 22), miss_distance=58499254.04779873, relative_velocity=19.7651127326), CloseApproach(asteroid=Asteroid(id=2467336, name='467336 (2002 LT38)', estimated_diameter=450.8582061718, is_potentially_dangerous=True, CloseApproach_objects=[]), orbiting_body='Venus', approach_date=datetime.date(2000, 7, 19), miss_distance=19302128.229644608, relative_velocity=14.6042442609), CloseApproach(asteroid=Asteroid(id=2467336, name='467336 (2002 LT38)', estimated_diameter=450.8582061718, is_potentially_dangerous=True, CloseApproach_objects=[]), orbiting_body='Earth', approach_date=datetime.date(2002, 5, 17), miss_distance=15858192.909303362, relative_velocity=6.5784809564), CloseApproach(asteroid=Asteroid(id=2467336, name='467336 (2002 LT38)', estimated_diameter=450.8582061718, is_potentially_dangerous=True, CloseApproach_objects=[]), orbiting_body='Earth', approach_date=datetime.date(2005, 4, 25), miss_distance=70868723.06670815, relative_velocity=22.0740263448), CloseApproach(asteroid=Asteroid(id=2467336, name='467336 (2002 LT38)', estimated_diameter=450.8582061718, is_potentially_dangerous=True, CloseApproach_objects=[]), orbiting_body='Earth', approach_date=datetime.date(2005, 11, 21), miss_distance=61188168.28993892, relative_velocity=15.1586123185), CloseApproach(asteroid=Asteroid(id=2467336, name='467336 (2002 LT38)', estimated_diameter=450.8582061718, is_potentially_dangerous=True, CloseApproach_objects=[]), orbiting_body='Earth', approach_date=datetime.date(2006, 6, 19), miss_distance=68544414.84196526, relative_velocity=21.9275710917), CloseApproach(asteroid=Asteroid(id=2467336, name='467336 (2002 LT38)', estimated_diameter=450.8582061718, is_potentially_dangerous=True, CloseApproach_objects=[]), orbiting_body='Venus', approach_date=datetime.date(2008, 12, 5), miss_distance=20463727.850031, relative_velocity=8.7974446126), CloseApproach(asteroid=Asteroid(id=2467336, name='467336 (2002 LT38)', estimated_diameter=450.8582061718, is_potentially_dangerous=True, CloseApproach_objects=[]), orbiting_body='Earth', approach_date=datetime.date(2009, 2, 17), miss_distance=41211375.29844631, relative_velocity=5.5358634016), CloseApproach(asteroid=Asteroid(id=2467336, name='467336 (2002 LT38)', estimated_diameter=450.8582061718, is_potentially_dangerous=True, CloseApproach_objects=[]), orbiting_body='Earth', approach_date=datetime.date(2009, 6, 2), miss_distance=14327134.286697285, relative_velocity=6.5647353917), CloseApproach(asteroid=Asteroid(id=2467336, name='467336 (2002 LT38)', estimated_diameter=450.8582061718, is_potentially_dangerous=True, CloseApproach_objects=[]), orbiting_body='Venus', approach_date=datetime.date(2012, 2, 12), miss_distance=21137926.898749903, relative_velocity=11.6278110192), CloseApproach(asteroid=Asteroid(id=2467336, name='467336 (2002 LT38)', estimated_diameter=450.8582061718, is_potentially_dangerous=True, CloseApproach_objects=[]), orbiting_body='Earth', approach_date=datetime.date(2012, 4, 21), miss_distance=60934188.7604628, relative_velocity=19.924792819), CloseApproach(asteroid=Asteroid(id=2467336, name='467336 (2002 LT38)', estimated_diameter=450.8582061718, is_potentially_dangerous=True, CloseApproach_objects=[]), orbiting_body='Earth', approach_date=datetime.date(2012, 11, 13), miss_distance=61167169.416444466, relative_velocity=14.9594723361), CloseApproach(asteroid=Asteroid(id=2467336, name='467336 (2002 LT38)', estimated_diameter=450.8582061718, is_potentially_dangerous=True, CloseApproach_objects=[]), orbiting_body='Venus', approach_date=datetime.date(2015, 4, 16), miss_distance=14797163.53874059, relative_velocity=11.3258255951), CloseApproach(asteroid=Asteroid(id=2467336, name='467336 (2002 LT38)', estimated_diameter=450.8582061718, is_potentially_dangerous=True, CloseApproach_objects=[]), orbiting_body='Earth', approach_date=datetime.date(2016, 2, 2), miss_distance=46173938.01743152, relative_velocity=8.2335860662), CloseApproach(asteroid=Asteroid(id=2467336, name='467336 (2002 LT38)', estimated_diameter=450.8582061718, is_potentially_dangerous=True, CloseApproach_objects=[]), orbiting_body='Earth', approach_date=datetime.date(2016, 6, 16), miss_distance=10423922.569851743, relative_velocity=6.6615669041), CloseApproach(asteroid=Asteroid(id=2467336, name='467336 (2002 LT38)', estimated_diameter=450.8582061718, is_potentially_dangerous=True, CloseApproach_objects=[]), orbiting_body='Earth', approach_date=datetime.date(2019, 4, 20), miss_distance=52495024.64992144, relative_velocity=18.0618617406), CloseApproach(asteroid=Asteroid(id=2467336, name='467336 (2002 LT38)', estimated_diameter=450.8582061718, is_potentially_dangerous=True, CloseApproach_objects=[]), orbiting_body='Earth', approach_date=datetime.date(2019, 11, 7), miss_distance=60826740.97296273, relative_velocity=14.6617014885), CloseApproach(asteroid=Asteroid(id=2467336, name='467336 (2002 LT38)', estimated_diameter=450.8582061718, is_potentially_dangerous=True, CloseApproach_objects=[]), orbiting_body='Earth', approach_date=datetime.date(2023, 1, 25), miss_distance=48994733.7325408, relative_velocity=9.5906531661), CloseApproach(asteroid=Asteroid(id=2467336, name='467336 (2002 LT38)', estimated_diameter=450.8582061718, is_potentially_dangerous=True, CloseApproach_objects=[]), orbiting_body='Earth', approach_date=datetime.date(2023, 6, 24), miss_distance=6657788.787507178, relative_velocity=7.148507648), CloseApproach(asteroid=Asteroid(id=2467336, name='467336 (2002 LT38)', estimated_diameter=450.8582061718, is_potentially_dangerous=True, CloseApproach_objects=[]), orbiting_body='Venus', approach_date=datetime.date(2023, 8, 28), miss_distance=18244958.48412784, relative_velocity=9.5540762858), CloseApproach(asteroid=Asteroid(id=2467336, name='467336 (2002 LT38)', estimated_diameter=450.8582061718, is_potentially_dangerous=True, CloseApproach_objects=[]), orbiting_body='Earth', approach_date=datetime.date(2026, 4, 18), miss_distance=46386928.17932125, relative_velocity=16.7314281058), CloseApproach(asteroid=Asteroid(id=2467336, name='467336 (2002 LT38)', estimated_diameter=450.8582061718, is_potentially_dangerous=True, CloseApproach_objects=[]), orbiting_body='Earth', approach_date=datetime.date(2026, 11, 1), miss_distance=60408559.799497634, relative_velocity=14.3288987008), CloseApproach(asteroid=Asteroid(id=2467336, name='467336 (2002 LT38)', estimated_diameter=450.8582061718, is_potentially_dangerous=True, CloseApproach_objects=[]), orbiting_body='Venus', approach_date=datetime.date(2026, 11, 12), miss_distance=21734927.34295571, relative_velocity=11.6162199727), CloseApproach(asteroid=Asteroid(id=2467336, name='467336 (2002 LT38)', estimated_diameter=450.8582061718, is_potentially_dangerous=True, CloseApproach_objects=[]), orbiting_body='Venus', approach_date=datetime.date(2030, 1, 18), miss_distance=14727279.701598588, relative_velocity=10.8792683549), CloseApproach(asteroid=Asteroid(id=2467336, name='467336 (2002 LT38)', estimated_diameter=450.8582061718, is_potentially_dangerous=True, CloseApproach_objects=[]), orbiting_body='Earth', approach_date=datetime.date(2030, 1, 19), miss_distance=50725707.49864095, relative_velocity=10.4529869143), CloseApproach(asteroid=Asteroid(id=2467336, name='467336 (2002 LT38)', estimated_diameter=450.8582061718, is_potentially_dangerous=True, CloseApproach_objects=[]), orbiting_body='Earth', approach_date=datetime.date(2030, 6, 27), miss_distance=5155917.188051286, relative_velocity=7.8068364023), CloseApproach(asteroid=Asteroid(id=2467336, name='467336 (2002 LT38)', estimated_diameter=450.8582061718, is_potentially_dangerous=True, CloseApproach_objects=[]), orbiting_body='Earth', approach_date=datetime.date(2033, 4, 16), miss_distance=41094592.33458208, relative_velocity=15.5483157909), CloseApproach(asteroid=Asteroid(id=2467336, name='467336 (2002 LT38)', estimated_diameter=450.8582061718, is_potentially_dangerous=True, CloseApproach_objects=[]), orbiting_body='Earth', approach_date=datetime.date(2033, 10, 28), miss_distance=59975119.05986085, relative_velocity=13.99039365), CloseApproach(asteroid=Asteroid(id=2467336, name='467336 (2002 LT38)', estimated_diameter=450.8582061718, is_potentially_dangerous=True, CloseApproach_objects=[]), orbiting_body='Earth', approach_date=datetime.date(2037, 1, 13), miss_distance=52489845.00319013, relative_velocity=11.2536591197), CloseApproach(asteroid=Asteroid(id=2467336, name='467336 (2002 LT38)', estimated_diameter=450.8582061718, is_potentially_dangerous=True, CloseApproach_objects=[]), orbiting_body='Earth', approach_date=datetime.date(2037, 6, 29), miss_distance=7230984.081694771, relative_velocity=8.7424742793), CloseApproach(asteroid=Asteroid(id=2467336, name='467336 (2002 LT38)', estimated_diameter=450.8582061718, is_potentially_dangerous=True, CloseApproach_objects=[]), orbiting_body='Venus', approach_date=datetime.date(2038, 6, 3), miss_distance=18061992.136033922, relative_velocity=9.7549693405), CloseApproach(asteroid=Asteroid(id=2467336, name='467336 (2002 LT38)', estimated_diameter=450.8582061718, is_potentially_dangerous=True, CloseApproach_objects=[]), orbiting_body='Earth', approach_date=datetime.date(2040, 4, 14), miss_distance=33656773.37015767, relative_velocity=13.880794122), CloseApproach(asteroid=Asteroid(id=2467336, name='467336 (2002 LT38)', estimated_diameter=450.8582061718, is_potentially_dangerous=True, CloseApproach_objects=[]), orbiting_body='Earth', approach_date=datetime.date(2040, 10, 21), miss_distance=59099445.549209714, relative_velocity=13.4007940082), CloseApproach(asteroid=Asteroid(id=2467336, name='467336 (2002 LT38)', estimated_diameter=450.8582061718, is_potentially_dangerous=True, CloseApproach_objects=[]), orbiting_body='Venus', approach_date=datetime.date(2041, 8, 13), miss_distance=22183943.599465627, relative_velocity=11.5410703784), CloseApproach(asteroid=Asteroid(id=2467336, name='467336 (2002 LT38)', estimated_diameter=450.8582061718, is_potentially_dangerous=True, CloseApproach_objects=[]), orbiting_body='Earth', approach_date=datetime.date(2044, 1, 4), miss_distance=55233971.89968313, relative_velocity=12.5510116563), CloseApproach(asteroid=Asteroid(id=2467336, name='467336 (2002 LT38)', estimated_diameter=450.8582061718, is_potentially_dangerous=True, CloseApproach_objects=[]), orbiting_body='Earth', approach_date=datetime.date(2044, 6, 30), miss_distance=16275969.345731173, relative_velocity=10.814747614), CloseApproach(asteroid=Asteroid(id=2467336, name='467336 (2002 LT38)', estimated_diameter=450.8582061718, is_potentially_dangerous=True, CloseApproach_objects=[]), orbiting_body='Venus', approach_date=datetime.date(2044, 10, 15), miss_distance=16140397.353148336, relative_velocity=10.4010396965), CloseApproach(asteroid=Asteroid(id=2467336, name='467336 (2002 LT38)', estimated_diameter=450.8582061718, is_potentially_dangerous=True, CloseApproach_objects=[]), orbiting_body='Earth', approach_date=datetime.date(2047, 4, 13), miss_distance=23302796.152092066, relative_velocity=11.3585310827), CloseApproach(asteroid=Asteroid(id=2467336, name='467336 (2002 LT38)', estimated_diameter=450.8582061718, is_potentially_dangerous=True, CloseApproach_objects=[]), orbiting_body='Earth', approach_date=datetime.date(2047, 10, 11), miss_distance=57204559.76059691, relative_velocity=12.2292242354), CloseApproach(asteroid=Asteroid(id=2467336, name='467336 (2002 LT38)', estimated_diameter=450.8582061718, is_potentially_dangerous=True, CloseApproach_objects=[]), orbiting_body='Earth', approach_date=datetime.date(2050, 12, 24), miss_distance=57553907.363726124, relative_velocity=13.6840001945), CloseApproach(asteroid=Asteroid(id=2467336, name='467336 (2002 LT38)', estimated_diameter=450.8582061718, is_potentially_dangerous=True, CloseApproach_objects=[]), orbiting_body='Earth', approach_date=datetime.date(2051, 6, 29), miss_distance=27655006.098904196, relative_velocity=13.2599686133), CloseApproach(asteroid=Asteroid(id=2467336, name='467336 (2002 LT38)', estimated_diameter=450.8582061718, is_potentially_dangerous=True, CloseApproach_objects=[]), orbiting_body='Venus', approach_date=datetime.date(2053, 3, 1), miss_distance=22281018.569855634, relative_velocity=14.8698897897), CloseApproach(asteroid=Asteroid(id=2467336, name='467336 (2002 LT38)', estimated_diameter=450.8582061718, is_potentially_dangerous=True, CloseApproach_objects=[]), orbiting_body='Earth', approach_date=datetime.date(2054, 4, 13), miss_distance=15306243.325095724, relative_velocity=8.9653640536), CloseApproach(asteroid=Asteroid(id=2467336, name='467336 (2002 LT38)', estimated_diameter=450.8582061718, is_potentially_dangerous=True, CloseApproach_objects=[]), orbiting_body='Earth', approach_date=datetime.date(2054, 9, 30), miss_distance=54506191.44170548, relative_velocity=10.7257132891), CloseApproach(asteroid=Asteroid(id=2467336, name='467336 (2002 LT38)', estimated_diameter=450.8582061718, is_potentially_dangerous=True, CloseApproach_objects=[]), orbiting_body='Venus', approach_date=datetime.date(2056, 4, 30), miss_distance=21726517.653814297, relative_velocity=10.0085496133), CloseApproach(asteroid=Asteroid(id=2467336, name='467336 (2002 LT38)', estimated_diameter=450.8582061718, is_potentially_dangerous=True, CloseApproach_objects=[]), orbiting_body='Earth', approach_date=datetime.date(2057, 12, 15), miss_distance=59202173.32943405, relative_velocity=14.4549234289), CloseApproach(asteroid=Asteroid(id=2467336, name='467336 (2002 LT38)', estimated_diameter=450.8582061718, is_potentially_dangerous=True, CloseApproach_objects=[]), orbiting_body='Earth', approach_date=datetime.date(2058, 6, 27), miss_distance=38945495.0799555, relative_velocity=15.6316264168), CloseApproach(asteroid=Asteroid(id=2467336, name='467336 (2002 LT38)', estimated_diameter=450.8582061718, is_potentially_dangerous=True, CloseApproach_objects=[]), orbiting_body='Venus', approach_date=datetime.date(2059, 7, 4), miss_distance=20076273.45075285, relative_velocity=11.3886695466), CloseApproach(asteroid=Asteroid(id=2467336, name='467336 (2002 LT38)', estimated_diameter=450.8582061718, is_potentially_dangerous=True, CloseApproach_objects=[]), orbiting_body='Earth', approach_date=datetime.date(2061, 4, 19), miss_distance=13171463.125180485, relative_velocity=7.1181709217), CloseApproach(asteroid=Asteroid(id=2467336, name='467336 (2002 LT38)', estimated_diameter=450.8582061718, is_potentially_dangerous=True, CloseApproach_objects=[]), orbiting_body='Earth', approach_date=datetime.date(2061, 9, 18), miss_distance=50975243.028911486, relative_velocity=8.9176984987), CloseApproach(asteroid=Asteroid(id=2467336, name='467336 (2002 LT38)', estimated_diameter=450.8582061718, is_potentially_dangerous=True, CloseApproach_objects=[]), orbiting_body='Venus', approach_date=datetime.date(2062, 9, 3), miss_distance=15993459.019121408, relative_velocity=12.6551857133), CloseApproach(asteroid=Asteroid(id=2467336, name='467336 (2002 LT38)', estimated_diameter=450.8582061718, is_potentially_dangerous=True, CloseApproach_objects=[]), orbiting_body='Earth', approach_date=datetime.date(2064, 12, 6), miss_distance=60272802.769309394, relative_velocity=14.898677395), CloseApproach(asteroid=Asteroid(id=2467336, name='467336 (2002 LT38)', estimated_diameter=450.8582061718, is_potentially_dangerous=True, CloseApproach_objects=[]), orbiting_body='Earth', approach_date=datetime.date(2065, 6, 24), miss_distance=49327167.17217676, relative_velocity=17.8429135975), CloseApproach(asteroid=Asteroid(id=2467336, name='467336 (2002 LT38)', estimated_diameter=450.8582061718, is_potentially_dangerous=True, CloseApproach_objects=[]), orbiting_body='Earth', approach_date=datetime.date(2068, 5, 2), miss_distance=14880960.486425351, relative_velocity=6.5750025962), CloseApproach(asteroid=Asteroid(id=2467336, name='467336 (2002 LT38)', estimated_diameter=450.8582061718, is_potentially_dangerous=True, CloseApproach_objects=[]), orbiting_body='Earth', approach_date=datetime.date(2068, 9, 5), miss_distance=46753592.917726144, relative_velocity=6.7840196336), CloseApproach(asteroid=Asteroid(id=2467336, name='467336 (2002 LT38)', estimated_diameter=450.8582061718, is_potentially_dangerous=True, CloseApproach_objects=[]), orbiting_body='Venus', approach_date=datetime.date(2071, 1, 13), miss_distance=18693583.93116217, relative_velocity=8.9260643571), CloseApproach(asteroid=Asteroid(id=2467336, name='467336 (2002 LT38)', estimated_diameter=450.8582061718, is_potentially_dangerous=True, CloseApproach_objects=[]), orbiting_body='Earth', approach_date=datetime.date(2071, 11, 29), miss_distance=60929473.00176658, relative_velocity=15.1383126353), CloseApproach(asteroid=Asteroid(id=2467336, name='467336 (2002 LT38)', estimated_diameter=450.8582061718, is_potentially_dangerous=True, CloseApproach_objects=[]), orbiting_body='Earth', approach_date=datetime.date(2072, 6, 21), miss_distance=59176005.68497344, relative_velocity=19.9168228188), CloseApproach(asteroid=Asteroid(id=2467336, name='467336 (2002 LT38)', estimated_diameter=450.8582061718, is_potentially_dangerous=True, CloseApproach_objects=[]), orbiting_body='Venus', approach_date=datetime.date(2074, 3, 26), miss_distance=21882000.105628617, relative_velocity=11.6391597761), CloseApproach(asteroid=Asteroid(id=2467336, name='467336 (2002 LT38)', estimated_diameter=450.8582061718, is_potentially_dangerous=True, CloseApproach_objects=[]), orbiting_body='Earth', approach_date=datetime.date(2075, 5, 19), miss_distance=15732079.316850211, relative_velocity=6.5851163009), CloseApproach(asteroid=Asteroid(id=2467336, name='467336 (2002 LT38)', estimated_diameter=450.8582061718, is_potentially_dangerous=True, CloseApproach_objects=[]), orbiting_body='Venus', approach_date=datetime.date(2077, 5, 28), miss_distance=15406676.453511706, relative_velocity=10.4457427922), CloseApproach(asteroid=Asteroid(id=2467336, name='467336 (2002 LT38)', estimated_diameter=450.8582061718, is_potentially_dangerous=True, CloseApproach_objects=[]), orbiting_body='Earth', approach_date=datetime.date(2078, 4, 25), miss_distance=69809367.77110961, relative_velocity=21.8809905643), CloseApproach(asteroid=Asteroid(id=2467336, name='467336 (2002 LT38)', estimated_diameter=450.8582061718, is_potentially_dangerous=True, CloseApproach_objects=[]), orbiting_body='Earth', approach_date=datetime.date(2078, 11, 20), miss_distance=61241231.013462804, relative_velocity=15.1702200545), CloseApproach(asteroid=Asteroid(id=2467336, name='467336 (2002 LT38)', estimated_diameter=450.8582061718, is_potentially_dangerous=True, CloseApproach_objects=[]), orbiting_body='Earth', approach_date=datetime.date(2079, 6, 19), miss_distance=69445126.24892256, relative_velocity=22.1162535274), CloseApproach(asteroid=Asteroid(id=2467336, name='467336 (2002 LT38)', estimated_diameter=450.8582061718, is_potentially_dangerous=True, CloseApproach_objects=[]), orbiting_body='Earth', approach_date=datetime.date(2082, 2, 16), miss_distance=41719233.1544395, relative_velocity=5.8338618707), CloseApproach(asteroid=Asteroid(id=2467336, name='467336 (2002 LT38)', estimated_diameter=450.8582061718, is_potentially_dangerous=True, CloseApproach_objects=[]), orbiting_body='Earth', approach_date=datetime.date(2082, 6, 3), miss_distance=14154143.917443682, relative_velocity=6.5754691126), CloseApproach(asteroid=Asteroid(id=2467336, name='467336 (2002 LT38)', estimated_diameter=450.8582061718, is_potentially_dangerous=True, CloseApproach_objects=[]), orbiting_body='Earth', approach_date=datetime.date(2085, 4, 21), miss_distance=60329332.70770649, relative_velocity=19.8185885779), CloseApproach(asteroid=Asteroid(id=2467336, name='467336 (2002 LT38)', estimated_diameter=450.8582061718, is_potentially_dangerous=True, CloseApproach_objects=[]), orbiting_body='Venus', approach_date=datetime.date(2085, 10, 11), miss_distance=19210795.349097747, relative_velocity=12.7659061002), CloseApproach(asteroid=Asteroid(id=2467336, name='467336 (2002 LT38)', estimated_diameter=450.8582061718, is_potentially_dangerous=True, CloseApproach_objects=[]), orbiting_body='Earth', approach_date=datetime.date(2085, 11, 13), miss_distance=61184972.16136594, relative_velocity=14.9650409638), CloseApproach(asteroid=Asteroid(id=2467336, name='467336 (2002 LT38)', estimated_diameter=450.8582061718, is_potentially_dangerous=True, CloseApproach_objects=[]), orbiting_body='Venus', approach_date=datetime.date(2088, 12, 17), miss_distance=22290577.320236515, relative_velocity=10.9628692049), CloseApproach(asteroid=Asteroid(id=2467336, name='467336 (2002 LT38)', estimated_diameter=450.8582061718, is_potentially_dangerous=True, CloseApproach_objects=[]), orbiting_body='Earth', approach_date=datetime.date(2089, 2, 1), miss_distance=46488342.66976444, relative_velocity=8.3532702791), CloseApproach(asteroid=Asteroid(id=2467336, name='467336 (2002 LT38)', estimated_diameter=450.8582061718, is_potentially_dangerous=True, CloseApproach_objects=[]), orbiting_body='Earth', approach_date=datetime.date(2089, 6, 16), miss_distance=10225303.332866332, relative_velocity=6.6842985292), CloseApproach(asteroid=Asteroid(id=2467336, name='467336 (2002 LT38)', estimated_diameter=450.8582061718, is_potentially_dangerous=True, CloseApproach_objects=[]), orbiting_body='Venus', approach_date=datetime.date(2092, 2, 19), miss_distance=18032772.575347014, relative_velocity=10.8023116765), CloseApproach(asteroid=Asteroid(id=2467336, name='467336 (2002 LT38)', estimated_diameter=450.8582061718, is_potentially_dangerous=True, CloseApproach_objects=[]), orbiting_body='Earth', approach_date=datetime.date(2092, 4, 19), miss_distance=51436392.66002435, relative_velocity=17.8634960796), CloseApproach(asteroid=Asteroid(id=2467336, name='467336 (2002 LT38)', estimated_diameter=450.8582061718, is_potentially_dangerous=True, CloseApproach_objects=[]), orbiting_body='Earth', approach_date=datetime.date(2092, 11, 5), miss_distance=60801384.58279134, relative_velocity=14.616792889), CloseApproach(asteroid=Asteroid(id=2467336, name='467336 (2002 LT38)', estimated_diameter=450.8582061718, is_potentially_dangerous=True, CloseApproach_objects=[]), orbiting_body='Venus', approach_date=datetime.date(2095, 4, 17), miss_distance=21926431.974520084, relative_velocity=15.7856109965), CloseApproach(asteroid=Asteroid(id=2467336, name='467336 (2002 LT38)', estimated_diameter=450.8582061718, is_potentially_dangerous=True, CloseApproach_objects=[]), orbiting_body='Earth', approach_date=datetime.date(2096, 1, 23), miss_distance=49602416.28745289, relative_velocity=9.8441215906), CloseApproach(asteroid=Asteroid(id=2467336, name='467336 (2002 LT38)', estimated_diameter=450.8582061718, is_potentially_dangerous=True, CloseApproach_objects=[]), orbiting_body='Earth', approach_date=datetime.date(2096, 6, 25), miss_distance=6160416.50053867, relative_velocity=7.3100164743), CloseApproach(asteroid=Asteroid(id=2467336, name='467336 (2002 LT38)', estimated_diameter=450.8582061718, is_potentially_dangerous=True, CloseApproach_objects=[]), orbiting_body='Earth', approach_date=datetime.date(2099, 4, 17), miss_distance=44651423.9015673, relative_velocity=16.3739941514), CloseApproach(asteroid=Asteroid(id=2467336, name='467336 (2002 LT38)', estimated_diameter=450.8582061718, is_potentially_dangerous=True, CloseApproach_objects=[]), orbiting_body='Earth', approach_date=datetime.date(2099, 10, 31), miss_distance=60306702.27496245, relative_velocity=14.2586550711), CloseApproach(asteroid=Asteroid(id=2467336, name='467336 (2002 LT38)', estimated_diameter=450.8582061718, is_potentially_dangerous=True, CloseApproach_objects=[]), orbiting_body='Venus', approach_date=datetime.date(2100, 7, 15), miss_distance=22263803.535126235, relative_velocity=14.8281054312), CloseApproach(asteroid=Asteroid(id=2467336, name='467336 (2002 LT38)', estimated_diameter=450.8582061718, is_potentially_dangerous=True, CloseApproach_objects=[]), orbiting_body='Earth', approach_date=datetime.date(2103, 1, 18), miss_distance=51467721.47587933, relative_velocity=10.7584863862), CloseApproach(asteroid=Asteroid(id=2467336, name='467336 (2002 LT38)', estimated_diameter=450.8582061718, is_potentially_dangerous=True, CloseApproach_objects=[]), orbiting_body='Earth', approach_date=datetime.date(2103, 6, 30), miss_distance=5655850.755111851, relative_velocity=8.1362264025), CloseApproach(asteroid=Asteroid(id=2467336, name='467336 (2002 LT38)', estimated_diameter=450.8582061718, is_potentially_dangerous=True, CloseApproach_objects=[]), orbiting_body='Venus', approach_date=datetime.date(2103, 9, 18), miss_distance=22026803.8426083, relative_velocity=10.4616980004), CloseApproach(asteroid=Asteroid(id=2467336, name='467336 (2002 LT38)', estimated_diameter=450.8582061718, is_potentially_dangerous=True, CloseApproach_objects=[]), orbiting_body='Earth', approach_date=datetime.date(2106, 4, 17), miss_distance=37323521.23909582, relative_velocity=14.7420345591), CloseApproach(asteroid=Asteroid(id=2467336, name='467336 (2002 LT38)', estimated_diameter=450.8582061718, is_potentially_dangerous=True, CloseApproach_objects=[]), orbiting_body='Earth', approach_date=datetime.date(2106, 10, 26), miss_distance=59621720.9597633, relative_velocity=13.7231448623), CloseApproach(asteroid=Asteroid(id=2467336, name='467336 (2002 LT38)', estimated_diameter=450.8582061718, is_potentially_dangerous=True, CloseApproach_objects=[]), orbiting_body='Venus', approach_date=datetime.date(2106, 11, 20), miss_distance=19291770.671517286, relative_velocity=11.1485331111), CloseApproach(asteroid=Asteroid(id=2467336, name='467336 (2002 LT38)', estimated_diameter=450.8582061718, is_potentially_dangerous=True, CloseApproach_objects=[]), orbiting_body='Earth', approach_date=datetime.date(2110, 1, 8), miss_distance=54175193.184195146, relative_velocity=12.0445183001), CloseApproach(asteroid=Asteroid(id=2467336, name='467336 (2002 LT38)', estimated_diameter=450.8582061718, is_potentially_dangerous=True, CloseApproach_objects=[]), orbiting_body='Venus', approach_date=datetime.date(2110, 1, 19), miss_distance=18089368.501364563, relative_velocity=13.9834383502), CloseApproach(asteroid=Asteroid(id=2467336, name='467336 (2002 LT38)', estimated_diameter=450.8582061718, is_potentially_dangerous=True, CloseApproach_objects=[]), orbiting_body='Earth', approach_date=datetime.date(2110, 7, 1), miss_distance=12044530.013686422, relative_velocity=9.8672516383), CloseApproach(asteroid=Asteroid(id=2467336, name='467336 (2002 LT38)', estimated_diameter=450.8582061718, is_potentially_dangerous=True, CloseApproach_objects=[]), orbiting_body='Earth', approach_date=datetime.date(2113, 4, 14), miss_distance=27598916.05304384, relative_velocity=12.4885792726), CloseApproach(asteroid=Asteroid(id=2467336, name='467336 (2002 LT38)', estimated_diameter=450.8582061718, is_potentially_dangerous=True, CloseApproach_objects=[]), orbiting_body='Earth', approach_date=datetime.date(2113, 10, 16), miss_distance=58169666.06436867, relative_velocity=12.8128576838), CloseApproach(asteroid=Asteroid(id=2467336, name='467336 (2002 LT38)', estimated_diameter=450.8582061718, is_potentially_dangerous=True, CloseApproach_objects=[]), orbiting_body='Earth', approach_date=datetime.date(2116, 12, 29), miss_distance=56665126.34202197, relative_velocity=13.2177926103), CloseApproach(asteroid=Asteroid(id=2467336, name='467336 (2002 LT38)', estimated_diameter=450.8582061718, is_potentially_dangerous=True, CloseApproach_objects=[]), orbiting_body='Earth', approach_date=datetime.date(2117, 7, 1), miss_distance=22531930.07141486, relative_velocity=12.1558570021), CloseApproach(asteroid=Asteroid(id=2467336, name='467336 (2002 LT38)', estimated_diameter=450.8582061718, is_potentially_dangerous=True, CloseApproach_objects=[]), orbiting_body='Venus', approach_date=datetime.date(2118, 6, 2), miss_distance=19294722.97052195, relative_velocity=8.5760959822), CloseApproach(asteroid=Asteroid(id=2467336, name='467336 (2002 LT38)', estimated_diameter=450.8582061718, is_potentially_dangerous=True, CloseApproach_objects=[]), orbiting_body='Earth', approach_date=datetime.date(2120, 4, 13), miss_distance=18107811.18109454, relative_velocity=9.984874186), CloseApproach(asteroid=Asteroid(id=2467336, name='467336 (2002 LT38)', estimated_diameter=450.8582061718, is_potentially_dangerous=True, CloseApproach_objects=[]), orbiting_body='Earth', approach_date=datetime.date(2120, 10, 6), miss_distance=55793084.58894125, relative_velocity=11.4696473924), CloseApproach(asteroid=Asteroid(id=2467336, name='467336 (2002 LT38)', estimated_diameter=450.8582061718, is_potentially_dangerous=True, CloseApproach_objects=[]), orbiting_body='Venus', approach_date=datetime.date(2121, 8, 10), miss_distance=21758953.329349615, relative_velocity=11.6516509864), CloseApproach(asteroid=Asteroid(id=2467336, name='467336 (2002 LT38)', estimated_diameter=450.8582061718, is_potentially_dangerous=True, CloseApproach_objects=[]), orbiting_body='Earth', approach_date=datetime.date(2123, 12, 20), miss_distance=58603864.397538714, relative_velocity=14.1416621348), CloseApproach(asteroid=Asteroid(id=2467336, name='467336 (2002 LT38)', estimated_diameter=450.8582061718, is_potentially_dangerous=True, CloseApproach_objects=[]), orbiting_body='Earth', approach_date=datetime.date(2124, 6, 28), miss_distance=34003679.865163796, relative_velocity=14.588742582), CloseApproach(asteroid=Asteroid(id=2467336, name='467336 (2002 LT38)', estimated_diameter=450.8582061718, is_potentially_dangerous=True, CloseApproach_objects=[]), orbiting_body='Venus', approach_date=datetime.date(2124, 10, 13), miss_distance=15226827.665189441, relative_velocity=10.4791656303), CloseApproach(asteroid=Asteroid(id=2467336, name='467336 (2002 LT38)', estimated_diameter=450.8582061718, is_potentially_dangerous=True, CloseApproach_objects=[]), orbiting_body='Earth', approach_date=datetime.date(2127, 4, 16), miss_distance=13044015.493721608, relative_velocity=7.8333555508), CloseApproach(asteroid=Asteroid(id=2467336, name='467336 (2002 LT38)', estimated_diameter=450.8582061718, is_potentially_dangerous=True, CloseApproach_objects=[]), orbiting_body='Earth', approach_date=datetime.date(2127, 9, 25), miss_distance=52684385.304652125, relative_velocity=9.8207664423), CloseApproach(asteroid=Asteroid(id=2467336, name='467336 (2002 LT38)', estimated_diameter=450.8582061718, is_potentially_dangerous=True, CloseApproach_objects=[]), orbiting_body='Earth', approach_date=datetime.date(2130, 12, 12), miss_distance=59834597.12807609, relative_velocity=14.7280448146), CloseApproach(asteroid=Asteroid(id=2467336, name='467336 (2002 LT38)', estimated_diameter=450.8582061718, is_potentially_dangerous=True, CloseApproach_objects=[]), orbiting_body='Earth', approach_date=datetime.date(2131, 6, 27), miss_distance=44143915.32668099, relative_velocity=16.7384788171), CloseApproach(asteroid=Asteroid(id=2467336, name='467336 (2002 LT38)', estimated_diameter=450.8582061718, is_potentially_dangerous=True, CloseApproach_objects=[]), orbiting_body='Venus', approach_date=datetime.date(2133, 2, 24), miss_distance=18850593.911867272, relative_velocity=12.5161183297), CloseApproach(asteroid=Asteroid(id=2467336, name='467336 (2002 LT38)', estimated_diameter=450.8582061718, is_potentially_dangerous=True, CloseApproach_objects=[]), orbiting_body='Earth', approach_date=datetime.date(2134, 4, 26), miss_distance=13709730.114203246, relative_velocity=6.7249343845), CloseApproach(asteroid=Asteroid(id=2467336, name='467336 (2002 LT38)', estimated_diameter=450.8582061718, is_potentially_dangerous=True, CloseApproach_objects=[]), orbiting_body='Earth', approach_date=datetime.date(2134, 9, 13), miss_distance=49060239.752574906, relative_velocity=7.9662964164), CloseApproach(asteroid=Asteroid(id=2467336, name='467336 (2002 LT38)', estimated_diameter=450.8582061718, is_potentially_dangerous=True, CloseApproach_objects=[]), orbiting_body='Venus', approach_date=datetime.date(2136, 5, 2), miss_distance=22250555.207598183, relative_velocity=10.9867178241), CloseApproach(asteroid=Asteroid(id=2467336, name='467336 (2002 LT38)', estimated_diameter=450.8582061718, is_potentially_dangerous=True, CloseApproach_objects=[]), orbiting_body='Earth', approach_date=datetime.date(2137, 12, 3), miss_distance=60699752.95103986, relative_velocity=15.0702601872), CloseApproach(asteroid=Asteroid(id=2467336, name='467336 (2002 LT38)', estimated_diameter=450.8582061718, is_potentially_dangerous=True, CloseApproach_objects=[]), orbiting_body='Earth', approach_date=datetime.date(2138, 6, 24), miss_distance=54531013.483245015, relative_velocity=18.9324401705), CloseApproach(asteroid=Asteroid(id=2467336, name='467336 (2002 LT38)', estimated_diameter=450.8582061718, is_potentially_dangerous=True, CloseApproach_objects=[]), orbiting_body='Venus', approach_date=datetime.date(2139, 7, 4), miss_distance=18378310.593917742, relative_velocity=10.8675698997), CloseApproach(asteroid=Asteroid(id=2467336, name='467336 (2002 LT38)', estimated_diameter=450.8582061718, is_potentially_dangerous=True, CloseApproach_objects=[]), orbiting_body='Earth', approach_date=datetime.date(2141, 5, 12), miss_distance=15517980.305628465, relative_velocity=6.5654934023), CloseApproach(asteroid=Asteroid(id=2467336, name='467336 (2002 LT38)', estimated_diameter=450.8582061718, is_potentially_dangerous=True, CloseApproach_objects=[]), orbiting_body='Earth', approach_date=datetime.date(2141, 8, 25), miss_distance=43419318.864889055, relative_velocity=4.6859958497), CloseApproach(asteroid=Asteroid(id=2467336, name='467336 (2002 LT38)', estimated_diameter=450.8582061718, is_potentially_dangerous=True, CloseApproach_objects=[]), orbiting_body='Venus', approach_date=datetime.date(2142, 8, 30), miss_distance=19993792.306093466, relative_velocity=14.8967095058), CloseApproach(asteroid=Asteroid(id=2467336, name='467336 (2002 LT38)', estimated_diameter=450.8582061718, is_potentially_dangerous=True, CloseApproach_objects=[]), orbiting_body='Earth', approach_date=datetime.date(2144, 4, 26), miss_distance=74082859.21400923, relative_velocity=22.8312377529), CloseApproach(asteroid=Asteroid(id=2467336, name='467336 (2002 LT38)', estimated_diameter=450.8582061718, is_potentially_dangerous=True, CloseApproach_objects=[]), orbiting_body='Earth', approach_date=datetime.date(2144, 11, 24), miss_distance=61180617.277611524, relative_velocity=15.1701351323), CloseApproach(asteroid=Asteroid(id=2467336, name='467336 (2002 LT38)', estimated_diameter=450.8582061718, is_potentially_dangerous=True, CloseApproach_objects=[]), orbiting_body='Earth', approach_date=datetime.date(2145, 6, 21), miss_distance=64970005.97404865, relative_velocity=21.1645058348), CloseApproach(asteroid=Asteroid(id=2467336, name='467336 (2002 LT38)', estimated_diameter=450.8582061718, is_potentially_dangerous=True, CloseApproach_objects=[]), orbiting_body='Earth', approach_date=datetime.date(2148, 5, 28), miss_distance=15132563.773414819, relative_velocity=6.5810390507), CloseApproach(asteroid=Asteroid(id=2467336, name='467336 (2002 LT38)', estimated_diameter=450.8582061718, is_potentially_dangerous=True, CloseApproach_objects=[]), orbiting_body='Venus', approach_date=datetime.date(2151, 1, 18), miss_distance=20581966.47596927, relative_velocity=9.0733369263), CloseApproach(asteroid=Asteroid(id=2467336, name='467336 (2002 LT38)', estimated_diameter=450.8582061718, is_potentially_dangerous=True, CloseApproach_objects=[]), orbiting_body='Earth', approach_date=datetime.date(2151, 4, 24), miss_distance=64189545.10486368, relative_velocity=20.6879407767), CloseApproach(asteroid=Asteroid(id=2467336, name='467336 (2002 LT38)', estimated_diameter=450.8582061718, is_potentially_dangerous=True, CloseApproach_objects=[]), orbiting_body='Earth', approach_date=datetime.date(2151, 11, 17), miss_distance=61262329.95297251, relative_velocity=15.0822542662), CloseApproach(asteroid=Asteroid(id=2467336, name='467336 (2002 LT38)', estimated_diameter=450.8582061718, is_potentially_dangerous=True, CloseApproach_objects=[]), orbiting_body='Venus', approach_date=datetime.date(2154, 3, 26), miss_distance=20984099.687527984, relative_velocity=11.5950809119), CloseApproach(asteroid=Asteroid(id=2467336, name='467336 (2002 LT38)', estimated_diameter=450.8582061718, is_potentially_dangerous=True, CloseApproach_objects=[]), orbiting_body='Earth', approach_date=datetime.date(2155, 2, 8), miss_distance=44792404.39570297, relative_velocity=7.455886769), CloseApproach(asteroid=Asteroid(id=2467336, name='467336 (2002 LT38)', estimated_diameter=450.8582061718, is_potentially_dangerous=True, CloseApproach_objects=[]), orbiting_body='Earth', approach_date=datetime.date(2155, 6, 13), miss_distance=12090774.754445912, relative_velocity=6.5864234459), CloseApproach(asteroid=Asteroid(id=2467336, name='467336 (2002 LT38)', estimated_diameter=450.8582061718, is_potentially_dangerous=True, CloseApproach_objects=[]), orbiting_body='Venus', approach_date=datetime.date(2157, 5, 28), miss_distance=14973975.71469866, relative_velocity=11.5035541471), CloseApproach(asteroid=Asteroid(id=2467336, name='467336 (2002 LT38)', estimated_diameter=450.8582061718, is_potentially_dangerous=True, CloseApproach_objects=[]), orbiting_body='Earth', approach_date=datetime.date(2158, 4, 21), miss_distance=54766010.53899684, relative_velocity=18.6147615002), CloseApproach(asteroid=Asteroid(id=2467336, name='467336 (2002 LT38)', estimated_diameter=450.8582061718, is_potentially_dangerous=True, CloseApproach_objects=[]), orbiting_body='Earth', approach_date=datetime.date(2158, 11, 9), miss_distance=60998701.076645434, relative_velocity=14.7972819722), CloseApproach(asteroid=Asteroid(id=2467336, name='467336 (2002 LT38)', estimated_diameter=450.8582061718, is_potentially_dangerous=True, CloseApproach_objects=[]), orbiting_body='Earth', approach_date=datetime.date(2162, 1, 28), miss_distance=48340564.656791724, relative_velocity=9.2297549333), CloseApproach(asteroid=Asteroid(id=2467336, name='467336 (2002 LT38)', estimated_diameter=450.8582061718, is_potentially_dangerous=True, CloseApproach_objects=[]), orbiting_body='Earth', approach_date=datetime.date(2162, 6, 23), miss_distance=8056937.229312917, relative_velocity=6.9331014736), CloseApproach(asteroid=Asteroid(id=2467336, name='467336 (2002 LT38)', estimated_diameter=450.8582061718, is_potentially_dangerous=True, CloseApproach_objects=[]), orbiting_body='Earth', approach_date=datetime.date(2165, 4, 19), miss_distance=47875414.09048486, relative_velocity=17.1213592612), CloseApproach(asteroid=Asteroid(id=2467336, name='467336 (2002 LT38)', estimated_diameter=450.8582061718, is_potentially_dangerous=True, CloseApproach_objects=[]), orbiting_body='Venus', approach_date=datetime.date(2165, 10, 10), miss_distance=18447546.80692073, relative_velocity=9.0893399123), CloseApproach(asteroid=Asteroid(id=2467336, name='467336 (2002 LT38)', estimated_diameter=450.8582061718, is_potentially_dangerous=True, CloseApproach_objects=[]), orbiting_body='Earth', approach_date=datetime.date(2165, 11, 4), miss_distance=60597729.62718535, relative_velocity=14.4482987481), CloseApproach(asteroid=Asteroid(id=2467336, name='467336 (2002 LT38)', estimated_diameter=450.8582061718, is_potentially_dangerous=True, CloseApproach_objects=[]), orbiting_body='Venus', approach_date=datetime.date(2168, 12, 24), miss_distance=21596912.46203513, relative_velocity=11.6340509131), CloseApproach(asteroid=Asteroid(id=2467336, name='467336 (2002 LT38)', estimated_diameter=450.8582061718, is_potentially_dangerous=True, CloseApproach_objects=[]), orbiting_body='Earth', approach_date=datetime.date(2169, 1, 21), miss_distance=50443448.855487674, relative_velocity=10.2336370668), CloseApproach(asteroid=Asteroid(id=2467336, name='467336 (2002 LT38)', estimated_diameter=450.8582061718, is_potentially_dangerous=True, CloseApproach_objects=[]), orbiting_body='Earth', approach_date=datetime.date(2169, 6, 28), miss_distance=5676769.683504579, relative_velocity=7.600542029), CloseApproach(asteroid=Asteroid(id=2467336, name='467336 (2002 LT38)', estimated_diameter=450.8582061718, is_potentially_dangerous=True, CloseApproach_objects=[]), orbiting_body='Venus', approach_date=datetime.date(2172, 2, 29), miss_distance=14822136.060777562, relative_velocity=10.833679432), CloseApproach(asteroid=Asteroid(id=2467336, name='467336 (2002 LT38)', estimated_diameter=450.8582061718, is_potentially_dangerous=True, CloseApproach_objects=[]), orbiting_body='Earth', approach_date=datetime.date(2172, 4, 17), miss_distance=41913927.436989084, relative_velocity=15.7955370966), CloseApproach(asteroid=Asteroid(id=2467336, name='467336 (2002 LT38)', estimated_diameter=450.8582061718, is_potentially_dangerous=True, CloseApproach_objects=[]), orbiting_body='Earth', approach_date=datetime.date(2172, 10, 29), miss_distance=60105604.05167327, relative_velocity=14.1127008161), CloseApproach(asteroid=Asteroid(id=2467336, name='467336 (2002 LT38)', estimated_diameter=450.8582061718, is_potentially_dangerous=True, CloseApproach_objects=[]), orbiting_body='Earth', approach_date=datetime.date(2176, 1, 16), miss_distance=52232158.51329435, relative_velocity=11.0766495209), CloseApproach(asteroid=Asteroid(id=2467336, name='467336 (2002 LT38)', estimated_diameter=450.8582061718, is_potentially_dangerous=True, CloseApproach_objects=[]), orbiting_body='Earth', approach_date=datetime.date(2176, 6, 30), miss_distance=6743651.846334295, relative_velocity=8.5023373555), CloseApproach(asteroid=Asteroid(id=2467336, name='467336 (2002 LT38)', estimated_diameter=450.8582061718, is_potentially_dangerous=True, CloseApproach_objects=[]), orbiting_body='Earth', approach_date=datetime.date(2179, 4, 16), miss_distance=34947876.051857375, relative_velocity=14.2495104578), CloseApproach(asteroid=Asteroid(id=2467336, name='467336 (2002 LT38)', estimated_diameter=450.8582061718, is_potentially_dangerous=True, CloseApproach_objects=[]), orbiting_body='Earth', approach_date=datetime.date(2179, 10, 24), miss_distance=59356839.365832634, relative_velocity=13.5646326235), CloseApproach(asteroid=Asteroid(id=2467336, name='467336 (2002 LT38)', estimated_diameter=450.8582061718, is_potentially_dangerous=True, CloseApproach_objects=[]), orbiting_body='Venus', approach_date=datetime.date(2180, 7, 12), miss_distance=17788123.853977256, relative_velocity=10.1814479426), CloseApproach(asteroid=Asteroid(id=2467336, name='467336 (2002 LT38)', estimated_diameter=450.8582061718, is_potentially_dangerous=True, CloseApproach_objects=[]), orbiting_body='Earth', approach_date=datetime.date(2183, 1, 7), miss_distance=54861449.7613969, relative_velocity=12.3434119325), CloseApproach(asteroid=Asteroid(id=2467336, name='467336 (2002 LT38)', estimated_diameter=450.8582061718, is_potentially_dangerous=True, CloseApproach_objects=[]), orbiting_body='Earth', approach_date=datetime.date(2183, 7, 2), miss_distance=14376367.31970896, relative_velocity=10.3615496176), CloseApproach(asteroid=Asteroid(id=2467336, name='467336 (2002 LT38)', estimated_diameter=450.8582061718, is_potentially_dangerous=True, CloseApproach_objects=[]), orbiting_body='Venus', approach_date=datetime.date(2183, 9, 23), miss_distance=22217061.037373897, relative_velocity=11.5215858619), CloseApproach(asteroid=Asteroid(id=2467336, name='467336 (2002 LT38)', estimated_diameter=450.8582061718, is_potentially_dangerous=True, CloseApproach_objects=[]), orbiting_body='Earth', approach_date=datetime.date(2186, 4, 14), miss_distance=24779916.42492157, relative_velocity=11.834460449), CloseApproach(asteroid=Asteroid(id=2467336, name='467336 (2002 LT38)', estimated_diameter=450.8582061718, is_potentially_dangerous=True, CloseApproach_objects=[]), orbiting_body='Earth', approach_date=datetime.date(2186, 10, 14), miss_distance=57639903.41505967, relative_velocity=12.4957444021), CloseApproach(asteroid=Asteroid(id=2467336, name='467336 (2002 LT38)', estimated_diameter=450.8582061718, is_potentially_dangerous=True, CloseApproach_objects=[]), orbiting_body='Venus', approach_date=datetime.date(2186, 11, 23), miss_distance=16806076.159899894, relative_velocity=10.4152544719), CloseApproach(asteroid=Asteroid(id=2467336, name='467336 (2002 LT38)', estimated_diameter=450.8582061718, is_potentially_dangerous=True, CloseApproach_objects=[]), orbiting_body='Earth', approach_date=datetime.date(2189, 12, 27), miss_distance=57359864.37046337, relative_velocity=13.5454777154), CloseApproach(asteroid=Asteroid(id=2467336, name='467336 (2002 LT38)', estimated_diameter=450.8582061718, is_potentially_dangerous=True, CloseApproach_objects=[]), orbiting_body='Earth', approach_date=datetime.date(2190, 6, 30), miss_distance=25789873.426741444, relative_velocity=12.8518479735), CloseApproach(asteroid=Asteroid(id=2467336, name='467336 (2002 LT38)', estimated_diameter=450.8582061718, is_potentially_dangerous=True, CloseApproach_objects=[]), orbiting_body='Earth', approach_date=datetime.date(2193, 4, 14), miss_distance=15851030.07352904, relative_velocity=9.3454533937), CloseApproach(asteroid=Asteroid(id=2467336, name='467336 (2002 LT38)', estimated_diameter=450.8582061718, is_potentially_dangerous=True, CloseApproach_objects=[]), orbiting_body='Earth', approach_date=datetime.date(2193, 10, 3), miss_distance=55038945.55474151, relative_velocity=11.0643239008), CloseApproach(asteroid=Asteroid(id=2467336, name='467336 (2002 LT38)', estimated_diameter=450.8582061718, is_potentially_dangerous=True, CloseApproach_objects=[]), orbiting_body='Earth', approach_date=datetime.date(2196, 12, 17), miss_distance=59045821.07072419, relative_velocity=14.328489032), CloseApproach(asteroid=Asteroid(id=2467336, name='467336 (2002 LT38)', estimated_diameter=450.8582061718, is_potentially_dangerous=True, CloseApproach_objects=[]), orbiting_body='Earth', approach_date=datetime.date(2197, 6, 28), miss_distance=36778656.77456904, relative_velocity=15.1651010793), CloseApproach(asteroid=Asteroid(id=2467336, name='467336 (2002 LT38)', estimated_diameter=450.8582061718, is_potentially_dangerous=True, CloseApproach_objects=[]), orbiting_body='Venus', approach_date=datetime.date(2198, 6, 9), miss_distance=21423005.14759715, relative_velocity=9.8851907161), CloseApproach(asteroid=Asteroid(id=2467336, name='467336 (2002 LT38)', estimated_diameter=450.8582061718, is_potentially_dangerous=True, CloseApproach_objects=[]), orbiting_body='Earth', approach_date=datetime.date(2200, 4, 19), miss_distance=12565478.236816728, relative_velocity=7.406776711), CloseApproach(asteroid=Asteroid(id=2467336, name='467336 (2002 LT38)', estimated_diameter=450.8582061718, is_potentially_dangerous=True, CloseApproach_objects=[]), orbiting_body='Earth', approach_date=datetime.date(2200, 9, 22), miss_distance=51758902.315516844, relative_velocity=9.3765352346)])\n",
            "Asteroid(id=54087767, name='(2020 VA4)', estimated_diameter=19.6806745089, is_potentially_dangerous=False, CloseApproach_objects=[CloseApproach(asteroid=Asteroid(id=54087767, name='(2020 VA4)', estimated_diameter=19.6806745089, is_potentially_dangerous=False, CloseApproach_objects=[]), orbiting_body='Earth', approach_date=datetime.date(1933, 11, 19), miss_distance=70484061.56990418, relative_velocity=19.1453490639), CloseApproach(asteroid=Asteroid(id=54087767, name='(2020 VA4)', estimated_diameter=19.6806745089, is_potentially_dangerous=False, CloseApproach_objects=[]), orbiting_body='Earth', approach_date=datetime.date(1934, 11, 12), miss_distance=42227872.509705566, relative_velocity=13.330779153), CloseApproach(asteroid=Asteroid(id=54087767, name='(2020 VA4)', estimated_diameter=19.6806745089, is_potentially_dangerous=False, CloseApproach_objects=[]), orbiting_body='Earth', approach_date=datetime.date(1935, 11, 5), miss_distance=13633309.089498837, relative_velocity=7.5055552912), CloseApproach(asteroid=Asteroid(id=54087767, name='(2020 VA4)', estimated_diameter=19.6806745089, is_potentially_dangerous=False, CloseApproach_objects=[]), orbiting_body='Earth', approach_date=datetime.date(1966, 11, 15), miss_distance=57256335.762921356, relative_velocity=16.4154148543), CloseApproach(asteroid=Asteroid(id=54087767, name='(2020 VA4)', estimated_diameter=19.6806745089, is_potentially_dangerous=False, CloseApproach_objects=[]), orbiting_body='Earth', approach_date=datetime.date(1967, 11, 8), miss_distance=29618799.224562574, relative_velocity=10.7580619375), CloseApproach(asteroid=Asteroid(id=54087767, name='(2020 VA4)', estimated_diameter=19.6806745089, is_potentially_dangerous=False, CloseApproach_objects=[]), orbiting_body='Earth', approach_date=datetime.date(1968, 11, 1), miss_distance=2202009.88660749, relative_velocity=5.1980955286), CloseApproach(asteroid=Asteroid(id=54087767, name='(2020 VA4)', estimated_diameter=19.6806745089, is_potentially_dangerous=False, CloseApproach_objects=[]), orbiting_body='Earth', approach_date=datetime.date(1969, 9, 22), miss_distance=17546997.698692597, relative_velocity=3.2809988808), CloseApproach(asteroid=Asteroid(id=54087767, name='(2020 VA4)', estimated_diameter=19.6806745089, is_potentially_dangerous=False, CloseApproach_objects=[]), orbiting_body='Earth', approach_date=datetime.date(1969, 12, 4), miss_distance=15908999.69694765, relative_velocity=3.4610245763), CloseApproach(asteroid=Asteroid(id=54087767, name='(2020 VA4)', estimated_diameter=19.6806745089, is_potentially_dangerous=False, CloseApproach_objects=[]), orbiting_body='Earth', approach_date=datetime.date(1970, 8, 9), miss_distance=24720842.3802679, relative_velocity=5.1009267274), CloseApproach(asteroid=Asteroid(id=54087767, name='(2020 VA4)', estimated_diameter=19.6806745089, is_potentially_dangerous=False, CloseApproach_objects=[]), orbiting_body='Earth', approach_date=datetime.date(1971, 1, 12), miss_distance=21243016.739582814, relative_velocity=4.2718824216), CloseApproach(asteroid=Asteroid(id=54087767, name='(2020 VA4)', estimated_diameter=19.6806745089, is_potentially_dangerous=False, CloseApproach_objects=[]), orbiting_body='Earth', approach_date=datetime.date(1971, 7, 5), miss_distance=25393048.665680103, relative_velocity=5.2630920445), CloseApproach(asteroid=Asteroid(id=54087767, name='(2020 VA4)', estimated_diameter=19.6806745089, is_potentially_dangerous=False, CloseApproach_objects=[]), orbiting_body='Earth', approach_date=datetime.date(1972, 2, 19), miss_distance=18120896.072949618, relative_velocity=3.7925285342), CloseApproach(asteroid=Asteroid(id=54087767, name='(2020 VA4)', estimated_diameter=19.6806745089, is_potentially_dangerous=False, CloseApproach_objects=[]), orbiting_body='Earth', approach_date=datetime.date(1972, 5, 26), miss_distance=20223699.96750895, relative_velocity=3.919275571), CloseApproach(asteroid=Asteroid(id=54087767, name='(2020 VA4)', estimated_diameter=19.6806745089, is_potentially_dangerous=False, CloseApproach_objects=[]), orbiting_body='Venus', approach_date=datetime.date(1972, 7, 2), miss_distance=17828561.085745048, relative_velocity=1.8433242849), CloseApproach(asteroid=Asteroid(id=54087767, name='(2020 VA4)', estimated_diameter=19.6806745089, is_potentially_dangerous=False, CloseApproach_objects=[]), orbiting_body='Earth', approach_date=datetime.date(1973, 4, 3), miss_distance=2760824.217873687, relative_velocity=4.226725621), CloseApproach(asteroid=Asteroid(id=54087767, name='(2020 VA4)', estimated_diameter=19.6806745089, is_potentially_dangerous=False, CloseApproach_objects=[]), orbiting_body='Earth', approach_date=datetime.date(1974, 3, 31), miss_distance=13192371.566762526, relative_velocity=7.3743378144), CloseApproach(asteroid=Asteroid(id=54087767, name='(2020 VA4)', estimated_diameter=19.6806745089, is_potentially_dangerous=False, CloseApproach_objects=[]), orbiting_body='Earth', approach_date=datetime.date(1975, 3, 27), miss_distance=30094904.05002083, relative_velocity=10.7873398263), CloseApproach(asteroid=Asteroid(id=54087767, name='(2020 VA4)', estimated_diameter=19.6806745089, is_potentially_dangerous=False, CloseApproach_objects=[]), orbiting_body='Earth', approach_date=datetime.date(1976, 3, 22), miss_distance=47178167.54512015, relative_velocity=14.2643857696), CloseApproach(asteroid=Asteroid(id=54087767, name='(2020 VA4)', estimated_diameter=19.6806745089, is_potentially_dangerous=False, CloseApproach_objects=[]), orbiting_body='Earth', approach_date=datetime.date(1977, 3, 17), miss_distance=64233471.871506885, relative_velocity=17.7424954892), CloseApproach(asteroid=Asteroid(id=54087767, name='(2020 VA4)', estimated_diameter=19.6806745089, is_potentially_dangerous=False, CloseApproach_objects=[]), orbiting_body='Venus', approach_date=datetime.date(1977, 6, 21), miss_distance=21194172.795671225, relative_velocity=1.296234383), CloseApproach(asteroid=Asteroid(id=54087767, name='(2020 VA4)', estimated_diameter=19.6806745089, is_potentially_dangerous=False, CloseApproach_objects=[]), orbiting_body='Venus', approach_date=datetime.date(2008, 10, 9), miss_distance=19898206.148665484, relative_velocity=2.0701931536), CloseApproach(asteroid=Asteroid(id=54087767, name='(2020 VA4)', estimated_diameter=19.6806745089, is_potentially_dangerous=False, CloseApproach_objects=[]), orbiting_body='Venus', approach_date=datetime.date(2013, 9, 26), miss_distance=18374353.386181142, relative_velocity=1.6713233431), CloseApproach(asteroid=Asteroid(id=54087767, name='(2020 VA4)', estimated_diameter=19.6806745089, is_potentially_dangerous=False, CloseApproach_objects=[]), orbiting_body='Earth', approach_date=datetime.date(2016, 11, 15), miss_distance=65559466.655686885, relative_velocity=18.0794546566), CloseApproach(asteroid=Asteroid(id=54087767, name='(2020 VA4)', estimated_diameter=19.6806745089, is_potentially_dangerous=False, CloseApproach_objects=[]), orbiting_body='Earth', approach_date=datetime.date(2017, 11, 11), miss_distance=48399273.38344686, relative_velocity=14.5515301541), CloseApproach(asteroid=Asteroid(id=54087767, name='(2020 VA4)', estimated_diameter=19.6806745089, is_potentially_dangerous=False, CloseApproach_objects=[]), orbiting_body='Earth', approach_date=datetime.date(2018, 11, 6), miss_distance=31137880.14410923, relative_velocity=11.0366666978), CloseApproach(asteroid=Asteroid(id=54087767, name='(2020 VA4)', estimated_diameter=19.6806745089, is_potentially_dangerous=False, CloseApproach_objects=[]), orbiting_body='Earth', approach_date=datetime.date(2019, 11, 2), miss_distance=13932204.242498646, relative_velocity=7.5576943301), CloseApproach(asteroid=Asteroid(id=54087767, name='(2020 VA4)', estimated_diameter=19.6806745089, is_potentially_dangerous=False, CloseApproach_objects=[]), orbiting_body='Earth', approach_date=datetime.date(2020, 10, 29), miss_distance=2468199.983187473, relative_velocity=4.2957027047), CloseApproach(asteroid=Asteroid(id=54087767, name='(2020 VA4)', estimated_diameter=19.6806745089, is_potentially_dangerous=False, CloseApproach_objects=[]), orbiting_body='Earth', approach_date=datetime.date(2021, 9, 6), miss_distance=20309420.459565956, relative_velocity=3.9560066735), CloseApproach(asteroid=Asteroid(id=54087767, name='(2020 VA4)', estimated_diameter=19.6806745089, is_potentially_dangerous=False, CloseApproach_objects=[]), orbiting_body='Earth', approach_date=datetime.date(2021, 12, 13), miss_distance=18187948.21688975, relative_velocity=3.80772893), CloseApproach(asteroid=Asteroid(id=54087767, name='(2020 VA4)', estimated_diameter=19.6806745089, is_potentially_dangerous=False, CloseApproach_objects=[]), orbiting_body='Earth', approach_date=datetime.date(2022, 7, 28), miss_distance=25489942.47304954, relative_velocity=5.2735382219), CloseApproach(asteroid=Asteroid(id=54087767, name='(2020 VA4)', estimated_diameter=19.6806745089, is_potentially_dangerous=False, CloseApproach_objects=[]), orbiting_body='Earth', approach_date=datetime.date(2023, 1, 20), miss_distance=21094340.856215414, relative_velocity=4.2789062322), CloseApproach(asteroid=Asteroid(id=54087767, name='(2020 VA4)', estimated_diameter=19.6806745089, is_potentially_dangerous=False, CloseApproach_objects=[]), orbiting_body='Earth', approach_date=datetime.date(2023, 6, 22), miss_distance=24591770.609613795, relative_velocity=5.0247675313), CloseApproach(asteroid=Asteroid(id=54087767, name='(2020 VA4)', estimated_diameter=19.6806745089, is_potentially_dangerous=False, CloseApproach_objects=[]), orbiting_body='Earth', approach_date=datetime.date(2024, 3, 3), miss_distance=14819362.217072021, relative_velocity=3.2984310469), CloseApproach(asteroid=Asteroid(id=54087767, name='(2020 VA4)', estimated_diameter=19.6806745089, is_potentially_dangerous=False, CloseApproach_objects=[]), orbiting_body='Earth', approach_date=datetime.date(2024, 5, 2), miss_distance=16373414.870045168, relative_velocity=2.8476103214), CloseApproach(asteroid=Asteroid(id=54087767, name='(2020 VA4)', estimated_diameter=19.6806745089, is_potentially_dangerous=False, CloseApproach_objects=[]), orbiting_body='Earth', approach_date=datetime.date(2025, 3, 30), miss_distance=4444491.08337756, relative_velocity=5.635763222), CloseApproach(asteroid=Asteroid(id=54087767, name='(2020 VA4)', estimated_diameter=19.6806745089, is_potentially_dangerous=False, CloseApproach_objects=[]), orbiting_body='Earth', approach_date=datetime.date(2026, 3, 25), miss_distance=28793589.48859961, relative_velocity=10.5251094954), CloseApproach(asteroid=Asteroid(id=54087767, name='(2020 VA4)', estimated_diameter=19.6806745089, is_potentially_dangerous=False, CloseApproach_objects=[]), orbiting_body='Earth', approach_date=datetime.date(2027, 3, 19), miss_distance=53235837.96961498, relative_velocity=15.4972367803), CloseApproach(asteroid=Asteroid(id=54087767, name='(2020 VA4)', estimated_diameter=19.6806745089, is_potentially_dangerous=False, CloseApproach_objects=[]), orbiting_body='Venus', approach_date=datetime.date(2030, 4, 23), miss_distance=18582036.17467816, relative_velocity=2.0235495633), CloseApproach(asteroid=Asteroid(id=54087767, name='(2020 VA4)', estimated_diameter=19.6806745089, is_potentially_dangerous=False, CloseApproach_objects=[]), orbiting_body='Venus', approach_date=datetime.date(2042, 1, 5), miss_distance=17520592.163699113, relative_velocity=1.9005913886), CloseApproach(asteroid=Asteroid(id=54087767, name='(2020 VA4)', estimated_diameter=19.6806745089, is_potentially_dangerous=False, CloseApproach_objects=[]), orbiting_body='Venus', approach_date=datetime.date(2053, 9, 19), miss_distance=17474167.351983503, relative_velocity=1.7531375154), CloseApproach(asteroid=Asteroid(id=54087767, name='(2020 VA4)', estimated_diameter=19.6806745089, is_potentially_dangerous=False, CloseApproach_objects=[]), orbiting_body='Earth', approach_date=datetime.date(2055, 11, 14), miss_distance=57586549.40952311, relative_velocity=16.4586281294), CloseApproach(asteroid=Asteroid(id=54087767, name='(2020 VA4)', estimated_diameter=19.6806745089, is_potentially_dangerous=False, CloseApproach_objects=[]), orbiting_body='Earth', approach_date=datetime.date(2056, 11, 7), miss_distance=33113374.09708924, relative_velocity=11.4556748287), CloseApproach(asteroid=Asteroid(id=54087767, name='(2020 VA4)', estimated_diameter=19.6806745089, is_potentially_dangerous=False, CloseApproach_objects=[]), orbiting_body='Earth', approach_date=datetime.date(2057, 11, 1), miss_distance=8679161.190861978, relative_velocity=6.4994644536), CloseApproach(asteroid=Asteroid(id=54087767, name='(2020 VA4)', estimated_diameter=19.6806745089, is_potentially_dangerous=False, CloseApproach_objects=[]), orbiting_body='Earth', approach_date=datetime.date(2058, 11, 21), miss_distance=13306516.132832715, relative_velocity=3.1320768152), CloseApproach(asteroid=Asteroid(id=54087767, name='(2020 VA4)', estimated_diameter=19.6806745089, is_potentially_dangerous=False, CloseApproach_objects=[]), orbiting_body='Earth', approach_date=datetime.date(2059, 8, 11), miss_distance=24656609.572745573, relative_velocity=5.0416781942), CloseApproach(asteroid=Asteroid(id=54087767, name='(2020 VA4)', estimated_diameter=19.6806745089, is_potentially_dangerous=False, CloseApproach_objects=[]), orbiting_body='Earth', approach_date=datetime.date(2060, 1, 10), miss_distance=20881279.859734237, relative_velocity=4.2574982954), CloseApproach(asteroid=Asteroid(id=54087767, name='(2020 VA4)', estimated_diameter=19.6806745089, is_potentially_dangerous=False, CloseApproach_objects=[]), orbiting_body='Earth', approach_date=datetime.date(2060, 7, 2), miss_distance=25607072.4740526, relative_velocity=5.269386806), CloseApproach(asteroid=Asteroid(id=54087767, name='(2020 VA4)', estimated_diameter=19.6806745089, is_potentially_dangerous=False, CloseApproach_objects=[]), orbiting_body='Earth', approach_date=datetime.date(2061, 2, 21), miss_distance=16960272.488906253, relative_velocity=3.6489601644), CloseApproach(asteroid=Asteroid(id=54087767, name='(2020 VA4)', estimated_diameter=19.6806745089, is_potentially_dangerous=False, CloseApproach_objects=[]), orbiting_body='Earth', approach_date=datetime.date(2061, 5, 17), miss_distance=19070014.074445557, relative_velocity=3.5580390016), CloseApproach(asteroid=Asteroid(id=54087767, name='(2020 VA4)', estimated_diameter=19.6806745089, is_potentially_dangerous=False, CloseApproach_objects=[]), orbiting_body='Earth', approach_date=datetime.date(2062, 3, 31), miss_distance=2297935.990235258, relative_velocity=5.23797657), CloseApproach(asteroid=Asteroid(id=54087767, name='(2020 VA4)', estimated_diameter=19.6806745089, is_potentially_dangerous=False, CloseApproach_objects=[]), orbiting_body='Earth', approach_date=datetime.date(2063, 3, 25), miss_distance=32204532.838766154, relative_velocity=11.2476350133), CloseApproach(asteroid=Asteroid(id=54087767, name='(2020 VA4)', estimated_diameter=19.6806745089, is_potentially_dangerous=False, CloseApproach_objects=[]), orbiting_body='Earth', approach_date=datetime.date(2064, 3, 16), miss_distance=62020418.625256635, relative_velocity=17.3275750999), CloseApproach(asteroid=Asteroid(id=54087767, name='(2020 VA4)', estimated_diameter=19.6806745089, is_potentially_dangerous=False, CloseApproach_objects=[]), orbiting_body='Venus', approach_date=datetime.date(2072, 3, 19), miss_distance=20587491.693780273, relative_velocity=1.1658723641), CloseApproach(asteroid=Asteroid(id=54087767, name='(2020 VA4)', estimated_diameter=19.6806745089, is_potentially_dangerous=False, CloseApproach_objects=[]), orbiting_body='Venus', approach_date=datetime.date(2078, 12, 20), miss_distance=18797790.336733587, relative_velocity=1.3927020546), CloseApproach(asteroid=Asteroid(id=54087767, name='(2020 VA4)', estimated_diameter=19.6806745089, is_potentially_dangerous=False, CloseApproach_objects=[]), orbiting_body='Venus', approach_date=datetime.date(2085, 9, 22), miss_distance=17959777.50642326, relative_velocity=1.5198002687), CloseApproach(asteroid=Asteroid(id=54087767, name='(2020 VA4)', estimated_diameter=19.6806745089, is_potentially_dangerous=False, CloseApproach_objects=[]), orbiting_body='Earth', approach_date=datetime.date(2086, 11, 17), miss_distance=58944040.87332801, relative_velocity=16.7521941326), CloseApproach(asteroid=Asteroid(id=54087767, name='(2020 VA4)', estimated_diameter=19.6806745089, is_potentially_dangerous=False, CloseApproach_objects=[]), orbiting_body='Earth', approach_date=datetime.date(2087, 11, 10), miss_distance=28382912.1592535, relative_velocity=10.4817851361), CloseApproach(asteroid=Asteroid(id=54087767, name='(2020 VA4)', estimated_diameter=19.6806745089, is_potentially_dangerous=False, CloseApproach_objects=[]), orbiting_body='Earth', approach_date=datetime.date(2088, 11, 3), miss_distance=2272028.855505463, relative_velocity=4.3131617205), CloseApproach(asteroid=Asteroid(id=54087767, name='(2020 VA4)', estimated_diameter=19.6806745089, is_potentially_dangerous=False, CloseApproach_objects=[]), orbiting_body='Earth', approach_date=datetime.date(2089, 8, 14), miss_distance=25444597.51859874, relative_velocity=5.1167817065), CloseApproach(asteroid=Asteroid(id=54087767, name='(2020 VA4)', estimated_diameter=19.6806745089, is_potentially_dangerous=False, CloseApproach_objects=[]), orbiting_body='Earth', approach_date=datetime.date(2090, 1, 14), miss_distance=19580627.777520522, relative_velocity=4.1595869756), CloseApproach(asteroid=Asteroid(id=54087767, name='(2020 VA4)', estimated_diameter=19.6806745089, is_potentially_dangerous=False, CloseApproach_objects=[]), orbiting_body='Earth', approach_date=datetime.date(2090, 6, 18), miss_distance=25497250.852591585, relative_velocity=5.1013573142), CloseApproach(asteroid=Asteroid(id=54087767, name='(2020 VA4)', estimated_diameter=19.6806745089, is_potentially_dangerous=False, CloseApproach_objects=[]), orbiting_body='Earth', approach_date=datetime.date(2091, 3, 28), miss_distance=2333324.069493747, relative_velocity=4.2884230676), CloseApproach(asteroid=Asteroid(id=54087767, name='(2020 VA4)', estimated_diameter=19.6806745089, is_potentially_dangerous=False, CloseApproach_objects=[]), orbiting_body='Earth', approach_date=datetime.date(2092, 3, 22), miss_distance=27979207.736225963, relative_velocity=10.367413668), CloseApproach(asteroid=Asteroid(id=54087767, name='(2020 VA4)', estimated_diameter=19.6806745089, is_potentially_dangerous=False, CloseApproach_objects=[]), orbiting_body='Earth', approach_date=datetime.date(2093, 3, 14), miss_distance=58493684.07030502, relative_velocity=16.5898560765), CloseApproach(asteroid=Asteroid(id=54087767, name='(2020 VA4)', estimated_diameter=19.6806745089, is_potentially_dangerous=False, CloseApproach_objects=[]), orbiting_body='Earth', approach_date=datetime.date(2121, 3, 23), miss_distance=24797142.335416116, relative_velocity=9.7008898001)])\n"
          ]
        }
      ]
    },
    {
      "cell_type": "markdown",
      "source": [
        "LAB 3\n",
        "\n",
        "OPTIONAL\n",
        "\n",
        "With this data structure in place, we can now start answering all kinds of interesting questions about a single Asteroid or a set of Asteroids. Here’s a couple ideas to try:\n",
        "\n",
        " add a method to the Asteroid class, closest_earth_approach, that returns the CloseApproach object that represents the closest approach the Asteroid makes to Earth.\n",
        "\n",
        " write a function named \"most_dangerous_approach\", that takes a date range and returns a single “potentially hazardous” Asteroid object that makes the closest approach to Earth in within that range. Your algorithm will ultimately need to:\n",
        "\n",
        "◦ grab the list of NEO’s for the given date range;\n",
        "\n",
        "◦ use a list comprehension to build the list of Asteroid objects for the NEO’s returned\n",
        "\n",
        "◦ use a list comprehension to filter potentially hazardous Asteroids only;\n",
        "\n",
        "◦ use a list comprehension to map each Asteroid to its closest_earth_approach\n",
        "\n",
        "◦ apply Python’s min function to identify the Asteroid with the closest_earth_approach\n",
        "You may want to decompose some of these steps into smaller functions.\n",
        "\n",
        " add a method to the Asteroid class, estimated_mass, that computes an estimate of the\n",
        "Asteroid’s mass based on its diameter. This is a model – state your assumptions.\n",
        "\n",
        " add a method to the CloseApproach class, impact_force, that estimates the force of impact if the Asteroid hit the orbiting object. Again, this is a model, state your assumptions."
      ],
      "metadata": {
        "id": "YrFcIwO9VTiK"
      }
    }
  ]
}